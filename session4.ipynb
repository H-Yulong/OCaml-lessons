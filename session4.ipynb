{
 "cells": [
  {
   "cell_type": "markdown",
   "id": "64dd158a-833d-4dcf-a9b6-906c5775520b",
   "metadata": {},
   "source": [
    "## Session 4: Error handling and modules"
   ]
  },
  {
   "cell_type": "markdown",
   "id": "ea46d560",
   "metadata": {},
   "source": [
    "### Exceptions"
   ]
  },
  {
   "cell_type": "markdown",
   "id": "fea0cd94",
   "metadata": {},
   "source": [
    "OCaml's type system detects a wide range of *static errors*, such as syntax errors, scope errors, and type errors. Some errors are only discovered at runtime, for example, division by zero:"
   ]
  },
  {
   "cell_type": "code",
   "execution_count": null,
   "id": "1f84ca94",
   "metadata": {
    "vscode": {
     "languageId": "plaintext"
    }
   },
   "outputs": [],
   "source": [
    "let div x y = x / y\n",
    "let _ = div 3 0"
   ]
  },
  {
   "cell_type": "markdown",
   "id": "06af7c46",
   "metadata": {},
   "source": [
    "Such error is fatal to a program: the computation is immediately stopped, and future computation will not be executed. For example, if we map `div 3` to a `[3; 6; 0; 9; 12]`, then `div 3 9` and `div 3 12` will not be evaluated."
   ]
  },
  {
   "cell_type": "code",
   "execution_count": null,
   "id": "4856e5f5",
   "metadata": {
    "vscode": {
     "languageId": "plaintext"
    }
   },
   "outputs": [],
   "source": [
    "let l1 = [3; 6; 0; 9; 12]\n",
    "let _ = List.map (div 3) l1"
   ]
  },
  {
   "cell_type": "markdown",
   "id": "c2a5a2f8",
   "metadata": {},
   "source": [
    "Like other modern languages, OCaml has a way to `catch` exceptions and recover from errors, with a syntax similar to pattern matching. We can define a safe division that takes positive integers `x` and `y`, and returns a negative number `-1` when division by zero happens. Surely, we can also use if-and-else to test if `y = 0`."
   ]
  },
  {
   "cell_type": "code",
   "execution_count": null,
   "id": "47a6bb58",
   "metadata": {
    "vscode": {
     "languageId": "plaintext"
    }
   },
   "outputs": [],
   "source": [
    "let safe_div x y = \n",
    "  try \n",
    "    div x y \n",
    "  with\n",
    "  | Division_by_zero -> -1"
   ]
  },
  {
   "cell_type": "markdown",
   "id": "1784ec5f",
   "metadata": {},
   "source": [
    "In general, one could define a safe map function `safe_map : ('a -> 'b) -> 'b -> 'a list -> 'b list`\n",
    "that maps a function over a list as usual, but if the function throws an exception, we use a given default value as the result. Notice that the wildcard pattern `_` catches all exceptions "
   ]
  },
  {
   "cell_type": "code",
   "execution_count": null,
   "id": "eb111256",
   "metadata": {
    "vscode": {
     "languageId": "plaintext"
    }
   },
   "outputs": [],
   "source": [
    "let rec safe_map f default = function\n",
    "  | [] -> []\n",
    "  | x :: xs -> \n",
    "    let hd = try f x with _ -> default in\n",
    "      hd :: safe_map f default xs"
   ]
  },
  {
   "cell_type": "markdown",
   "id": "9e288fcd",
   "metadata": {},
   "source": [
    "We may define our own exception types that carry parameters and raise exceptions with `raise`. For example, the following `merge` function tests if its two input lists have the same length, and if they don't, `merge` throws an exception with the lengths of the two lists."
   ]
  },
  {
   "cell_type": "code",
   "execution_count": null,
   "id": "a4895b97",
   "metadata": {
    "vscode": {
     "languageId": "plaintext"
    }
   },
   "outputs": [],
   "source": [
    "exception Length_mismatch of int * int\n",
    "\n",
    "let rec merge xs ys f = \n",
    "  let xlen = List.length xs in\n",
    "  let ylen = List.length ys in\n",
    "    if xlen <> ylen then \n",
    "      raise (Length_mismatch (xlen, ylen))\n",
    "    else\n",
    "      match xs, ys with\n",
    "        | [], [] -> []\n",
    "        | x :: xs, y :: ys -> (f x y) :: merge xs ys f\n",
    "        | _ -> assert false"
   ]
  },
  {
   "cell_type": "markdown",
   "id": "e5d83f01",
   "metadata": {},
   "source": [
    "Here we used `assert`, which triggers exception `Assertion_failure` if the code reaches `assert` and the followed condition is not satisfied. So, `assert false` will always trigger exception. However, since we have tested that the input lists have the same length, the third pattern matching case (when two lists have different lengths) is unreachable, so we put `assert false` there to make sure that if the unreachable branch is reached, the program will fail. We also need this to pass the coverage check."
   ]
  },
  {
   "cell_type": "code",
   "execution_count": null,
   "id": "cb0abfef",
   "metadata": {
    "vscode": {
     "languageId": "plaintext"
    }
   },
   "outputs": [],
   "source": [
    "let l1 = [1; 2; 3; 4; 5]\n",
    "let l2 = [2; 1; 4; 3; 5]\n",
    "let f x y = if x > y then x else y\n",
    "let _ = merge l1 l2 f"
   ]
  },
  {
   "cell_type": "markdown",
   "id": "0d5df786",
   "metadata": {},
   "source": [
    "### Option types"
   ]
  },
  {
   "cell_type": "markdown",
   "id": "cd30aef4",
   "metadata": {},
   "source": [
    "Dealing with exceptions is annoying. Given a function `f : int -> int -> int`, how do you know what kinds of exceptions it might throw? There is no indication in the types. In OCaml, however, we can use option types to encode possibly erroneous values."
   ]
  },
  {
   "cell_type": "code",
   "execution_count": null,
   "id": "95dac531",
   "metadata": {
    "vscode": {
     "languageId": "plaintext"
    }
   },
   "outputs": [],
   "source": [
    "type 'a option = None | Some of 'a"
   ]
  },
  {
   "cell_type": "markdown",
   "id": "ac3fdfea",
   "metadata": {},
   "source": [
    "Now, our functions can return `None` when there is an error and `Some x` when there is no error and the result of the function is `x`. Let's write `safe_div` again using this style."
   ]
  },
  {
   "cell_type": "code",
   "execution_count": null,
   "id": "17a4c4d0",
   "metadata": {
    "vscode": {
     "languageId": "plaintext"
    }
   },
   "outputs": [],
   "source": [
    "let safe_div x y = \n",
    "  if y = 0 then \n",
    "    None\n",
    "  else\n",
    "    Some (x / y) "
   ]
  },
  {
   "cell_type": "markdown",
   "id": "cfc5976d",
   "metadata": {},
   "source": [
    "Notice the change in the types: `safe_div` has type `int -> int -> int option`, showing that it is a function that might return an error. We can define further operations on the possibly erroneous value via pattern matching, for example, add `3` to the result of `safe_div`. If we see `None`, we should propagate the error and return `None`. If we see `Some a`, we extract the value `a`, add `3` to it, and put it back into `Some`."
   ]
  },
  {
   "cell_type": "code",
   "execution_count": null,
   "id": "900c8f8f",
   "metadata": {
    "vscode": {
     "languageId": "plaintext"
    }
   },
   "outputs": [],
   "source": [
    "let add3 = function\n",
    "  | None -> None\n",
    "  | Some a -> Some (a + 3)"
   ]
  },
  {
   "cell_type": "markdown",
   "id": "5c6c54fc",
   "metadata": {},
   "source": [
    "In general, we can define a function `bind : 'a option -> ('a -> 'b option) -> 'b option`. `bind` takes two arguments: `x : 'a option`, some input value that could be an error, and `f : 'a -> 'b option`, a function that might produce an error. `bind x f` applies `f` to `x` in the most appropriate way:\n",
    "- If `x` is `None`, `bind x f = None`, meaning that the error is propagated.\n",
    "- If `x` is `Some a`, `bind x f = f x`, meaning that we apply `f` to the concrete value `a`.\n",
    "\n",
    "It is common to write `bind` as an infix operator `>>=`."
   ]
  },
  {
   "cell_type": "code",
   "execution_count": null,
   "id": "5957a398",
   "metadata": {
    "vscode": {
     "languageId": "plaintext"
    }
   },
   "outputs": [],
   "source": [
    "let (>>=) x f =\n",
    "  match x with\n",
    "  | None -> None\n",
    "  | Some a -> f a"
   ]
  },
  {
   "cell_type": "markdown",
   "id": "b8a42068",
   "metadata": {},
   "source": [
    "`bind` is helpful when we're defining sequences of operations that might return errors, for example, we can use pattern matching to compute `(x / y) / (z / w)` via safe_div:"
   ]
  },
  {
   "cell_type": "code",
   "execution_count": null,
   "id": "fb1f4513",
   "metadata": {
    "vscode": {
     "languageId": "plaintext"
    }
   },
   "outputs": [],
   "source": [
    "let div4 x y z w = \n",
    "  match safe_div x y with\n",
    "  | None -> None\n",
    "  | Some k1 ->\n",
    "    match safe_div z w with\n",
    "      | None -> None\n",
    "      | Some k2 -> safe_div k1 k2"
   ]
  },
  {
   "cell_type": "markdown",
   "id": "c0b2d891",
   "metadata": {},
   "source": [
    "The match clauses will go on and on. Instead, using `bind` (written as infix operator `>>=`) gives us the following definition:"
   ]
  },
  {
   "cell_type": "code",
   "execution_count": null,
   "id": "46c1b33b",
   "metadata": {
    "vscode": {
     "languageId": "plaintext"
    }
   },
   "outputs": [],
   "source": [
    "let div4 x y z w =\n",
    "  safe_div x y >>= fun k1 ->\n",
    "  safe_div z w >>= fun k2 ->\n",
    "  safe_div k1 k2"
   ]
  },
  {
   "cell_type": "markdown",
   "id": "03e8d2b8",
   "metadata": {},
   "source": [
    "### Modules"
   ]
  },
  {
   "cell_type": "markdown",
   "id": "c8830958",
   "metadata": {},
   "source": [
    "When our code base grows bigger, we need a way of organizing data structures and their corresponding operations. Module system is the solution. We start with writing a library of stack, implemented with lists."
   ]
  },
  {
   "cell_type": "code",
   "execution_count": null,
   "id": "261182ed",
   "metadata": {
    "vscode": {
     "languageId": "plaintext"
    }
   },
   "outputs": [],
   "source": [
    "type 'a stack = 'a list\n",
    "\n",
    "exception Empty\n",
    "\n",
    "let empty = []\n",
    "\n",
    "let push x st = x :: st\n",
    "\n",
    "let pop = function\n",
    "  | [] -> raise Empty\n",
    "  | _ :: st -> st\n",
    "\n",
    "let top = function\n",
    "  | [] -> raise Empty\n",
    "  | x :: _ -> x\n",
    "\n",
    "let null = function\n",
    "  | [] -> true\n",
    "  | _ :: _ -> false\n",
    "\n",
    "let size = List.length"
   ]
  },
  {
   "cell_type": "markdown",
   "id": "4441b0f0",
   "metadata": {},
   "source": [
    " There are several problems:\n",
    "- The types of the operations are still referring to `'a list`, not `'a stack`.\n",
    "- Future definitions cannot use simple names like `empty` or `length`.\n",
    "- A stack, ideally, should only be modified via `push` and `pop`, but the user can manipulate the stack arbitrarily like manipulating a list.\n",
    "\n",
    "We can solve the first problem by adding type annotations, and the second problem by using `long_and_complicated_function_names`. For the last problem, we can only ask the user politely to not manipulate the stack. \n",
    "\n",
    "The key problem here is that we need a suitable method of *abstraction*, a module that packs the type definitions and functions together and hides the implementation details."
   ]
  },
  {
   "cell_type": "code",
   "execution_count": null,
   "id": "8da85ab6",
   "metadata": {
    "vscode": {
     "languageId": "plaintext"
    }
   },
   "outputs": [],
   "source": [
    "module Stack : sig\n",
    "    type 'a stack\n",
    "    exception Empty\n",
    "    val empty : 'a stack\n",
    "    val push : 'a -> 'a stack -> 'a stack\n",
    "    val pop : 'a stack -> 'a stack\n",
    "    val top : 'a stack -> 'a\n",
    "    val null : 'a stack -> bool\n",
    "    val size : 'a stack -> int\n",
    "end = struct\n",
    "  type 'a stack = 'a list\n",
    "\n",
    "  exception Empty\n",
    "\n",
    "  let empty = []\n",
    "\n",
    "  let push x st = x :: st\n",
    "\n",
    "  let pop = function\n",
    "    | [] -> raise Empty\n",
    "    | _ :: st -> st\n",
    "\n",
    "  let top = function\n",
    "    | [] -> raise Empty\n",
    "    | x :: _ -> x\n",
    "\n",
    "  let null = function\n",
    "    | [] -> true\n",
    "    | _ :: _ -> false\n",
    "\n",
    "  let size = List.length\n",
    "end\n",
    "\n",
    "let st = Stack.empty\n",
    "let st = Stack.push 3 st\n",
    "let st = Stack.push 2 st\n",
    "let v = Stack.top st\n",
    "let st = Stack.pop st\n",
    "let st = Stack.pop st\n",
    "let st = Stack.pop st"
   ]
  },
  {
   "cell_type": "markdown",
   "id": "95d147a2",
   "metadata": {},
   "source": [
    "Here, the `sig` defines the module signature, and `struct` provides a concrete implementation. In a multi-file OCaml project, each file `code.ml` is itself a module `Code` and you can specify its module signature in a header file `code.mli`. We access contents inside modules with dot notations like `Stack.empty` or `Stack.top`."
   ]
  },
  {
   "cell_type": "markdown",
   "id": "c40fb163",
   "metadata": {},
   "source": [
    "As an exercise, let's write the module version of queues using two lists."
   ]
  },
  {
   "cell_type": "code",
   "execution_count": null,
   "id": "c0cd073b",
   "metadata": {
    "vscode": {
     "languageId": "plaintext"
    }
   },
   "outputs": [],
   "source": [
    "module Queue : sig\n",
    "  type 'a queue\n",
    "  exception Empty\n",
    "  val empty : 'a queue\n",
    "  val null : 'a queue -> bool\n",
    "  val enq : 'a -> 'a queue -> 'a queue\n",
    "  val deq : 'a queue -> 'a queue\n",
    "  val top : 'a queue -> 'a\n",
    "  val size : 'a queue -> int\n",
    "end = struct\n",
    "  type 'a queue = 'a list * 'a list\n",
    "  exception Empty\n",
    "\n",
    "  let empty = [], []\n",
    "\n",
    "  let null = function\n",
    "    | [], [] -> true\n",
    "    | _ -> false\n",
    "\n",
    "  let norm = function\n",
    "    | inq, [] -> [], List.rev inq\n",
    "    | q -> q\n",
    "\n",
    "  let enq a (inq, outq) = norm (a :: inq, outq)\n",
    "\n",
    "  let deq = function\n",
    "    | inq, hd :: outq -> norm (inq, outq)\n",
    "    | _ -> raise Empty\n",
    "\n",
    "  let top = function\n",
    "    | _, hd :: _ -> hd\n",
    "    | _ -> raise Empty\n",
    "\n",
    "  let size (inq, outq) = List.length inq + List.length outq\n",
    "\n",
    "end"
   ]
  }
 ],
 "metadata": {
  "kernelspec": {
   "display_name": "OCaml 4.14.1",
   "language": "OCaml",
   "name": "ocaml-jupyter"
  },
  "language_info": {
   "codemirror_mode": "text/x-ocaml",
   "file_extension": ".ml",
   "mimetype": "text/x-ocaml",
   "name": "OCaml",
   "nbconverter_exporter": null,
   "pygments_lexer": "OCaml",
   "version": "4.14.1"
  }
 },
 "nbformat": 4,
 "nbformat_minor": 5
}
