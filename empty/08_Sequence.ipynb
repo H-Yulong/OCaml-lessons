{
 "cells": [
  {
   "cell_type": "markdown",
   "id": "d743269b",
   "metadata": {},
   "source": [
    "## Infinite sequences"
   ]
  },
  {
   "cell_type": "markdown",
   "id": "33a7487b",
   "metadata": {},
   "source": [
    "Let us start with a recap of the basics about lazy lists (or streams): their datatype definition, construction, and elimination."
   ]
  },
  {
   "cell_type": "code",
   "execution_count": null,
   "id": "c322946d",
   "metadata": {
    "vscode": {
     "languageId": "plaintext"
    }
   },
   "outputs": [
    {
     "data": {
      "text/plain": [
       "type 'a seq = Nil | Cons of 'a * (unit -> 'a seq)\n"
      ]
     },
     "execution_count": 1,
     "metadata": {},
     "output_type": "execute_result"
    },
    {
     "data": {
      "text/plain": [
       "exception Empty\n"
      ]
     },
     "execution_count": 1,
     "metadata": {},
     "output_type": "execute_result"
    },
    {
     "data": {
      "text/plain": [
       "val head : 'a seq -> 'a = <fun>\n"
      ]
     },
     "execution_count": 1,
     "metadata": {},
     "output_type": "execute_result"
    },
    {
     "data": {
      "text/plain": [
       "val tail : 'a seq -> 'a seq = <fun>\n"
      ]
     },
     "execution_count": 1,
     "metadata": {},
     "output_type": "execute_result"
    }
   ],
   "source": []
  },
  {
   "cell_type": "markdown",
   "id": "481102f6",
   "metadata": {},
   "source": [
    "Natural numbers and the Fibonacci sequence are easy to construct."
   ]
  },
  {
   "cell_type": "code",
   "execution_count": null,
   "id": "a67a46c7",
   "metadata": {
    "vscode": {
     "languageId": "plaintext"
    }
   },
   "outputs": [
    {
     "data": {
      "text/plain": [
       "val from : int -> int seq = <fun>\n"
      ]
     },
     "execution_count": 2,
     "metadata": {},
     "output_type": "execute_result"
    },
    {
     "data": {
      "text/plain": [
       "val fib : int -> int -> int seq = <fun>\n"
      ]
     },
     "execution_count": 2,
     "metadata": {},
     "output_type": "execute_result"
    }
   ],
   "source": []
  },
  {
   "cell_type": "markdown",
   "id": "5b2e206a",
   "metadata": {},
   "source": [
    "We can also implement the [Collatz conjecture](https://en.wikipedia.org/wiki/Collatz_conjecture), which states that:\n",
    "> Given a positive natural number n, do the following procedure:\n",
    ">   - If n is even, divide it by 2.\n",
    ">   - If n is odd, multiply it by 3 and then add 1.\n",
    ">\n",
    "> Conjecture: any sequence starting with n will lead to 1."
   ]
  },
  {
   "cell_type": "code",
   "execution_count": null,
   "id": "01192f4e",
   "metadata": {
    "vscode": {
     "languageId": "plaintext"
    }
   },
   "outputs": [
    {
     "data": {
      "text/plain": [
       "val collatz : int -> int seq = <fun>\n"
      ]
     },
     "execution_count": 3,
     "metadata": {},
     "output_type": "execute_result"
    }
   ],
   "source": []
  },
  {
   "cell_type": "markdown",
   "id": "7f7d8810",
   "metadata": {},
   "source": [
    "We use `get n seq` to extract the first `n` elements from a sequence."
   ]
  },
  {
   "cell_type": "code",
   "execution_count": null,
   "id": "3cb39268",
   "metadata": {
    "vscode": {
     "languageId": "plaintext"
    }
   },
   "outputs": [
    {
     "data": {
      "text/plain": [
       "val get : int -> 'a seq -> 'a list = <fun>\n"
      ]
     },
     "execution_count": 4,
     "metadata": {},
     "output_type": "execute_result"
    }
   ],
   "source": []
  },
  {
   "cell_type": "markdown",
   "id": "c58d1232",
   "metadata": {},
   "source": [
    "We can modify `get` to verify Collatz conjecture for a given positive integer, up to a certain number of steps.\n",
    "> `get_until n p seq` gets elements until one of the following conditions is met:\n",
    ">  - `seq` is empty\n",
    ">  - An element satisfying `p` is found\n",
    ">  - Got a total of `n` elements"
   ]
  },
  {
   "cell_type": "code",
   "execution_count": null,
   "id": "3ee9413a",
   "metadata": {
    "vscode": {
     "languageId": "plaintext"
    }
   },
   "outputs": [
    {
     "data": {
      "text/plain": [
       "val get_until : int -> ('a -> bool) -> 'a seq -> 'a list = <fun>\n"
      ]
     },
     "execution_count": 5,
     "metadata": {},
     "output_type": "execute_result"
    }
   ],
   "source": []
  },
  {
   "cell_type": "code",
   "execution_count": null,
   "id": "4087e03f",
   "metadata": {
    "vscode": {
     "languageId": "plaintext"
    }
   },
   "outputs": [
    {
     "data": {
      "text/plain": [
       "val try_collatz : int -> int list = <fun>\n"
      ]
     },
     "execution_count": 6,
     "metadata": {},
     "output_type": "execute_result"
    }
   ],
   "source": [
    "let try_collatz n = get_until 1000 (fun x -> x = 1) (collatz n)"
   ]
  },
  {
   "cell_type": "markdown",
   "id": "b483295c",
   "metadata": {},
   "source": [
    "We now review the following useful operations on sequences:\n",
    "> `interleave : 'a seq -> 'a seq -> 'a seq`\n",
    ">\n",
    "> `filterq : ('a -> bool) -> 'a seq -> 'a seq`\n",
    ">\n",
    "> `mapq : ('a -> 'b) -> 'a seq -> 'b seq`\n",
    ">\n",
    "> `appendq : 'a seq -> 'a seq -> 'a seq`"
   ]
  },
  {
   "cell_type": "code",
   "execution_count": null,
   "id": "f4fafd1c",
   "metadata": {
    "vscode": {
     "languageId": "plaintext"
    }
   },
   "outputs": [
    {
     "data": {
      "text/plain": [
       "val interleave : 'a seq -> 'a seq -> 'a seq = <fun>\n"
      ]
     },
     "execution_count": 7,
     "metadata": {},
     "output_type": "execute_result"
    },
    {
     "data": {
      "text/plain": [
       "val filterq : ('a -> bool) -> 'a seq -> 'a seq = <fun>\n"
      ]
     },
     "execution_count": 7,
     "metadata": {},
     "output_type": "execute_result"
    },
    {
     "data": {
      "text/plain": [
       "val mapq : ('a -> 'b) -> 'a seq -> 'b seq = <fun>\n"
      ]
     },
     "execution_count": 7,
     "metadata": {},
     "output_type": "execute_result"
    },
    {
     "data": {
      "text/plain": [
       "val appendq : 'a seq -> 'a seq -> 'a seq = <fun>\n"
      ]
     },
     "execution_count": 7,
     "metadata": {},
     "output_type": "execute_result"
    }
   ],
   "source": []
  },
  {
   "cell_type": "markdown",
   "id": "1ce02dcf",
   "metadata": {},
   "source": [
    "Now it's time for some exercise.\n",
    "1. Code the lazy list whose elements are all ordinary lists of zeroes and ones, namely `[]; [0]; [1];\n",
    " [0; 0]; [0; 1]; [1; 0]; [1; 1]; [0; 0; 0];…`."
   ]
  },
  {
   "cell_type": "markdown",
   "id": "6a7dd6d7",
   "metadata": {},
   "source": [
    "To do this, we first define a helper function `iter_seq f q` that returns `q @ (f q) @ (f (f q)) @ ...`. Then, we just need to find the suitable `f` to plug-in."
   ]
  },
  {
   "cell_type": "code",
   "execution_count": null,
   "id": "44c91c9d",
   "metadata": {
    "vscode": {
     "languageId": "plaintext"
    }
   },
   "outputs": [
    {
     "data": {
      "text/plain": [
       "val iter_seq : ('a seq -> 'a seq) -> 'a seq -> 'a seq = <fun>\n"
      ]
     },
     "execution_count": 8,
     "metadata": {},
     "output_type": "execute_result"
    },
    {
     "data": {
      "text/plain": [
       "val bins : int list seq = Cons ([], <fun>)\n"
      ]
     },
     "execution_count": 8,
     "metadata": {},
     "output_type": "execute_result"
    }
   ],
   "source": []
  },
  {
   "cell_type": "markdown",
   "id": "027fe78c",
   "metadata": {},
   "source": [
    "2. A palindrome is a list that equals its own reverse. Code the lazy\n",
    " list whose elements are all palindromes of 0s and 1s, namely `[]; [0]; [1]; [0; 0]; [0; 0; 0];\n",
    " [0; 1; 0]; [1; 1]; [1; 0; 1]; [1; 1; 1]; [0; 0; 0; 0];, …`."
   ]
  },
  {
   "cell_type": "markdown",
   "id": "dfed8d49",
   "metadata": {},
   "source": [
    "This is a simple use of `filterq`."
   ]
  },
  {
   "cell_type": "code",
   "execution_count": null,
   "id": "6fb9a2be",
   "metadata": {
    "vscode": {
     "languageId": "plaintext"
    }
   },
   "outputs": [
    {
     "data": {
      "text/plain": [
       "val palin : int list seq = Cons ([], <fun>)\n"
      ]
     },
     "execution_count": 9,
     "metadata": {},
     "output_type": "execute_result"
    }
   ],
   "source": []
  },
  {
   "cell_type": "markdown",
   "id": "4797c16f",
   "metadata": {},
   "source": [
    "3. Code a function to make change using lazy lists, delivering the sequence of all possible ways of\n",
    " making change. Using sequences allows us to compute solutions one at a time when there exists an\n",
    " astronomical number. Represent lists of coins using ordinary lists."
   ]
  },
  {
   "cell_type": "code",
   "execution_count": null,
   "id": "5f878ef4",
   "metadata": {
    "vscode": {
     "languageId": "plaintext"
    }
   },
   "outputs": [
    {
     "data": {
      "text/plain": [
       "val change : int list -> int -> int list seq = <fun>\n"
      ]
     },
     "execution_count": 10,
     "metadata": {},
     "output_type": "execute_result"
    }
   ],
   "source": []
  },
  {
   "cell_type": "code",
   "execution_count": null,
   "id": "af2bf561-59ed-4409-9ca5-95c1239cd3a3",
   "metadata": {
    "vscode": {
     "languageId": "ocaml"
    }
   },
   "outputs": [
    {
     "data": {
      "text/plain": [
       "- : int list list =\n",
       "[[5; 5]; [2; 2; 2; 2; 2]; [1; 2; 2; 5]; [1; 1; 2; 2; 2; 2]; [1; 1; 1; 2; 5];\n",
       " [1; 1; 1; 1; 2; 2; 2]; [1; 1; 1; 1; 1; 5]; [1; 1; 1; 1; 1; 1; 2; 2];\n",
       " [1; 1; 1; 1; 1; 1; 1; 1; 2]; [1; 1; 1; 1; 1; 1; 1; 1; 1; 1]]\n"
      ]
     },
     "execution_count": 13,
     "metadata": {},
     "output_type": "execute_result"
    }
   ],
   "source": [
    "get_until 100 (fun _ -> false) (change [1;2;5] 10)"
   ]
  }
 ],
 "metadata": {
  "kernelspec": {
   "display_name": "OCaml default",
   "language": "OCaml",
   "name": "ocaml-jupyter-default"
  },
  "language_info": {
   "codemirror_mode": "text/x-ocaml",
   "file_extension": ".ml",
   "mimetype": "text/x-ocaml",
   "name": "OCaml",
   "nbconverter_exporter": null,
   "pygments_lexer": "OCaml",
   "version": "4.14.1"
  }
 },
 "nbformat": 4,
 "nbformat_minor": 5
}
