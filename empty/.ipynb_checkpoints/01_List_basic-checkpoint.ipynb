{
 "cells": [
  {
   "cell_type": "markdown",
   "id": "64dd158a-833d-4dcf-a9b6-906c5775520b",
   "metadata": {},
   "source": [
    "## List and the standard library (basic)"
   ]
  },
  {
   "cell_type": "markdown",
   "id": "594c0be0",
   "metadata": {},
   "source": [
    "We'll cover the following topics in this notebook:\n",
    "- Documentation in List library\n",
    "  - A function's behaviour\n",
    "  - Type signatures\n",
    "  - Check for non-tail recursion\n",
    "- Implementation of common functions\n",
    "  - List traversal: `length`\n",
    "  - List manipulation: `rev`, `append`, `map`, `rev_map`\n",
    "  - List scanning: `mem`, `forall`, `exist`,`filter`\n",
    "  - List generation: `init`"
   ]
  },
  {
   "cell_type": "markdown",
   "id": "aa74ce06",
   "metadata": {},
   "source": [
    "Modern programming languages often provide a standard library of commonly used data structures, functions and elementary operations, so that programmers do not need to re-implement these features themselves. One should consider using standard library functions because they are available across all implementations and (usually) well-suited for optimizations."
   ]
  },
  {
   "cell_type": "markdown",
   "id": "c2011af0",
   "metadata": {},
   "source": [
    "Today, we look at the standard library for [Lists](https://ocaml.org/manual/5.2/api/List.html).\n",
    "We'll see how to understand the description on the website, and try to implement the standard-library function.\n",
    "The documentation for each function is given in the following format, showing its name, type, and a short description."
   ]
  },
  {
   "cell_type": "markdown",
   "id": "cb641b27-25e2-470a-8fa8-f0d027edcbc8",
   "metadata": {},
   "source": [
    "> `val length : 'a list -> int`\n",
    ">\n",
    "> &emsp; Return the length (number of elements) of the given list."
   ]
  },
  {
   "cell_type": "markdown",
   "id": "0e71a550",
   "metadata": {},
   "source": [
    "To warm up, let's try to write the (non tail-recursive) `length` function."
   ]
  },
  {
   "cell_type": "code",
   "execution_count": null,
   "id": "01f20457-3507-4117-aa7a-89f0b3cbecd9",
   "metadata": {
    "vscode": {
     "languageId": "ocaml"
    }
   },
   "outputs": [
    {
     "data": {
      "text/plain": [
       "val length : 'a list -> int = <fun>\n"
      ]
     },
     "execution_count": 1,
     "metadata": {},
     "output_type": "execute_result"
    }
   ],
   "source": []
  },
  {
   "cell_type": "markdown",
   "id": "ce5e0004",
   "metadata": {},
   "source": [
    "Now, the tail-recursive version of `length`. Note that we do not need to know the value of the head, so we could just place an underscore \"wildcard\" there."
   ]
  },
  {
   "cell_type": "code",
   "execution_count": null,
   "id": "63bfe9ea",
   "metadata": {
    "vscode": {
     "languageId": "plaintext"
    }
   },
   "outputs": [],
   "source": []
  },
  {
   "cell_type": "code",
   "execution_count": null,
   "id": "553d72f9",
   "metadata": {
    "vscode": {
     "languageId": "plaintext"
    }
   },
   "outputs": [],
   "source": []
  },
  {
   "cell_type": "markdown",
   "id": "e4bd56ed",
   "metadata": {},
   "source": [
    "How do we know if a library function is tail-recursive or not? Check the descriptions:\n",
    "\n",
    "> Some functions are flagged as not tail-recursive. A tail-recursive function uses constant stack space, while a non-tail-recursive function uses stack space proportional to the length of its list argument, which can be a problem with very long lists. When the function takes several list arguments, an approximate formula giving stack usage (in some unspecified constant unit) is shown in parentheses.\n",
    "> \n",
    "> The above considerations can usually be ignored if your lists are not longer than about 10000 elements.\n",
    "\n",
    "There is no flag on the `length` function, it means that `List.length` is tail recursive. Most functions in the library are tail recursive, for example, `rev`."
   ]
  },
  {
   "cell_type": "markdown",
   "id": "e41a3473",
   "metadata": {},
   "source": [
    "> `rev : 'a list -> 'a list`\n",
    ">\n",
    "> &emsp; List reversal."
   ]
  },
  {
   "cell_type": "code",
   "execution_count": null,
   "id": "f47d9acd",
   "metadata": {
    "vscode": {
     "languageId": "plaintext"
    }
   },
   "outputs": [],
   "source": []
  },
  {
   "cell_type": "code",
   "execution_count": null,
   "id": "3da82bc0",
   "metadata": {
    "vscode": {
     "languageId": "plaintext"
    }
   },
   "outputs": [],
   "source": []
  },
  {
   "cell_type": "markdown",
   "id": "da588dd8",
   "metadata": {},
   "source": [
    "The classic example of a non tail-recursive function is `append`.\n",
    "\n",
    "> `append : 'a list -> 'a list -> 'a list`\n",
    "> \n",
    "> &emsp; Concatenate two lists. Same function as the infix operator @. Not tail-recursive (length of the first argument). The @ operator is not tail-recursive either.\n",
    "\n",
    "In OCaml, we can define infix operators like this:"
   ]
  },
  {
   "cell_type": "code",
   "execution_count": null,
   "id": "1f850364",
   "metadata": {
    "vscode": {
     "languageId": "plaintext"
    }
   },
   "outputs": [],
   "source": []
  },
  {
   "cell_type": "markdown",
   "id": "bce9708c",
   "metadata": {},
   "source": [
    "Now, we look at iterators, i.e. ways to traverse every element of a list."
   ]
  },
  {
   "cell_type": "markdown",
   "id": "63771160",
   "metadata": {},
   "source": [
    "> ` map : ('a -> 'b) -> 'a list -> 'b list`\n",
    ">\n",
    "> &emsp; `map f [a1; ...; an]` applies function `f` to `a1, ..., an`, and builds the list `[f a1; ...; f an]` with the results returned by `f`."
   ]
  },
  {
   "cell_type": "code",
   "execution_count": null,
   "id": "b2fd6302",
   "metadata": {
    "vscode": {
     "languageId": "plaintext"
    }
   },
   "outputs": [],
   "source": []
  },
  {
   "cell_type": "markdown",
   "id": "eb7da127",
   "metadata": {},
   "source": [
    "We can, of course, implement the tail-recursive version of map using an accumulator and reverse."
   ]
  },
  {
   "cell_type": "code",
   "execution_count": null,
   "id": "6a83fd70",
   "metadata": {
    "vscode": {
     "languageId": "plaintext"
    }
   },
   "outputs": [],
   "source": []
  },
  {
   "cell_type": "code",
   "execution_count": null,
   "id": "3ea1880a",
   "metadata": {
    "vscode": {
     "languageId": "plaintext"
    }
   },
   "outputs": [],
   "source": []
  },
  {
   "cell_type": "markdown",
   "id": "a395f3e3",
   "metadata": {},
   "source": [
    "But, as you can see, we pay an extra time to reverse the list, which is not desirable. Both implementations have $O(n)$ time complexity, but the tail-recursive one has a larger constant factor.\n",
    "OCaml's standard library uses a technique called *tail recursion modulo cons* to avoid the extra time due to reverse."
   ]
  },
  {
   "cell_type": "markdown",
   "id": "409989f0",
   "metadata": {},
   "source": [
    "Reverse map is naturally tail-recursive.\n",
    "\n",
    "> `val rev_map : ('a -> 'b) -> 'a list -> 'b list`\n",
    ">\n",
    "> &emsp; `rev_map f l` gives the same result as `List.rev (List.map f l)`, but is more efficient.\n"
   ]
  },
  {
   "cell_type": "code",
   "execution_count": null,
   "id": "4af1a293",
   "metadata": {
    "vscode": {
     "languageId": "plaintext"
    }
   },
   "outputs": [],
   "source": []
  },
  {
   "cell_type": "code",
   "execution_count": null,
   "id": "3bc794fd",
   "metadata": {
    "vscode": {
     "languageId": "plaintext"
    }
   },
   "outputs": [],
   "source": []
  },
  {
   "cell_type": "markdown",
   "id": "21cbe1da",
   "metadata": {},
   "source": [
    "Finally, we look at functions for list scanning, i.e. finding elements or elements with special properties in the list.\n",
    "\n",
    "> `mem : 'a -> 'a list -> bool`\n",
    ">\n",
    "> &emsp; `mem a set` is true if and only if `a` is equal to an element of `set`."
   ]
  },
  {
   "cell_type": "code",
   "execution_count": null,
   "id": "607d426f",
   "metadata": {
    "vscode": {
     "languageId": "plaintext"
    }
   },
   "outputs": [],
   "source": []
  },
  {
   "cell_type": "markdown",
   "id": "edbae995",
   "metadata": {},
   "source": [
    "The logical \"or\" operator `||` is a more concise way of writing `if a = x then true else mem a xs`, since `a or b` is always true if `a` is true, and if `a` is false, its value is the same as `b`. Similarly, we may write `a && b`, the logical `a and b` for `if a then b else false`.\n",
    "We use this in the implementation of `for_all` and `exists`.\n",
    "> `for_all : ('a -> bool) -> 'a list -> bool`\n",
    "> \n",
    "> &emsp; `for_all f [a1; ...; an]` checks if all elements of the list satisfy the predicate `f`. That is, it returns `(f a1) && (f a2) && ... && (f an)` for a non-empty list and `true` if the list is empty."
   ]
  },
  {
   "cell_type": "code",
   "execution_count": null,
   "id": "df802346",
   "metadata": {
    "vscode": {
     "languageId": "plaintext"
    }
   },
   "outputs": [],
   "source": []
  },
  {
   "cell_type": "markdown",
   "id": "4b648b08",
   "metadata": {},
   "source": [
    "> `exists : ('a -> bool) -> 'a list -> bool`\n",
    "> \n",
    "> &emsp; `exists f [a1; ...; an]` checks if at least one element of the list satisfies the predicate `f`. That is, it returns `(f a1) || (f a2) || ... || (f an)` for a non-empty list and false if the list is empty."
   ]
  },
  {
   "cell_type": "code",
   "execution_count": null,
   "id": "6b284a95",
   "metadata": {
    "vscode": {
     "languageId": "plaintext"
    }
   },
   "outputs": [],
   "source": []
  },
  {
   "cell_type": "markdown",
   "id": "d53b3ebb",
   "metadata": {},
   "source": [
    "We have implemented some functions, and now is a good time to test them. We can use `init` to generate some test lists.\n",
    "\n",
    "> `init : int -> (int -> 'a) -> 'a list`\n",
    ">\n",
    "> &emsp; `init len f` is `[f 0; f 1; ...; f (len-1)]`, evaluated left to right."
   ]
  },
  {
   "cell_type": "code",
   "execution_count": null,
   "id": "13536b60",
   "metadata": {
    "vscode": {
     "languageId": "plaintext"
    }
   },
   "outputs": [],
   "source": []
  },
  {
   "cell_type": "code",
   "execution_count": null,
   "id": "4efea5b7",
   "metadata": {
    "vscode": {
     "languageId": "plaintext"
    }
   },
   "outputs": [],
   "source": []
  },
  {
   "cell_type": "markdown",
   "id": "0bcc6d96",
   "metadata": {},
   "source": [
    "Or, the tail-recursive version, using reverse."
   ]
  },
  {
   "cell_type": "code",
   "execution_count": null,
   "id": "d508fc7d",
   "metadata": {
    "vscode": {
     "languageId": "plaintext"
    }
   },
   "outputs": [],
   "source": []
  },
  {
   "cell_type": "code",
   "execution_count": null,
   "id": "f9f18383",
   "metadata": {
    "vscode": {
     "languageId": "plaintext"
    }
   },
   "outputs": [],
   "source": []
  },
  {
   "cell_type": "markdown",
   "id": "7d150f71",
   "metadata": {},
   "source": [
    "Time for some tests!"
   ]
  },
  {
   "cell_type": "code",
   "execution_count": null,
   "id": "b971bbea",
   "metadata": {
    "vscode": {
     "languageId": "plaintext"
    }
   },
   "outputs": [],
   "source": [
    "let l1 = init 10 (fun x -> x)"
   ]
  },
  {
   "cell_type": "code",
   "execution_count": null,
   "id": "4e8df186",
   "metadata": {
    "vscode": {
     "languageId": "plaintext"
    }
   },
   "outputs": [],
   "source": [
    "let l2 = init 5 (fun x -> 10 + x)"
   ]
  },
  {
   "cell_type": "code",
   "execution_count": null,
   "id": "034d9e0d",
   "metadata": {
    "vscode": {
     "languageId": "plaintext"
    }
   },
   "outputs": [],
   "source": [
    "length (rev (l1 @ l2))"
   ]
  }
 ],
 "metadata": {
  "kernelspec": {
   "display_name": "OCaml 4.14.1",
   "language": "OCaml",
   "name": "ocaml-jupyter"
  },
  "language_info": {
   "codemirror_mode": "text/x-ocaml",
   "file_extension": ".ml",
   "mimetype": "text/x-ocaml",
   "name": "OCaml",
   "nbconverter_exporter": null,
   "pygments_lexer": "OCaml",
   "version": "4.14.1"
  }
 },
 "nbformat": 4,
 "nbformat_minor": 5
}
