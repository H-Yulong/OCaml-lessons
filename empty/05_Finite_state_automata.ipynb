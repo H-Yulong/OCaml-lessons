{
 "cells": [
  {
   "cell_type": "markdown",
   "id": "6a124cb2",
   "metadata": {},
   "source": [
    "### Finite state automata"
   ]
  },
  {
   "cell_type": "markdown",
   "id": "125514e1",
   "metadata": {},
   "source": [
    "We will cover the following topics in this session:\n",
    "- Finite state automata: definition, implementation\n",
    "- Regular languages: definition, examples\n",
    "- Regular languages\n",
    "- Recongizing regular languages with automata"
   ]
  },
  {
   "cell_type": "markdown",
   "id": "913b33d6",
   "metadata": {},
   "source": [
    "#### Finite state machines"
   ]
  },
  {
   "cell_type": "markdown",
   "id": "4b9e67d5",
   "metadata": {},
   "source": [
    "A finite state machine is a simple model of computation,\n",
    "with the following components:\n",
    "- A set of machine states $S$.\n",
    "- A start state $S_0 \\in S$.\n",
    "- A set of accepting states $F \\subseteq S$.\n",
    "- A set of input characters/alphabet $\\Sigma$.\n",
    "- A transition function $\\delta : S \\times \\Sigma \\to S$.\n",
    "\n",
    "Here, $\\delta$ describes the machine's action at each given input: $\\delta(s, x) = s'$ means that\n",
    "the machine at state $s$ steps to state $s'$ if the input is $x$."
   ]
  },
  {
   "cell_type": "markdown",
   "id": "eeac5367",
   "metadata": {},
   "source": [
    "In OCaml terms, we need:\n",
    "```\n",
    "type states\n",
    "val start : state\n",
    "val accept : state -> bool\n",
    "val alphabet : char -> bool\n",
    "val transit : state -> char -> state\n",
    "```\n",
    "\n",
    "Here is a simple example of a (deterministic) finite state machine.\n",
    "- States $S = \\{A, B\\}$\n",
    "- Start state $S_0 = A$\n",
    "- Accepting states $F = \\{ B \\}$\n",
    "- Alphabet $\\Sigma = \\{a, b\\}$\n",
    "- Transition $\\delta$:\n",
    "    - $\\delta(A, a) = A$\n",
    "    - $\\delta(A, b) = B$\n",
    "    - $\\delta(B, a) = A$\n",
    "    - $\\delta(B, b) = B$"
   ]
  },
  {
   "cell_type": "code",
   "execution_count": 8,
   "id": "531c5db4",
   "metadata": {
    "vscode": {
     "languageId": "plaintext"
    }
   },
   "outputs": [
    {
     "data": {
      "text/plain": [
       "type state = A | B\n"
      ]
     },
     "execution_count": 8,
     "metadata": {},
     "output_type": "execute_result"
    },
    {
     "data": {
      "text/plain": [
       "val start : state = A\n"
      ]
     },
     "execution_count": 8,
     "metadata": {},
     "output_type": "execute_result"
    },
    {
     "data": {
      "text/plain": [
       "val accept : state -> bool = <fun>\n"
      ]
     },
     "execution_count": 8,
     "metadata": {},
     "output_type": "execute_result"
    },
    {
     "data": {
      "text/plain": [
       "val alphabet : char -> bool = <fun>\n"
      ]
     },
     "execution_count": 8,
     "metadata": {},
     "output_type": "execute_result"
    },
    {
     "data": {
      "text/plain": [
       "val transition : state -> char -> state = <fun>\n"
      ]
     },
     "execution_count": 8,
     "metadata": {},
     "output_type": "execute_result"
    }
   ],
   "source": [
    "type state = A | B\n",
    "\n",
    "let start = A\n",
    "\n",
    "let accept = function\n",
    "    | A -> false\n",
    "    | B -> true\n",
    "\n",
    "let alphabet c = (c = 'a') || (c = 'b')\n",
    "\n",
    "let transition s c = match (s, c) with\n",
    "    | A, 'a' -> A\n",
    "    | A, 'b' -> B\n",
    "    | B, 'a' -> A\n",
    "    | B, 'b' -> B\n",
    "    | _ -> failwith \"Illegal character\""
   ]
  },
  {
   "cell_type": "markdown",
   "id": "517cc5a7",
   "metadata": {},
   "source": [
    "Given a list of characters (a string), we can \n",
    "feed it into the machine, evaluating each step with\n",
    "the transit function.\n",
    "If the machine ends up in an accepting state when\n",
    "it has consumed all input characters, we say that \n",
    "this machine *accepts* the input string.\n",
    "\n",
    "What kind of strings are accepted by the machine above?"
   ]
  },
  {
   "cell_type": "code",
   "execution_count": null,
   "id": "81b1f33d",
   "metadata": {
    "vscode": {
     "languageId": "plaintext"
    }
   },
   "outputs": [
    {
     "data": {
      "text/plain": [
       "val str_to_chars : string -> char list = <fun>\n"
      ]
     },
     "execution_count": 11,
     "metadata": {},
     "output_type": "execute_result"
    },
    {
     "data": {
      "text/plain": [
       "val matching : state -> char list -> bool = <fun>\n"
      ]
     },
     "execution_count": 11,
     "metadata": {},
     "output_type": "execute_result"
    },
    {
     "data": {
      "text/plain": [
       "val match_str : string -> bool = <fun>\n"
      ]
     },
     "execution_count": 11,
     "metadata": {},
     "output_type": "execute_result"
    }
   ],
   "source": []
  },
  {
   "cell_type": "code",
   "execution_count": null,
   "id": "a9a0798e-15fb-42f4-97b6-1c7d322956fd",
   "metadata": {
    "vscode": {
     "languageId": "ocaml"
    }
   },
   "outputs": [
    {
     "data": {
      "text/plain": [
       "- : bool = true\n"
      ]
     },
     "execution_count": 21,
     "metadata": {},
     "output_type": "execute_result"
    }
   ],
   "source": []
  },
  {
   "cell_type": "markdown",
   "id": "93c39d76",
   "metadata": {},
   "source": [
    "Here is a more complicated machine. Again, what kind of strings are accepted by it?"
   ]
  },
  {
   "cell_type": "code",
   "execution_count": null,
   "id": "0041ae9e",
   "metadata": {
    "vscode": {
     "languageId": "plaintext"
    }
   },
   "outputs": [],
   "source": []
  },
  {
   "cell_type": "code",
   "execution_count": null,
   "id": "a5aad3cd-937d-4ace-8c44-e2562cbf5fec",
   "metadata": {
    "vscode": {
     "languageId": "ocaml"
    }
   },
   "outputs": [
    {
     "data": {
      "text/plain": [
       "- : bool = true\n"
      ]
     },
     "execution_count": 27,
     "metadata": {},
     "output_type": "execute_result"
    }
   ],
   "source": []
  },
  {
   "cell_type": "code",
   "execution_count": null,
   "id": "2a523f97-d83a-4f6b-89d7-87a6e3787616",
   "metadata": {
    "vscode": {
     "languageId": "ocaml"
    }
   },
   "outputs": [
    {
     "data": {
      "text/plain": [
       "val str_to_chars : string -> char list = <fun>\n"
      ]
     },
     "execution_count": 24,
     "metadata": {},
     "output_type": "execute_result"
    },
    {
     "data": {
      "text/plain": [
       "val matching : state -> char list -> bool = <fun>\n"
      ]
     },
     "execution_count": 24,
     "metadata": {},
     "output_type": "execute_result"
    },
    {
     "data": {
      "text/plain": [
       "val match_str : string -> bool = <fun>\n"
      ]
     },
     "execution_count": 24,
     "metadata": {},
     "output_type": "execute_result"
    }
   ],
   "source": []
  },
  {
   "cell_type": "markdown",
   "id": "ea4514a9",
   "metadata": {},
   "source": [
    "#### Application: ATM machine"
   ]
  },
  {
   "cell_type": "markdown",
   "id": "b4ec2587",
   "metadata": {},
   "source": [
    "We now see a simple application of using a finite automaton to describe the internal states of an ATM machine. The machine should have three states: \n",
    "- `Ready`, it is ready to use.\n",
    "- `CardInserted`, the user has inserted a bank card, but the password is not verified.\n",
    "- `LoggedIn`, the password is verified and the user can cash out.\n",
    "\n",
    "We also have the following actions available: \n",
    "- `InsertCard`, only valid if the machine is `Ready`, turn the machine into `CardInserted` state.\n",
    "- `InputPassword`, only valid in `CardInserted` state, transits to `LoggedIn` if the password is correct, no transition otherwise. \n",
    "- `CashOut`, only valid in `LoggedIn` state.\n",
    "- `LogOut`, sets the machine to `Ready` state, return the bank card if one is inserted.\n",
    "\n",
    "The above description can be easily encoded as the following finite automaton:\n",
    "the states are the machine states, and the characters in the alphabet are the actions.\n",
    "We can then run the machine with a list of given actions, and define an `execute_trace` function to \n",
    "trace the machine states that appeared during execution."
   ]
  },
  {
   "cell_type": "code",
   "execution_count": null,
   "id": "e31c09a5-1dec-494b-af58-34b15ad6312d",
   "metadata": {
    "vscode": {
     "languageId": "ocaml"
    }
   },
   "outputs": [
    {
     "data": {
      "text/plain": [
       "type state = Ready | CardInserted | LoggedIn\n"
      ]
     },
     "execution_count": 47,
     "metadata": {},
     "output_type": "execute_result"
    },
    {
     "data": {
      "text/plain": [
       "type actions = InsertCard | InputPassword of int | CashOut | LogOut\n"
      ]
     },
     "execution_count": 47,
     "metadata": {},
     "output_type": "execute_result"
    },
    {
     "data": {
      "text/plain": [
       "val password : int = 123456\n"
      ]
     },
     "execution_count": 47,
     "metadata": {},
     "output_type": "execute_result"
    },
    {
     "data": {
      "text/plain": [
       "val start : state = Ready\n"
      ]
     },
     "execution_count": 47,
     "metadata": {},
     "output_type": "execute_result"
    },
    {
     "data": {
      "text/plain": [
       "val transition : state -> actions -> state = <fun>\n"
      ]
     },
     "execution_count": 47,
     "metadata": {},
     "output_type": "execute_result"
    },
    {
     "data": {
      "text/plain": [
       "val execute : state -> actions list -> state = <fun>\n"
      ]
     },
     "execution_count": 47,
     "metadata": {},
     "output_type": "execute_result"
    },
    {
     "data": {
      "text/plain": [
       "val execute_trace : state -> actions list -> state list = <fun>\n"
      ]
     },
     "execution_count": 47,
     "metadata": {},
     "output_type": "execute_result"
    }
   ],
   "source": []
  },
  {
   "cell_type": "code",
   "execution_count": 49,
   "id": "63b43801-a7f3-4918-8bb5-a5d18dfd5024",
   "metadata": {
    "vscode": {
     "languageId": "ocaml"
    }
   },
   "outputs": [
    {
     "data": {
      "text/plain": [
       "val actions1 : actions list =\n",
       "  [InsertCard; InputPassword 123456; CashOut; CashOut; LogOut]\n"
      ]
     },
     "execution_count": 49,
     "metadata": {},
     "output_type": "execute_result"
    },
    {
     "data": {
      "text/plain": [
       "val actions2 : actions list =\n",
       "  [InsertCard; LogOut; InputPassword 654321; InsertCard;\n",
       "   InputPassword 16878653; CashOut]\n"
      ]
     },
     "execution_count": 49,
     "metadata": {},
     "output_type": "execute_result"
    },
    {
     "data": {
      "text/plain": [
       "- : state list = [Ready; CardInserted; LoggedIn; LoggedIn; LoggedIn; Ready]\n"
      ]
     },
     "execution_count": 49,
     "metadata": {},
     "output_type": "execute_result"
    },
    {
     "data": {
      "text/plain": [
       "- : state list =\n",
       "[Ready; CardInserted; Ready; Ready; CardInserted; CardInserted; CardInserted]\n"
      ]
     },
     "execution_count": 49,
     "metadata": {},
     "output_type": "execute_result"
    }
   ],
   "source": [
    "let actions1 = [InsertCard; InputPassword 123456; CashOut; CashOut; LogOut]\n",
    "let actions2 = [InsertCard; LogOut; InputPassword 654321; InsertCard; InputPassword 16878653; CashOut;]\n",
    "\n",
    "let _ = execute_trace start actions1\n",
    "let _ = execute_trace start actions2"
   ]
  }
 ],
 "metadata": {
  "kernelspec": {
   "display_name": "OCaml default",
   "language": "OCaml",
   "name": "ocaml-jupyter-default"
  },
  "language_info": {
   "codemirror_mode": "text/x-ocaml",
   "file_extension": ".ml",
   "mimetype": "text/x-ocaml",
   "name": "OCaml",
   "nbconverter_exporter": null,
   "pygments_lexer": "OCaml",
   "version": "4.14.1"
  }
 },
 "nbformat": 4,
 "nbformat_minor": 5
}
