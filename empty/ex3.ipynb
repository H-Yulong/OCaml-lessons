{
 "cells": [
  {
   "cell_type": "code",
   "execution_count": null,
   "id": "c1a30cf6",
   "metadata": {
    "vscode": {
     "languageId": "plaintext"
    }
   },
   "outputs": [],
   "source": [
    "(* Binary trees *)\n",
    "type 'a tree = Lf | Br of 'a * 'a tree * 'a tree"
   ]
  },
  {
   "cell_type": "code",
   "execution_count": null,
   "id": "882657d4",
   "metadata": {
    "vscode": {
     "languageId": "plaintext"
    }
   },
   "outputs": [],
   "source": [
    "(* Sum tree *)"
   ]
  },
  {
   "cell_type": "code",
   "execution_count": null,
   "id": "eddad74c",
   "metadata": {
    "vscode": {
     "languageId": "plaintext"
    }
   },
   "outputs": [],
   "source": [
    "(* Generate binary tree *)"
   ]
  },
  {
   "cell_type": "code",
   "execution_count": null,
   "id": "95113d98",
   "metadata": {
    "vscode": {
     "languageId": "plaintext"
    }
   },
   "outputs": [],
   "source": [
    "(* Detele function *)\n",
    "\n",
    "(* Pops out the largest key-value pair from a tree *)\n",
    "\n",
    "(* Delete *)"
   ]
  },
  {
   "cell_type": "code",
   "execution_count": null,
   "id": "a8c55e35",
   "metadata": {
    "vscode": {
     "languageId": "plaintext"
    }
   },
   "outputs": [],
   "source": [
    "(* Verify binary search tree invariant *)\n"
   ]
  },
  {
   "cell_type": "code",
   "execution_count": null,
   "id": "8ffb5000",
   "metadata": {
    "vscode": {
     "languageId": "plaintext"
    }
   },
   "outputs": [],
   "source": [
    "(* An optimized way for this: keeping ranges *)\n"
   ]
  },
  {
   "cell_type": "code",
   "execution_count": null,
   "id": "c0f39415",
   "metadata": {
    "vscode": {
     "languageId": "plaintext"
    }
   },
   "outputs": [],
   "source": [
    "(* Detele first item from array: shift, reshape, then decrement key. *)\n",
    "\n",
    "(* Shift: move the left-most branch up a place *)\n",
    "\n",
    "(* Reshape: swap left and right branches *)\n",
    "\n",
    "(* Dec_key: decrement key by 1 *)\n",
    "\n",
    "(* Verification, optimized version: left as exercise. *)"
   ]
  }
 ],
 "metadata": {
  "language_info": {
   "name": "python"
  }
 },
 "nbformat": 4,
 "nbformat_minor": 5
}
