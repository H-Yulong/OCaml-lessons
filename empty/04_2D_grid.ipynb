{
 "cells": [
  {
   "cell_type": "markdown",
   "id": "12eccf78",
   "metadata": {},
   "source": [
    "## 2D Grid"
   ]
  },
  {
   "cell_type": "markdown",
   "id": "9b6248ec",
   "metadata": {},
   "source": [
    "We'll cover the following topics in this notebook:\n",
    "- Modules and signatures\n",
    "- Grid as list of lists\n",
    "- OCaml arrays\n",
    "- Grid as OCaml array\n"
   ]
  },
  {
   "cell_type": "markdown",
   "id": "4c649185",
   "metadata": {},
   "source": [
    "### Modules"
   ]
  },
  {
   "cell_type": "markdown",
   "id": "9a43ba55",
   "metadata": {},
   "source": [
    "When our code base grows bigger, we need a way of organizing data structures and their corresponding operations. Module system is the solution. We start with writing a library of queue, implemented with lists."
   ]
  },
  {
   "cell_type": "code",
   "execution_count": null,
   "id": "f6f7f95a",
   "metadata": {
    "vscode": {
     "languageId": "plaintext"
    }
   },
   "outputs": [],
   "source": [
    "type 'a queue = 'a list * 'a list\n",
    "exception Empty\n",
    "\n",
    "let empty = [], []\n",
    "\n",
    "let null = function\n",
    "  | [], [] -> true\n",
    "  | _ -> false\n",
    "\n",
    "let norm = function\n",
    "  | inq, [] -> [], List.rev inq\n",
    "  | q -> q\n",
    "\n",
    "let enq a (inq, outq) = norm (a :: inq, outq)\n",
    "\n",
    "let deq = function\n",
    "  | inq, hd :: outq -> norm (inq, outq)\n",
    "  | _ -> raise Empty\n",
    "\n",
    "let top = function\n",
    "  | _, hd :: _ -> hd\n",
    "  | _ -> raise Empty\n",
    "\n",
    "let size (inq, outq) = List.length inq + List.length outq"
   ]
  },
  {
   "cell_type": "code",
   "execution_count": null,
   "id": "6845fed9",
   "metadata": {
    "vscode": {
     "languageId": "plaintext"
    }
   },
   "outputs": [],
   "source": [
    "let q = empty\n",
    "let q = enq 3 q\n",
    "let q = enq 4 q\n",
    "let x = List.hd (snd q)"
   ]
  },
  {
   "cell_type": "markdown",
   "id": "3f7cb7e0",
   "metadata": {},
   "source": [
    " There are several problems:\n",
    "- The types of the operations are still referring to `'a list`, not `'a queue`.\n",
    "- Future definitions cannot use simple names like `empty` or `length`.\n",
    "- A queue, ideally, should only be modified via `enq` and `deq`, but the user can manipulate the queue arbitrarily like manipulating a list.\n",
    "\n",
    "We can solve the first problem by adding type annotations, and the second problem by using `long_and_complicated_function_names`. For the last problem, we can only ask the user politely to not manipulate the queue. \n",
    "\n",
    "The key problem here is that we need a suitable method of *abstraction*, a module that packs the type definitions and functions together and hides the implementation details."
   ]
  },
  {
   "cell_type": "code",
   "execution_count": null,
   "id": "feb293b7",
   "metadata": {
    "vscode": {
     "languageId": "plaintext"
    }
   },
   "outputs": [],
   "source": []
  },
  {
   "cell_type": "markdown",
   "id": "ee99e131",
   "metadata": {},
   "source": [
    "Signatures are interfaces for structures. A signature specifies which components of a structure are accessible from the outside, and with which type."
   ]
  },
  {
   "cell_type": "code",
   "execution_count": null,
   "id": "4fa3ee8e",
   "metadata": {
    "vscode": {
     "languageId": "plaintext"
    }
   },
   "outputs": [],
   "source": []
  },
  {
   "cell_type": "markdown",
   "id": "1514fa43",
   "metadata": {},
   "source": [
    "Modules use `struct...end` syntax to group related definations together. By restricting the signature of `Q` to `Queue`, we forbid functions from accessing the underlying strudture of our queues, i.e. lists."
   ]
  },
  {
   "cell_type": "code",
   "execution_count": null,
   "id": "ac9ff80b",
   "metadata": {
    "vscode": {
     "languageId": "plaintext"
    }
   },
   "outputs": [],
   "source": [
    "let q = Q.empty\n",
    "let q = Q.enq 3 q\n",
    "let q = Q.enq 4 q\n",
    "let x = List.hd (snd q) (* This won't work *)"
   ]
  },
  {
   "cell_type": "markdown",
   "id": "6a124cb2",
   "metadata": {},
   "source": [
    "### 2D Grid"
   ]
  },
  {
   "cell_type": "markdown",
   "id": "b4a8e3b3",
   "metadata": {},
   "source": [
    "We now look at a signature of a 2-dimensional grid, which we use to model a map of trees or open grounds. We use a pair of integers (the coordinate) to represent a position on the map.\n"
   ]
  },
  {
   "cell_type": "code",
   "execution_count": null,
   "id": "531c5db4",
   "metadata": {
    "vscode": {
     "languageId": "plaintext"
    }
   },
   "outputs": [],
   "source": []
  },
  {
   "cell_type": "markdown",
   "id": "52e3736c",
   "metadata": {},
   "source": [
    "\n",
    "We now define the signature of the grid. It should contain all data we need to represent the grid (width, height, what's on a position) and operations for the map (init, update). We might as well add a display function for printing the grid out."
   ]
  },
  {
   "cell_type": "code",
   "execution_count": null,
   "id": "0041ae9e",
   "metadata": {
    "vscode": {
     "languageId": "plaintext"
    }
   },
   "outputs": [],
   "source": []
  },
  {
   "cell_type": "markdown",
   "id": "8738c5a0",
   "metadata": {},
   "source": [
    "Using what we've learned so far, we can implement the grid using a list of lists."
   ]
  },
  {
   "cell_type": "code",
   "execution_count": null,
   "id": "7ca0b6a1",
   "metadata": {
    "vscode": {
     "languageId": "plaintext"
    }
   },
   "outputs": [],
   "source": []
  },
  {
   "cell_type": "code",
   "execution_count": null,
   "id": "e566fc22",
   "metadata": {
    "vscode": {
     "languageId": "plaintext"
    }
   },
   "outputs": [],
   "source": [
    "let g1 = ListGrid.init 3 8 (fun x y -> Ground)\n",
    "let () = ListGrid.show g1"
   ]
  },
  {
   "cell_type": "markdown",
   "id": "16d3acba",
   "metadata": {},
   "source": [
    "### OCaml Arrays"
   ]
  },
  {
   "cell_type": "markdown",
   "id": "1049e133",
   "metadata": {},
   "source": [
    "Apart from using functional arrays, OCaml provides actual mutable arrays like those in C or C++. Here are common ways to create, access, and modify an array, and you can find more in the [documentation](https://ocaml.org/manual/5.3/api/Array.html)."
   ]
  },
  {
   "cell_type": "code",
   "execution_count": null,
   "id": "b46e3d0e",
   "metadata": {
    "vscode": {
     "languageId": "plaintext"
    }
   },
   "outputs": [],
   "source": [
    "(* Create array *)\n",
    "let arr1 = [|1; 2; 3; 4; 5|]\n",
    "let arr2 = Array.init 10 (fun x -> x + 3)\n",
    "let arr3 = Array.of_list ['a'; 'b'; 'c']\n",
    "\n",
    "(* Array access *)\n",
    "let x = arr1.(3)\n",
    "let y = Array.get arr2 5\n",
    "let z = Array.get arr3 10\n",
    "\n",
    "(* Array update *)\n",
    "(* Note the type of these! *)\n",
    "let () = arr1.(3) <- 10\n",
    "let () = Array.set arr2 5 100\n",
    "let () = Array.set arr3 10 10"
   ]
  },
  {
   "cell_type": "markdown",
   "id": "a4e1497d",
   "metadata": {},
   "source": [
    "We can now use the imperative features of OCaml to implement a grid with arrays of arrays."
   ]
  },
  {
   "cell_type": "code",
   "execution_count": null,
   "id": "92dc01a9",
   "metadata": {
    "vscode": {
     "languageId": "plaintext"
    }
   },
   "outputs": [],
   "source": []
  },
  {
   "cell_type": "code",
   "execution_count": null,
   "id": "699cbe0b",
   "metadata": {
    "vscode": {
     "languageId": "plaintext"
    }
   },
   "outputs": [],
   "source": [
    "let g2 = ArrayGrid.init 4 5 (fun x y -> (if x + y = 3 then Tree else Ground))\n",
    "let () = ArrayGrid.show g2"
   ]
  }
 ],
 "metadata": {
  "language_info": {
   "name": "python"
  }
 },
 "nbformat": 4,
 "nbformat_minor": 5
}
