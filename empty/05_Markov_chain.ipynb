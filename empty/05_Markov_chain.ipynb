{
 "cells": [
  {
   "cell_type": "markdown",
   "id": "12eccf78",
   "metadata": {},
   "source": [
    "## Markov chains"
   ]
  },
  {
   "cell_type": "markdown",
   "id": "9b6248ec",
   "metadata": {},
   "source": [
    "We'll cover the following topics in this notebook:\n",
    "- Random number generation\n",
    "- Model of finite state machines\n",
    "- Model of Markov chains\n"
   ]
  },
  {
   "cell_type": "markdown",
   "id": "4c649185",
   "metadata": {},
   "source": [
    "### Random number generation"
   ]
  },
  {
   "cell_type": "code",
   "execution_count": null,
   "id": "f6f7f95a",
   "metadata": {
    "vscode": {
     "languageId": "plaintext"
    }
   },
   "outputs": [],
   "source": [
    "(* \n",
    "\tOCaml's Random module provides a pseudo-random number generator.\n",
    "\tThe term \"pseudo\" means that the number it generates \n",
    "\tdepends on a random \"seed\" given at initialization.\n",
    "\tThe same seed always generates the same \"random\" sequence. \n",
    "*)\n",
    "\n",
    "(* init : int -> unit *)\n",
    "(* Initializes the RNG with seed. *)\n",
    "\n",
    "(* int : int -> int *)\n",
    "(* [Random.int bound] Generates an integer i such that 0 <= i < bound. *)\n",
    "\n",
    "(* Simple simulation *)"
   ]
  },
  {
   "cell_type": "markdown",
   "id": "6a124cb2",
   "metadata": {},
   "source": [
    "### Finite state machines"
   ]
  },
  {
   "cell_type": "code",
   "execution_count": null,
   "id": "531c5db4",
   "metadata": {
    "vscode": {
     "languageId": "plaintext"
    }
   },
   "outputs": [],
   "source": [
    "(*\n",
    "\tFinite state machines \n",
    "\n",
    "\tA finite state machine is a simple model of computation,\n",
    "\twith the following components:\n",
    "\t- A set of machine states\n",
    "\t- A start state\n",
    "\t- A set of accepting states \n",
    "\t- A set of input characters (an alphabet)\n",
    "\t- A transition function, describes the machine's action at each given input\n",
    "*)\n",
    "\n",
    "(*\n",
    "\tIn OCaml terms, we need:\n",
    "\ttype states\n",
    "\tval start : state\n",
    "\tval accept : state -> bool\n",
    "\tval alphabet : char -> bool\n",
    "\tval transit : state -> char -> state\n",
    "*)\n",
    "\n",
    "(*\n",
    "\tGiven a list of characters (a string), we can \n",
    "\tfeed it into the machine, calculating each step with\n",
    "\tthe transit function.\n",
    "\n",
    "\tIf the machine is in an accepting state when\n",
    "\tit consumed all input characters, we say that \n",
    "\tthis machine accepts the input string.\n",
    "\n",
    "\tWhat kind of string gets accepted by our machine?\n",
    "*)\n"
   ]
  },
  {
   "cell_type": "code",
   "execution_count": null,
   "id": "0041ae9e",
   "metadata": {
    "vscode": {
     "languageId": "plaintext"
    }
   },
   "outputs": [],
   "source": []
  },
  {
   "cell_type": "markdown",
   "id": "16d3acba",
   "metadata": {},
   "source": [
    "### Markov chains"
   ]
  },
  {
   "cell_type": "code",
   "execution_count": null,
   "id": "b46e3d0e",
   "metadata": {
    "vscode": {
     "languageId": "plaintext"
    }
   },
   "outputs": [],
   "source": [
    "(*\n",
    "\tMarkov chains\n",
    "\n",
    "\tWe now build a probabilistic model: a Markov chain,\n",
    "\twhich is like a finite state machine, but the state\n",
    "\ttransition happens randomly, and the probability of\n",
    "\treaching the next state only depends on the\n",
    "\tcurrent state. \n",
    "*)\n",
    "\n",
    "\n",
    "(* \n",
    "\tWe can sample and estimate the stationary distribution \n",
    "\tof our Markov chain: the proportion of each state's \n",
    "\tappearance in an infinite sequence.\n",
    "*)\n"
   ]
  },
  {
   "cell_type": "code",
   "execution_count": null,
   "id": "92dc01a9",
   "metadata": {
    "vscode": {
     "languageId": "plaintext"
    }
   },
   "outputs": [],
   "source": [
    "(*\n",
    "\tPuzzle: In a game, the main character's attack has \n",
    "\t25% chance of being a critical hit. To avoid getting\n",
    "\tlong sequences without a critical, the developers\n",
    "\tused a \"fake-random\" algorithm that guarantees\n",
    "\ta critical in every four hits. What is the actual\n",
    "\tprobability of getting a critical hit?\n",
    "*)\n",
    "\n"
   ]
  }
 ],
 "metadata": {
  "language_info": {
   "name": "python"
  }
 },
 "nbformat": 4,
 "nbformat_minor": 5
}
