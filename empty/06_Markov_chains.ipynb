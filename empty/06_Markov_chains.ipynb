{
 "cells": [
  {
   "cell_type": "markdown",
   "id": "12eccf78",
   "metadata": {},
   "source": [
    "## Markov chains"
   ]
  },
  {
   "cell_type": "markdown",
   "id": "9b6248ec",
   "metadata": {},
   "source": [
    "We'll cover the following topics in this notebook:\n",
    "- Random number generation\n",
    "- Markov chains: definition, stationary distribution \n",
    "- Modelling Markov chains\n"
   ]
  },
  {
   "cell_type": "markdown",
   "id": "4c649185",
   "metadata": {},
   "source": [
    "### Random number generation"
   ]
  },
  {
   "cell_type": "code",
   "execution_count": null,
   "id": "f6f7f95a",
   "metadata": {
    "vscode": {
     "languageId": "plaintext"
    }
   },
   "outputs": [],
   "source": [
    "(* \n",
    "\tOCaml's Random module provides a pseudo-random number generator.\n",
    "\tThe term \"pseudo\" means that the number it generates \n",
    "\tdepends on a random \"seed\" given at initialization.\n",
    "\tThe same seed always generates the same \"random\" sequence. \n",
    "*)\n",
    "\n",
    "(* init : int -> unit *)\n",
    "(* Initializes the RNG with seed. *)\n",
    "\n",
    "(* int : int -> int *)\n",
    "(* [Random.int bound] Generates an integer i such that 0 <= i < bound. *)\n",
    "\n",
    "(* Simple simulation *)"
   ]
  },
  {
   "cell_type": "code",
   "execution_count": null,
   "id": "b46e3d0e",
   "metadata": {
    "vscode": {
     "languageId": "plaintext"
    }
   },
   "outputs": [],
   "source": [
    "(*\n",
    "\tMarkov chains\n",
    "\n",
    "\tWe now build a probabilistic model: a Markov chain,\n",
    "\twhich is like a finite state machine, but the state\n",
    "\ttransition happens randomly, and the probability of\n",
    "\treaching the next state only depends on the\n",
    "\tcurrent state. \n",
    "*)\n",
    "\n",
    "(* \n",
    "\tWe can sample and estimate the stationary distribution \n",
    "\tof our Markov chain: the proportion of each state's \n",
    "\tappearance in an infinite sequence.\n",
    "*)\n"
   ]
  },
  {
   "cell_type": "code",
   "execution_count": null,
   "id": "92dc01a9",
   "metadata": {
    "vscode": {
     "languageId": "plaintext"
    }
   },
   "outputs": [],
   "source": [
    "(*\n",
    "\tPuzzle: In a game, the main character's attack has \n",
    "\t25% chance of being a critical hit. To avoid getting\n",
    "\tlong sequences without a critical, the developers\n",
    "\tused a \"fake-random\" algorithm that guarantees\n",
    "\ta critical in every four hits. What is the actual\n",
    "\tprobability of getting a critical hit?\n",
    "*)\n"
   ]
  }
 ],
 "metadata": {
  "kernelspec": {
   "display_name": "OCaml default",
   "language": "OCaml",
   "name": "ocaml-jupyter-default"
  },
  "language_info": {
   "codemirror_mode": "text/x-ocaml",
   "file_extension": ".ml",
   "mimetype": "text/x-ocaml",
   "name": "OCaml",
   "nbconverter_exporter": null,
   "pygments_lexer": "OCaml",
   "version": "4.14.1"
  }
 },
 "nbformat": 4,
 "nbformat_minor": 5
}
