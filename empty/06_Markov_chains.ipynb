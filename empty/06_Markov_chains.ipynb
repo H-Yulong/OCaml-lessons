{
 "cells": [
  {
   "cell_type": "markdown",
   "id": "12eccf78",
   "metadata": {},
   "source": [
    "## Markov chains"
   ]
  },
  {
   "cell_type": "markdown",
   "id": "9b6248ec",
   "metadata": {},
   "source": [
    "We'll cover the following topics in this notebook:\n",
    "- Random number generation\n",
    "- Markov chains: definition, stationary distribution \n",
    "- Modelling Markov chains\n"
   ]
  },
  {
   "cell_type": "markdown",
   "id": "4c649185",
   "metadata": {},
   "source": [
    "### Random number generation"
   ]
  },
  {
   "cell_type": "markdown",
   "id": "db389c6e",
   "metadata": {},
   "source": [
    "OCaml's Random module provides a pseudo-random number generator.\n",
    "The term \"pseudo\" means that the number it generates \n",
    "depends on a random \"seed\" given at initialization.\n",
    "The same seed always generates the same \"random\" sequence. "
   ]
  },
  {
   "cell_type": "markdown",
   "id": "5bd75c87",
   "metadata": {},
   "source": [
    "> `val init : int -> unit`\n",
    ">\n",
    "> &emsp; Initialize the domain-local generator, using the argument as a seed. The same seed will always yield the same sequence of numbers."
   ]
  },
  {
   "cell_type": "code",
   "execution_count": null,
   "id": "3d07687c",
   "metadata": {
    "vscode": {
     "languageId": "plaintext"
    }
   },
   "outputs": [],
   "source": []
  },
  {
   "cell_type": "markdown",
   "id": "a4848a87",
   "metadata": {},
   "source": [
    "> `val int : int -> int`\n",
    ">\n",
    "> &emsp; `Random.int` bound returns a random integer between `0` (inclusive) and `bound` (exclusive). `bound` must be greater than $0$ and less than $2^{30}$."
   ]
  },
  {
   "cell_type": "code",
   "execution_count": null,
   "id": "898d4dcd",
   "metadata": {
    "vscode": {
     "languageId": "plaintext"
    }
   },
   "outputs": [],
   "source": []
  },
  {
   "cell_type": "markdown",
   "id": "2e8c69cb",
   "metadata": {},
   "source": [
    "We can now run a simple simulation of the random number generator, \n",
    "counting the occurances of each number and record them in an array."
   ]
  },
  {
   "cell_type": "code",
   "execution_count": null,
   "id": "f6f7f95a",
   "metadata": {
    "vscode": {
     "languageId": "plaintext"
    }
   },
   "outputs": [
    {
     "data": {
      "text/plain": [
       "val seed : int = 0\n"
      ]
     },
     "execution_count": 1,
     "metadata": {},
     "output_type": "execute_result"
    },
    {
     "data": {
      "text/plain": [
       "- : int = 2\n"
      ]
     },
     "execution_count": 1,
     "metadata": {},
     "output_type": "execute_result"
    },
    {
     "data": {
      "text/plain": [
       "val ls : int list = [0; 4; 6; 2; 3; 8; 2; 4; 7; 8]\n"
      ]
     },
     "execution_count": 1,
     "metadata": {},
     "output_type": "execute_result"
    },
    {
     "data": {
      "text/plain": [
       "val compute_prob : int -> float array = <fun>\n"
      ]
     },
     "execution_count": 1,
     "metadata": {},
     "output_type": "execute_result"
    }
   ],
   "source": []
  },
  {
   "cell_type": "markdown",
   "id": "fed30907",
   "metadata": {},
   "source": [
    "#### Markov Chains"
   ]
  },
  {
   "cell_type": "markdown",
   "id": "0c4c5ad3",
   "metadata": {},
   "source": [
    "We now build a probabilistic model: a Markov chain,\n",
    "which is like a finite state machine, but there is no input characters\n",
    "--- the state transitions happens randomly and spontaneously, \n",
    "and the probability of reaching the next state only depends on the current state. "
   ]
  },
  {
   "cell_type": "markdown",
   "id": "2eb1fb19",
   "metadata": {},
   "source": [
    "We consider the following simple Markov chain with two states $\\{A, B\\}$\n",
    "and the probability of switching to the opposite state is $\\frac{1}{2}$."
   ]
  },
  {
   "cell_type": "code",
   "execution_count": null,
   "id": "b46e3d0e",
   "metadata": {
    "vscode": {
     "languageId": "plaintext"
    }
   },
   "outputs": [
    {
     "data": {
      "text/plain": [
       "type states = A | B\n"
      ]
     },
     "execution_count": 6,
     "metadata": {},
     "output_type": "execute_result"
    },
    {
     "data": {
      "text/plain": [
       "val next_state : states -> states = <fun>\n"
      ]
     },
     "execution_count": 6,
     "metadata": {},
     "output_type": "execute_result"
    },
    {
     "data": {
      "text/plain": [
       "val trace : states -> int -> states list = <fun>\n"
      ]
     },
     "execution_count": 6,
     "metadata": {},
     "output_type": "execute_result"
    },
    {
     "data": {
      "text/plain": [
       "val dist : states -> int -> float array = <fun>\n"
      ]
     },
     "execution_count": 6,
     "metadata": {},
     "output_type": "execute_result"
    },
    {
     "data": {
      "text/plain": [
       "- : float array = [|0.5011; 0.4989|]\n"
      ]
     },
     "execution_count": 6,
     "metadata": {},
     "output_type": "execute_result"
    }
   ],
   "source": []
  },
  {
   "cell_type": "markdown",
   "id": "bb3df4bf",
   "metadata": {},
   "source": [
    "For a finite Markov chain with states $\\{A_1, A_2, ..., A_n\\}$,\n",
    "we can express the state transition probabilities with a *transition matrix* $M$ \n",
    "such that $M_{ij} = P(s_{n+1} = A_j | s_n = A_i )$\n",
    "(where $s_n$ stands for the current state and $s_{n+1}$ is the next state)."
   ]
  },
  {
   "cell_type": "markdown",
   "id": "5f8e0c01",
   "metadata": {},
   "source": [
    "We can sample and estimate the *stationary distribution* \n",
    "of our Markov chain: the proportion of each state's \n",
    "appearance in an infinite sequence.\n",
    "Relating to the transition matrix, the stationary distribution \n",
    "is a row vector $\\pi$ such that $\\pi_i$ is the proportion of state $A_i$'s appearance \n",
    "and $\\pi M = \\pi$. "
   ]
  },
  {
   "cell_type": "code",
   "execution_count": null,
   "id": "3023c779",
   "metadata": {
    "vscode": {
     "languageId": "plaintext"
    }
   },
   "outputs": [],
   "source": []
  },
  {
   "cell_type": "markdown",
   "id": "232d9b75",
   "metadata": {},
   "source": [
    "We now look at a puzzle. In a RPG game, the main character's attack has \n",
    "25% chance of being a critical hit. To avoid getting\n",
    "long sequences without a critical, the developers\n",
    "used a \"fake-random\" algorithm that guarantees\n",
    "a critical in every four hits. What is the actual\n",
    "probability of getting a critical hit?"
   ]
  },
  {
   "cell_type": "code",
   "execution_count": null,
   "id": "92dc01a9",
   "metadata": {
    "vscode": {
     "languageId": "plaintext"
    }
   },
   "outputs": [
    {
     "data": {
      "text/plain": [
       "type states = S0 | S1 | S2 | Crit\n"
      ]
     },
     "execution_count": 3,
     "metadata": {},
     "output_type": "execute_result"
    },
    {
     "data": {
      "text/plain": [
       "val next_state : states -> states = <fun>\n"
      ]
     },
     "execution_count": 3,
     "metadata": {},
     "output_type": "execute_result"
    },
    {
     "data": {
      "text/plain": [
       "val trace : states -> int -> states list = <fun>\n"
      ]
     },
     "execution_count": 3,
     "metadata": {},
     "output_type": "execute_result"
    },
    {
     "data": {
      "text/plain": [
       "val dist : states -> int -> float array = <fun>\n"
      ]
     },
     "execution_count": 3,
     "metadata": {},
     "output_type": "execute_result"
    },
    {
     "data": {
      "text/plain": [
       "val actual : float array =\n",
       "  [|0.365714285714285714; 0.274285714285714299; 0.205714285714285711;\n",
       "    0.154285714285714276|]\n"
      ]
     },
     "execution_count": 3,
     "metadata": {},
     "output_type": "execute_result"
    }
   ],
   "source": []
  }
 ],
 "metadata": {
  "kernelspec": {
   "display_name": "OCaml default",
   "language": "OCaml",
   "name": "ocaml-jupyter-default"
  },
  "language_info": {
   "codemirror_mode": "text/x-ocaml",
   "file_extension": ".ml",
   "mimetype": "text/x-ocaml",
   "name": "OCaml",
   "nbconverter_exporter": null,
   "pygments_lexer": "OCaml",
   "version": "4.14.1"
  }
 },
 "nbformat": 4,
 "nbformat_minor": 5
}
