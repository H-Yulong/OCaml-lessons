{
 "cells": [
  {
   "cell_type": "markdown",
   "id": "64dd158a-833d-4dcf-a9b6-906c5775520b",
   "metadata": {},
   "source": [
    "## Session 1: The List standard library"
   ]
  },
  {
   "cell_type": "markdown",
   "id": "7f87c4ad",
   "metadata": {},
   "source": [
    "Modern programming languages often provide a standard library of commonly used data structures, functions and elementary operations, so that programmers do not need to re-implement these features themselves. One should consider using standard library functions because they are available across all implementations and (usually) well-suited for optimizations."
   ]
  },
  {
   "cell_type": "markdown",
   "id": "c2011af0",
   "metadata": {},
   "source": [
    "Today, we look at the standard library for [Lists](https://ocaml.org/manual/5.2/api/List.html).\n",
    "The library functions are given in the following format, showing its name, type, and a short description."
   ]
  },
  {
   "cell_type": "markdown",
   "id": "cb641b27-25e2-470a-8fa8-f0d027edcbc8",
   "metadata": {},
   "source": [
    "> `val length : 'a list -> int`\n",
    ">\n",
    "> &emsp; Return the length (number of elements) of the given list."
   ]
  },
  {
   "cell_type": "markdown",
   "id": "0e71a550",
   "metadata": {},
   "source": [
    "To warm up, let's try to write the (non tail-recursive) `length` function."
   ]
  },
  {
   "cell_type": "code",
   "execution_count": 1,
   "id": "01f20457-3507-4117-aa7a-89f0b3cbecd9",
   "metadata": {
    "vscode": {
     "languageId": "ocaml"
    }
   },
   "outputs": [
    {
     "data": {
      "text/plain": [
       "val length : 'a list -> int = <fun>\n"
      ]
     },
     "execution_count": 1,
     "metadata": {},
     "output_type": "execute_result"
    }
   ],
   "source": []
  },
  {
   "cell_type": "markdown",
   "id": "ce5e0004",
   "metadata": {},
   "source": [
    "Now, the tail-recursive version of `length`. Note that we do not need to know the value of the head, so we could just place an underscore \"wildcard\" there."
   ]
  },
  {
   "cell_type": "code",
   "execution_count": null,
   "id": "63bfe9ea",
   "metadata": {
    "vscode": {
     "languageId": "plaintext"
    }
   },
   "outputs": [],
   "source": []
  },
  {
   "cell_type": "code",
   "execution_count": null,
   "id": "553d72f9",
   "metadata": {
    "vscode": {
     "languageId": "plaintext"
    }
   },
   "outputs": [],
   "source": []
  },
  {
   "cell_type": "markdown",
   "id": "e4bd56ed",
   "metadata": {},
   "source": [
    "How do we know if a library function is tail-recursive or not? Check the descriptions:\n",
    "\n",
    "> Some functions are flagged as not tail-recursive. A tail-recursive function uses constant stack space, while a non-tail-recursive function uses stack space proportional to the length of its list argument, which can be a problem with very long lists. When the function takes several list arguments, an approximate formula giving stack usage (in some unspecified constant unit) is shown in parentheses.\n",
    "> \n",
    "> The above considerations can usually be ignored if your lists are not longer than about 10000 elements.\n",
    "\n",
    "There is no flag on the `length` function, it means that `List.length` is tail recursive. Most functions in the library are tail recursive, for example, `rev`."
   ]
  },
  {
   "cell_type": "markdown",
   "id": "e41a3473",
   "metadata": {},
   "source": [
    "> `rev : 'a list -> 'a list`\n",
    ">\n",
    "> &emsp; List reversal."
   ]
  },
  {
   "cell_type": "code",
   "execution_count": null,
   "id": "f47d9acd",
   "metadata": {
    "vscode": {
     "languageId": "plaintext"
    }
   },
   "outputs": [],
   "source": []
  },
  {
   "cell_type": "code",
   "execution_count": null,
   "id": "3da82bc0",
   "metadata": {
    "vscode": {
     "languageId": "plaintext"
    }
   },
   "outputs": [],
   "source": []
  },
  {
   "cell_type": "markdown",
   "id": "da588dd8",
   "metadata": {},
   "source": [
    "The classic example of a non tail-recursive function is `append`.\n",
    "\n",
    "> `append : 'a list -> 'a list -> 'a list`\n",
    "> \n",
    "> &emsp; Concatenate two lists. Same function as the infix operator @. Not tail-recursive (length of the first argument). The @ operator is not tail-recursive either.\n",
    "\n",
    "In OCaml, we can define infix operators like this:"
   ]
  },
  {
   "cell_type": "code",
   "execution_count": null,
   "id": "1f850364",
   "metadata": {
    "vscode": {
     "languageId": "plaintext"
    }
   },
   "outputs": [],
   "source": []
  },
  {
   "cell_type": "markdown",
   "id": "c67fd1cf",
   "metadata": {},
   "source": [
    "We have implemented some functions, and now is a good time to test them. We can use `init` to generate some test lists.\n",
    "\n",
    "> `init : int -> (int -> 'a) -> 'a list`\n",
    ">\n",
    "> &emsp; `init len f` is `[f 0; f 1; ...; f (len-1)]`, evaluated left to right."
   ]
  },
  {
   "cell_type": "code",
   "execution_count": null,
   "id": "fac09a00",
   "metadata": {
    "vscode": {
     "languageId": "plaintext"
    }
   },
   "outputs": [],
   "source": []
  },
  {
   "cell_type": "code",
   "execution_count": null,
   "id": "1cc187af",
   "metadata": {
    "vscode": {
     "languageId": "plaintext"
    }
   },
   "outputs": [],
   "source": []
  },
  {
   "cell_type": "markdown",
   "id": "fadc462b",
   "metadata": {},
   "source": [
    "Or, the tail-recursive version, using reverse."
   ]
  },
  {
   "cell_type": "code",
   "execution_count": null,
   "id": "05e56a77",
   "metadata": {
    "vscode": {
     "languageId": "plaintext"
    }
   },
   "outputs": [],
   "source": []
  },
  {
   "cell_type": "code",
   "execution_count": null,
   "id": "d44aee33",
   "metadata": {
    "vscode": {
     "languageId": "plaintext"
    }
   },
   "outputs": [],
   "source": []
  },
  {
   "cell_type": "markdown",
   "id": "20fdbebb",
   "metadata": {},
   "source": [
    "Time for some tests!"
   ]
  },
  {
   "cell_type": "code",
   "execution_count": null,
   "id": "a5cbd484",
   "metadata": {
    "vscode": {
     "languageId": "plaintext"
    }
   },
   "outputs": [],
   "source": [
    "let l1 = init 10 (fun x -> x)"
   ]
  },
  {
   "cell_type": "code",
   "execution_count": null,
   "id": "8a4cdfda",
   "metadata": {
    "vscode": {
     "languageId": "plaintext"
    }
   },
   "outputs": [],
   "source": [
    "let l2 = init 5 (fun x -> 10 + x)"
   ]
  },
  {
   "cell_type": "code",
   "execution_count": null,
   "id": "ebfb8b9b",
   "metadata": {
    "vscode": {
     "languageId": "plaintext"
    }
   },
   "outputs": [],
   "source": [
    "length (rev (l1 @ l2))"
   ]
  },
  {
   "cell_type": "markdown",
   "id": "bce9708c",
   "metadata": {},
   "source": [
    "Now, we look at iterators, i.e. ways to traverse every element of a list."
   ]
  },
  {
   "cell_type": "markdown",
   "id": "63771160",
   "metadata": {},
   "source": [
    "> ` map : ('a -> 'b) -> 'a list -> 'b list`\n",
    ">\n",
    "> &emsp; `map f [a1; ...; an]` applies function `f` to `a1, ..., an`, and builds the list `[f a1; ...; f an]` with the results returned by `f`."
   ]
  },
  {
   "cell_type": "code",
   "execution_count": null,
   "id": "b2fd6302",
   "metadata": {
    "vscode": {
     "languageId": "plaintext"
    }
   },
   "outputs": [],
   "source": []
  },
  {
   "cell_type": "markdown",
   "id": "eb7da127",
   "metadata": {},
   "source": [
    "We can, of course, implement the tail-recursive version of map using an accumulator and reverse."
   ]
  },
  {
   "cell_type": "code",
   "execution_count": null,
   "id": "6a83fd70",
   "metadata": {
    "vscode": {
     "languageId": "plaintext"
    }
   },
   "outputs": [],
   "source": []
  },
  {
   "cell_type": "code",
   "execution_count": null,
   "id": "3ea1880a",
   "metadata": {
    "vscode": {
     "languageId": "plaintext"
    }
   },
   "outputs": [],
   "source": []
  },
  {
   "cell_type": "markdown",
   "id": "a395f3e3",
   "metadata": {},
   "source": [
    "But, as you can see, we pay an extra time to reverse the list, which is not desirable. Both implementations have $O(n)$ time complexity, but the tail-recursive one has a larger constant factor.\n",
    "OCaml's standard library uses a technique called *tail recursion modulo cons* to avoid the extra time due to reverse."
   ]
  },
  {
   "cell_type": "markdown",
   "id": "44f43634",
   "metadata": {},
   "source": [
    "Now we look at `mapi`, a more advanced version of `map` such that `f` has access to the element's current position.\n",
    "\n",
    "> `mapi : (int -> 'a -> 'b) -> 'a list -> 'b list`\n",
    ">\n",
    "> &emsp; Same as List.map, but the function is applied to the index of the element as first argument (counting from 0), and the element itself as second argument."
   ]
  },
  {
   "cell_type": "code",
   "execution_count": null,
   "id": "c5cb6454",
   "metadata": {
    "vscode": {
     "languageId": "plaintext"
    }
   },
   "outputs": [],
   "source": []
  },
  {
   "cell_type": "markdown",
   "id": "409989f0",
   "metadata": {},
   "source": [
    "Reverse map is naturally tail-recursive.\n",
    "\n",
    "> `val rev_map : ('a -> 'b) -> 'a list -> 'b list`\n",
    ">\n",
    "> &emsp; `rev_map f l` gives the same result as `List.rev (List.map f l)`, but is more efficient.\n"
   ]
  },
  {
   "cell_type": "code",
   "execution_count": null,
   "id": "4af1a293",
   "metadata": {
    "vscode": {
     "languageId": "plaintext"
    }
   },
   "outputs": [],
   "source": []
  },
  {
   "cell_type": "code",
   "execution_count": null,
   "id": "3bc794fd",
   "metadata": {
    "vscode": {
     "languageId": "plaintext"
    }
   },
   "outputs": [],
   "source": []
  },
  {
   "cell_type": "markdown",
   "id": "9fc156f4",
   "metadata": {},
   "source": [
    "Another way of going through a list is summing."
   ]
  },
  {
   "cell_type": "code",
   "execution_count": null,
   "id": "7ff4b318",
   "metadata": {
    "vscode": {
     "languageId": "plaintext"
    }
   },
   "outputs": [],
   "source": []
  },
  {
   "cell_type": "markdown",
   "id": "a8103146",
   "metadata": {},
   "source": [
    "In general, this is an operation called folding (order of evaluation is left to right).\n",
    "\n",
    "> `fold_left : ('acc -> 'a -> 'acc) -> 'acc -> 'a list -> 'acc`\n",
    "> \n",
    "> &emsp; `fold_left f init [b1; ...; bn]` is `f (... (f (f init b1) b2) ...) bn`.\n",
    "\n",
    "We get `sum` by setting `f = (+)` and `init = 0`."
   ]
  },
  {
   "cell_type": "code",
   "execution_count": null,
   "id": "6a8f107f",
   "metadata": {
    "vscode": {
     "languageId": "plaintext"
    }
   },
   "outputs": [],
   "source": []
  },
  {
   "cell_type": "markdown",
   "id": "70fd52c7",
   "metadata": {},
   "source": [
    "We may also fold with order from right to left.\n",
    "\n",
    "> `fold_right : ('a -> 'acc -> 'acc) -> 'a list -> 'acc -> 'acc`\n",
    ">\n",
    "> &emsp; `fold_right f [a1; ...; an] init` is `f a1 (f a2 (... (f an init) ...))`. Not tail-recursive."
   ]
  },
  {
   "cell_type": "code",
   "execution_count": null,
   "id": "70c809ef",
   "metadata": {
    "vscode": {
     "languageId": "plaintext"
    }
   },
   "outputs": [],
   "source": []
  },
  {
   "cell_type": "markdown",
   "id": "bc111b83",
   "metadata": {},
   "source": [
    "We can write some tests with the string concatenation operator `(^)`."
   ]
  },
  {
   "cell_type": "code",
   "execution_count": null,
   "id": "8ebb0db7",
   "metadata": {
    "vscode": {
     "languageId": "plaintext"
    }
   },
   "outputs": [],
   "source": [
    "let strs = [\"a\"; \"b\"; \"c\"; \"d\"; \"e\"]"
   ]
  },
  {
   "cell_type": "code",
   "execution_count": null,
   "id": "bcb7548a",
   "metadata": {
    "vscode": {
     "languageId": "plaintext"
    }
   },
   "outputs": [],
   "source": [
    "fold_left (^) \"x\" strs"
   ]
  },
  {
   "cell_type": "code",
   "execution_count": null,
   "id": "4fb9af2d",
   "metadata": {
    "vscode": {
     "languageId": "plaintext"
    }
   },
   "outputs": [],
   "source": [
    "fold_right (^) strs \"x\""
   ]
  },
  {
   "cell_type": "markdown",
   "id": "21cbe1da",
   "metadata": {},
   "source": [
    "Finally, we look at functions for list scanning, i.e. finding elements or elements with special properties in the list.\n",
    "\n",
    "> `mem : 'a -> 'a list -> bool`\n",
    ">\n",
    "> &emsp; `mem a set` is true if and only if `a` is equal to an element of `set`."
   ]
  },
  {
   "cell_type": "code",
   "execution_count": null,
   "id": "607d426f",
   "metadata": {
    "vscode": {
     "languageId": "plaintext"
    }
   },
   "outputs": [],
   "source": []
  },
  {
   "cell_type": "markdown",
   "id": "edbae995",
   "metadata": {},
   "source": [
    "The logical \"or\" operator `||` is a more concise way of writing `if a = x then true else mem a xs`, since `a or b` is always true if `a` is true, and if `a` is false, its value is the same as `b`. Similarly, we may write `a && b`, the logical `a and b` for `if a then b else false`.\n",
    "We use this in the implementation of `for_all` and `exists`.\n",
    "> `for_all : ('a -> bool) -> 'a list -> bool`\n",
    "> \n",
    "> &emsp; `for_all f [a1; ...; an]` checks if all elements of the list satisfy the predicate `f`. That is, it returns `(f a1) && (f a2) && ... && (f an)` for a non-empty list and `true` if the list is empty."
   ]
  },
  {
   "cell_type": "code",
   "execution_count": null,
   "id": "df802346",
   "metadata": {
    "vscode": {
     "languageId": "plaintext"
    }
   },
   "outputs": [],
   "source": []
  },
  {
   "cell_type": "markdown",
   "id": "4b648b08",
   "metadata": {},
   "source": [
    "> `exists : ('a -> bool) -> 'a list -> bool`\n",
    "> \n",
    "> &emsp; `exists f [a1; ...; an]` checks if at least one element of the list satisfies the predicate `f`. That is, it returns `(f a1) || (f a2) || ... || (f an)` for a non-empty list and false if the list is empty."
   ]
  },
  {
   "cell_type": "code",
   "execution_count": null,
   "id": "6b284a95",
   "metadata": {
    "vscode": {
     "languageId": "plaintext"
    }
   },
   "outputs": [],
   "source": []
  },
  {
   "cell_type": "markdown",
   "id": "da4948d7",
   "metadata": {},
   "source": [
    "### Warm-up exercise"
   ]
  },
  {
   "cell_type": "markdown",
   "id": "d9f042cd",
   "metadata": {},
   "source": [
    "**Recursion**\n",
    "\n",
    "1. Write the factorial function so that `factorial n` calculates `n * (n-1) * (n-2) * ... * 1`."
   ]
  },
  {
   "cell_type": "code",
   "execution_count": null,
   "id": "76515365",
   "metadata": {
    "vscode": {
     "languageId": "plaintext"
    }
   },
   "outputs": [],
   "source": []
  },
  {
   "cell_type": "markdown",
   "id": "3b0cea86",
   "metadata": {},
   "source": [
    "2. Write a second version of `factorial` in tail-recursive style."
   ]
  },
  {
   "cell_type": "code",
   "execution_count": null,
   "id": "55b6aa66",
   "metadata": {
    "vscode": {
     "languageId": "plaintext"
    }
   },
   "outputs": [],
   "source": []
  },
  {
   "cell_type": "markdown",
   "id": "be0da3f5",
   "metadata": {},
   "source": [
    "\n",
    "3. Using subtraction, write the remainder function so that `remainder x n` calculates the remainder when `n` is divided by `x`."
   ]
  },
  {
   "cell_type": "code",
   "execution_count": null,
   "id": "f262ab9e",
   "metadata": {
    "vscode": {
     "languageId": "plaintext"
    }
   },
   "outputs": [],
   "source": []
  },
  {
   "cell_type": "markdown",
   "id": "494826e9",
   "metadata": {},
   "source": [
    "4. How many steps does your implementation of `remainder` take for inputs `x` and `n`?"
   ]
  },
  {
   "cell_type": "markdown",
   "id": "f6b9ad81",
   "metadata": {},
   "source": [
    "5. Write the greatest common divisor function so that `gcd x y` finds the highest integer that exactly divides both `x` and `y`."
   ]
  },
  {
   "cell_type": "code",
   "execution_count": null,
   "id": "301e5d10",
   "metadata": {
    "vscode": {
     "languageId": "plaintext"
    }
   },
   "outputs": [],
   "source": []
  },
  {
   "cell_type": "markdown",
   "id": "ac22a6de",
   "metadata": {},
   "source": [
    "**Booleans**\n",
    "\n",
    "1. Using `if...then...else`, `false` and `true`, define the boolean functions:\n",
    "\n",
    "- `not`\n",
    "- `both` (logical _and_)\n",
    "- `either` (logical _or_)\n",
    "- `xor` (logical _exclusive or_)"
   ]
  },
  {
   "cell_type": "code",
   "execution_count": null,
   "id": "e1931545",
   "metadata": {
    "vscode": {
     "languageId": "plaintext"
    }
   },
   "outputs": [],
   "source": []
  },
  {
   "cell_type": "markdown",
   "id": "72c80743",
   "metadata": {},
   "source": [
    "**Characters**\n",
    "\n",
    "1. Using OCaml's comparison operators `<=`, `<`, `>=`, `>`, `=`, define the functions\n",
    "\n",
    "- `is_upper` that checks whether a character is an uppercase character ('A' to 'Z')\n",
    "- `is_lower` that checks whether a character is a lower character ('a' to 'z')\n",
    "- `is_digit` that checks whether a character is a digit ('0' to '9')\n",
    "- `is_alpha` that checks whether a character is an alphabetic character ('a' to 'z' or 'A' to 'Z')\n",
    "- `is_vowel` that checks whether a character is a vowel\n"
   ]
  },
  {
   "cell_type": "code",
   "execution_count": null,
   "id": "5bbfb813",
   "metadata": {
    "vscode": {
     "languageId": "plaintext"
    }
   },
   "outputs": [],
   "source": []
  }
 ],
 "metadata": {
  "kernelspec": {
   "display_name": "OCaml 4.14.1",
   "language": "OCaml",
   "name": "ocaml-jupyter"
  },
  "language_info": {
   "codemirror_mode": "text/x-ocaml",
   "file_extension": ".ml",
   "mimetype": "text/x-ocaml",
   "name": "OCaml",
   "nbconverter_exporter": null,
   "pygments_lexer": "OCaml",
   "version": "4.14.1"
  }
 },
 "nbformat": 4,
 "nbformat_minor": 5
}
