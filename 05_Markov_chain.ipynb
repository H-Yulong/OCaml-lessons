{
 "cells": [
  {
   "cell_type": "markdown",
   "id": "12eccf78",
   "metadata": {},
   "source": [
    "## Markov chains"
   ]
  },
  {
   "cell_type": "markdown",
   "id": "9b6248ec",
   "metadata": {},
   "source": [
    "We'll cover the following topics in this notebook:\n",
    "- Random number generation\n",
    "- Model of finite state machines\n",
    "- Model of Markov chains\n"
   ]
  },
  {
   "cell_type": "markdown",
   "id": "4c649185",
   "metadata": {},
   "source": [
    "### Random number generation"
   ]
  },
  {
   "cell_type": "code",
   "execution_count": null,
   "id": "f6f7f95a",
   "metadata": {
    "vscode": {
     "languageId": "plaintext"
    }
   },
   "outputs": [],
   "source": [
    "let seed = 0\n",
    "let () = Random.init seed\n",
    "\n",
    "let _ = Random.int 10\n",
    "let ls = List.init 10 (fun _ -> Random.int 10)\n",
    "\n",
    "(* Simple simulation *)\n",
    "let compute_prob total =\n",
    "\tlet counts = Array.make 10 0. in\n",
    "\tlet samples = List.init total (fun _ -> Random.int 10) in\n",
    "\tlet rec aux = function\n",
    "\t\t| [] -> ()\n",
    "\t\t| x :: xs -> \n",
    "\t\t\tcounts.(x) <- counts.(x) +. 1.;\n",
    "\t\t\taux xs\n",
    "\tin \n",
    "\t\taux samples;\n",
    "\t\tArray.map (fun x -> x /. (float_of_int total)) counts"
   ]
  },
  {
   "cell_type": "markdown",
   "id": "6a124cb2",
   "metadata": {},
   "source": [
    "### Finite state machines"
   ]
  },
  {
   "cell_type": "code",
   "execution_count": null,
   "id": "531c5db4",
   "metadata": {
    "vscode": {
     "languageId": "plaintext"
    }
   },
   "outputs": [],
   "source": [
    "type states = A | B\n",
    "\n",
    "let start = B\n",
    "\n",
    "let accept = function\n",
    "\t| A -> false\n",
    "\t| B -> true\n",
    "\n",
    "let transit s c = match (s, c) with\n",
    "\t| A, 'a' -> A\n",
    "\t| A, 'b' -> B\n",
    "\t| B, 'a' -> A\n",
    "\t| B, 'b' -> B\n",
    "\t| _ -> raise (Invalid_argument \"Unexpected character!\")\n",
    "\n",
    "let match_str str = \n",
    "\tlet len = String.length str in\n",
    "\tlet ls = List.init len (fun i -> String.get str i) in\n",
    "\tlet rec matching state = function\n",
    "\t\t| [] -> accept state\n",
    "\t\t| c :: cs -> \n",
    "\t\t\tlet state' = transit state c in\n",
    "\t\t\tmatching state' cs\n",
    "\tin\n",
    "\n",
    "\t\tmatching start ls\n",
    "\n",
    "let _ = match_str \"abababba\""
   ]
  },
  {
   "cell_type": "code",
   "execution_count": null,
   "id": "0041ae9e",
   "metadata": {
    "vscode": {
     "languageId": "plaintext"
    }
   },
   "outputs": [],
   "source": [
    "type states = A0 | A1 | A2 | Acc\n",
    "\n",
    "let start = A0\n",
    "\n",
    "let accept = function\n",
    "\t| Acc -> true\n",
    "\t| _ -> false\n",
    "\n",
    "let transit s c = match (s, c) with\n",
    "\t| A0, 'a' -> A1\n",
    "\t| A1, 'a' -> A2\n",
    "\t| A2, 'a' -> Acc\n",
    "\t| Acc, 'a' -> Acc\n",
    "\t| state, 'b' -> state\n",
    "\t| _ -> raise (Invalid_argument \"Unexpected character!\")\n",
    "\n",
    "let match_str str = \n",
    "\tlet len = String.length str in\n",
    "\tlet ls = List.init len (fun i -> String.get str i) in\n",
    "\tlet rec matching state = function\n",
    "\t\t| [] -> accept state\n",
    "\t\t| c :: cs -> \n",
    "\t\t\tlet state' = transit state c in\n",
    "\t\t\tmatching state' cs\n",
    "\tin\n",
    "\n",
    "\t\tmatching start ls\n",
    "\n",
    "let _ = match_str \"abababba\""
   ]
  },
  {
   "cell_type": "markdown",
   "id": "16d3acba",
   "metadata": {},
   "source": [
    "### Markov chains"
   ]
  },
  {
   "cell_type": "code",
   "execution_count": null,
   "id": "b46e3d0e",
   "metadata": {
    "vscode": {
     "languageId": "plaintext"
    }
   },
   "outputs": [],
   "source": [
    "type states = A | B\n",
    "\n",
    "let next_state current = \n",
    "\tlet p = Random.float 1.0 in\n",
    "\tmatch current with\n",
    "\t\t| A -> if p <= 0.5 then A else B\n",
    "\t\t| B -> if p <= 0.5 then A else B\n",
    "\n",
    "let trace init steps = \n",
    "\t\tlet current = ref init in\n",
    "\t\tlet walk () = \n",
    "\t\t\tcurrent := next_state (!current);\n",
    "\t\t\t!current\n",
    "\t\tin\n",
    "\t\t\tList.init steps (fun _ -> walk())\n",
    "\n",
    "let dist init steps = \n",
    "\tlet counts = [|0.; 0.|] in\n",
    "\tlet tr = trace init steps in\n",
    "\tlet rec aux = function\n",
    "\t\t| [] -> ()\n",
    "\t\t| A :: xs -> counts.(0) <- counts.(0) +. 1.; aux xs\n",
    "\t\t| B :: xs -> counts.(1) <- counts.(1) +. 1.; aux xs\n",
    "\tin\n",
    "\t\taux tr;\n",
    "\t\tArray.map (fun x -> x /. (float_of_int steps)) counts"
   ]
  },
  {
   "cell_type": "code",
   "execution_count": null,
   "id": "92dc01a9",
   "metadata": {
    "vscode": {
     "languageId": "plaintext"
    }
   },
   "outputs": [],
   "source": [
    "type states = S0 | S1 | S2 | Crit\n",
    "\n",
    "let next_state current = \n",
    "\tlet p = Random.int 4 in\n",
    "\tmatch current with\n",
    "\t\t| S0 -> if p = 3 then S0 else S1 \n",
    "\t\t| S1 -> if p = 3 then S0 else S2\n",
    "\t\t| S2 -> if p = 3 then S0 else Crit\n",
    "\t\t| Crit -> S0\n",
    "\n",
    "let trace init steps = \n",
    "\t\tlet current = ref init in\n",
    "\t\tlet walk () = \n",
    "\t\t\tcurrent := next_state (!current);\n",
    "\t\t\t!current\n",
    "\t\tin\n",
    "\t\t\tList.init steps (fun _ -> walk())\n",
    "\t\n",
    "let dist init steps = \n",
    "\tlet counts = [|0.; 0.; 0.; 0.|] in\n",
    "\tlet tr = trace init steps in\n",
    "\tlet rec aux = function\n",
    "\t\t| [] -> ()\n",
    "\t\t| S0 :: xs -> counts.(0) <- counts.(0) +. 1.; aux xs\n",
    "\t\t| S1 :: xs -> counts.(1) <- counts.(1) +. 1.; aux xs\n",
    "\t\t| S2 :: xs -> counts.(2) <- counts.(2) +. 1.; aux xs\n",
    "\t\t| Crit :: xs -> counts.(3) <- counts.(3) +. 1.; aux xs\n",
    "\tin\n",
    "\t\taux tr;\n",
    "\t\tArray.map (fun x -> x /. (float_of_int steps)) counts \n",
    "\n",
    "let prob steps = \n",
    "\tlet stable_dist = dist S0 steps in\n",
    "\t(stable_dist.(0) /. 3.) +.\n",
    "\t(stable_dist.(1) /. 3.) +.\n",
    "\t(stable_dist.(2) /. 3.) +.\n",
    "\tstable_dist.(3)\n",
    "\n",
    "let actual = Array.map (fun x -> x /. 175.) [|64.; 48.; 36.; 27. |]"
   ]
  }
 ],
 "metadata": {
  "language_info": {
   "name": "python"
  }
 },
 "nbformat": 4,
 "nbformat_minor": 5
}
