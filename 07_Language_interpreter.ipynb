{
 "cells": [
  {
   "cell_type": "markdown",
   "id": "12eccf78",
   "metadata": {},
   "source": [
    "## Language interpreter"
   ]
  },
  {
   "cell_type": "markdown",
   "id": "9b6248ec",
   "metadata": {},
   "source": [
    "We'll cover the following topics in this notebook:\n",
    "- Expression interpreter with variables\n",
    "- Interpreting let-bindings and functions\n",
    "- Interpreting recursive functions"
   ]
  },
  {
   "cell_type": "markdown",
   "id": "4c649185",
   "metadata": {},
   "source": [
    "### Retake: calculator"
   ]
  },
  {
   "cell_type": "markdown",
   "id": "895c0ec1",
   "metadata": {},
   "source": [
    "In the previous exercise, we saw the definition of arithmetic expressions with variables. \n",
    "The problem is that we do not know how to evaluate a variable, since the value of that is unknown."
   ]
  },
  {
   "cell_type": "code",
   "execution_count": 1,
   "id": "aa146954",
   "metadata": {
    "vscode": {
     "languageId": "plaintext"
    }
   },
   "outputs": [
    {
     "data": {
      "text/plain": [
       "type expr =\n",
       "    Float of float\n",
       "  | Var of string\n",
       "  | Neg of expr\n",
       "  | Add of expr * expr\n",
       "  | Mult of expr * expr\n"
      ]
     },
     "execution_count": 1,
     "metadata": {},
     "output_type": "execute_result"
    },
    {
     "data": {
      "text/plain": [
       "val eval : expr -> float = <fun>\n"
      ]
     },
     "execution_count": 1,
     "metadata": {},
     "output_type": "execute_result"
    }
   ],
   "source": [
    "type expr = \n",
    "\t| Float of float\n",
    "\t| Var of string \n",
    "\t| Neg of expr\n",
    "\t| Add of expr * expr\n",
    "\t| Mult of expr * expr\n",
    "\n",
    "let rec eval = function\n",
    "    | Float f -> f\n",
    "    | Neg e -> -. (eval e)\n",
    "    | Add (e1, e2) -> (eval e1) +. (eval e2)\n",
    "    | Mult (e1, e2) -> (eval e1) *. (eval e2)\n",
    "    | Var x -> failwith \"Cannot evaluate!\""
   ]
  },
  {
   "cell_type": "markdown",
   "id": "231a00df",
   "metadata": {},
   "source": [
    "The solution is to define an evaluator based on some *assignment* of the variables: a list of string-float pairs.\n",
    "We include one more parameter `env` of type `(string * float) list`.\n",
    "If `(\"x\", 3.0)` is found in `env`, it means that `x` is assigned to the value `3.0`, and we evaluate variables \n",
    "by finding the associated value in the environment."
   ]
  },
  {
   "cell_type": "code",
   "execution_count": 2,
   "id": "d4af83fd",
   "metadata": {
    "vscode": {
     "languageId": "plaintext"
    }
   },
   "outputs": [
    {
     "data": {
      "text/plain": [
       "val eval : (string * float) list -> expr -> float = <fun>\n"
      ]
     },
     "execution_count": 2,
     "metadata": {},
     "output_type": "execute_result"
    }
   ],
   "source": [
    "let rec eval env = function\n",
    "    | Float f -> f\n",
    "    | Neg e -> -. (eval env e)\n",
    "    | Add (e1, e2) -> (eval env e1) +. (eval env e2)\n",
    "    | Mult (e1, e2) -> (eval env e1) *. (eval env e2)\n",
    "    | Var x -> List.assoc x env"
   ]
  },
  {
   "cell_type": "markdown",
   "id": "35255eab",
   "metadata": {},
   "source": [
    "Note that the environment never changes. We can extend our language with constructs that modifies the environment, for example, by introducing bindings with `let` expressions."
   ]
  },
  {
   "cell_type": "code",
   "execution_count": null,
   "id": "4d9b4d94",
   "metadata": {
    "vscode": {
     "languageId": "plaintext"
    }
   },
   "outputs": [],
   "source": [
    "type expr = \n",
    "\t| Float of float\n",
    "\t| Var of string \n",
    "\t| Neg of expr\n",
    "\t| Add of expr * expr\n",
    "\t| Mult of expr * expr\n",
    "\t(* Extend let bindings *)\n",
    "\t| Let of string * expr * expr\n",
    "\n",
    "type env = (string * float) list"
   ]
  },
  {
   "cell_type": "markdown",
   "id": "a5522e90",
   "metadata": {},
   "source": [
    "To evaluate a let-binding, we need to update the environment with the variable-value pair.\n",
    "The simplest way to do so is cons-ing the pair in front of `env`. Is there any major disadvantage in this method?"
   ]
  },
  {
   "cell_type": "code",
   "execution_count": null,
   "id": "f6f7f95a",
   "metadata": {
    "vscode": {
     "languageId": "plaintext"
    }
   },
   "outputs": [
    {
     "data": {
      "text/plain": [
       "type expr =\n",
       "    Float of float\n",
       "  | Var of string\n",
       "  | Neg of expr\n",
       "  | Add of expr * expr\n",
       "  | Mult of expr * expr\n",
       "  | Let of string * expr * expr\n"
      ]
     },
     "execution_count": 3,
     "metadata": {},
     "output_type": "execute_result"
    },
    {
     "data": {
      "text/plain": [
       "type env = (string * float) list\n"
      ]
     },
     "execution_count": 3,
     "metadata": {},
     "output_type": "execute_result"
    },
    {
     "data": {
      "text/plain": [
       "val interp : (string * float) list -> expr -> float = <fun>\n"
      ]
     },
     "execution_count": 3,
     "metadata": {},
     "output_type": "execute_result"
    }
   ],
   "source": [
    "(* interp : env -> expr -> float *)\n",
    "let rec interp env = function\n",
    "\t| Float f -> f\n",
    "\t| Var x -> List.assoc x env\n",
    "\t| Neg e -> -1. *. interp env e\n",
    "\t| Add (e1 , e2) -> (interp env e1) +. (interp env e2)\n",
    "\t| Mult (e1, e2) -> (interp env e1) *. (interp env e2)\n",
    "\t(* Let-binding *)\n",
    "\t| Let (str, e1, e2) -> \n",
    "\t\tlet v = interp env e1 in\n",
    "\t\t\tinterp ((str, v) :: env) e2"
   ]
  },
  {
   "cell_type": "markdown",
   "id": "6a124cb2",
   "metadata": {},
   "source": [
    "#### Programming with functions"
   ]
  },
  {
   "cell_type": "markdown",
   "id": "06e083e7",
   "metadata": {},
   "source": [
    "We can now extend a bit further. Previously, the only value our expressions care about is float. We can make a new data type `value` to encorporate any kind of values we want to have in a *programming language*, which will include booleans, floats, and functions between values."
   ]
  },
  {
   "cell_type": "code",
   "execution_count": null,
   "id": "bfacb73e",
   "metadata": {
    "vscode": {
     "languageId": "plaintext"
    }
   },
   "outputs": [],
   "source": [
    "type value = \n",
    "\t| LitB of bool\n",
    "\t| LitF of float\n",
    "\t| Clo of (value -> value)"
   ]
  },
  {
   "cell_type": "markdown",
   "id": "34a67aa0",
   "metadata": {},
   "source": [
    "Starting with our definition of `expr` before, we can gradually extend it with new features:\n",
    "- Boolean values and operations\n",
    "- Functions and applications\n",
    "- Recursive functions\n",
    "\n",
    "\n",
    "**1. Booleans**\n",
    "\n",
    "We need constructors for constants (`Bool`), if-branch (`If`), and boolean operators (`And`, `Or`, `Not`) for the boolean type,\n",
    "and we add comparison (`Eq`) between values.\n",
    "\n",
    "It also appears that we are duplicating code for `Add`, `Mult`, `And`, etc., and there should be an abstraction to encode all of these *binary operations* into one definition. We need two groups of them: one for the floating point numbers and one for the booleans\n",
    "\n",
    "**2. Functions**\n",
    "\n",
    "The syntax of a function `fun x -> e` is simple: it requires a variable `x` and an expression `e`, which is the function's body.\n",
    "The function's body cannot be evaluated when the function is being evaluated, because the value of `x` (the input)\n",
    "is not given yet. So, we interpret a function as an OCaml function that when given an input value, it evaluates the function body `e`\n",
    "in the extended context. It also means that we can interpret applications in our language as applications in OCaml.\n",
    "\n",
    "**3. Recursive functions**\n",
    "\n",
    "There is a simple way to encode all recursive functions: the *fixed point combinator*, also known as the *Y-combinator*.\n",
    "The technical detail here are irrelevant, but the key result is that: \n",
    "if we have a function `fix` such that `fix f x = f (fix f) x`, then all recursive definitions `let rec f x = e` can be\n",
    "encoded as `fix (fun f x -> e)`, where the recursive function's name `f` is now treated as a variable in `e`.\n",
    "\n",
    "It is certainly possible to take the condition `fix f x = f (fix f) x` as the definition\n",
    "and implement the fixed point combinator in OCaml as a recursive function.\n",
    "Then, we can interpret recursive functions in our language as recursive functions in OCaml.\n",
    "\n",
    "To convince ourselves, let us see an example of the factorial function and its encoding in fixed point, and see if they produce the same result.\n",
    "Our final example is the same factorial function defined in our own language."
   ]
  },
  {
   "cell_type": "code",
   "execution_count": null,
   "id": "7568f9d3",
   "metadata": {
    "vscode": {
     "languageId": "plaintext"
    }
   },
   "outputs": [],
   "source": [
    "let rec fact n = if n = 0 then 1 else n * fact (n - 1)\n",
    "let _ = fact 10"
   ]
  },
  {
   "cell_type": "code",
   "execution_count": null,
   "id": "d24a977f",
   "metadata": {
    "vscode": {
     "languageId": "plaintext"
    }
   },
   "outputs": [],
   "source": [
    "let rec fix f x = f (fix f) x\n",
    "let fact2 = fix (fun fact n -> if n = 0 then 1 else n * fact (n - 1)) \n",
    "let _ = fact2 10"
   ]
  },
  {
   "cell_type": "code",
   "execution_count": null,
   "id": "531c5db4",
   "metadata": {
    "vscode": {
     "languageId": "plaintext"
    }
   },
   "outputs": [
    {
     "data": {
      "text/plain": [
       "type value = LitB of bool | LitF of float | Clo of (value -> value)\n"
      ]
     },
     "execution_count": 4,
     "metadata": {},
     "output_type": "execute_result"
    },
    {
     "data": {
      "text/plain": [
       "type expr =\n",
       "    Float of float\n",
       "  | Var of string\n",
       "  | Neg of expr\n",
       "  | Add of expr * expr\n",
       "  | Mult of expr * expr\n",
       "  | Let of string * expr * expr\n",
       "  | Fun of string * expr\n",
       "  | App of expr * expr\n",
       "  | Bool of bool\n",
       "  | If of expr * expr * expr\n",
       "  | And of expr * expr\n",
       "  | Or of expr * expr\n",
       "  | Not of expr\n",
       "  | Eq of expr * expr\n",
       "  | RecFun of string * string * expr\n"
      ]
     },
     "execution_count": 4,
     "metadata": {},
     "output_type": "execute_result"
    },
    {
     "data": {
      "text/plain": [
       "exception TypeError\n"
      ]
     },
     "execution_count": 4,
     "metadata": {},
     "output_type": "execute_result"
    },
    {
     "data": {
      "text/plain": [
       "val uop_f : (float -> float) -> value -> value = <fun>\n"
      ]
     },
     "execution_count": 4,
     "metadata": {},
     "output_type": "execute_result"
    },
    {
     "data": {
      "text/plain": [
       "val binop_f : (float -> float -> float) -> value -> value -> value = <fun>\n"
      ]
     },
     "execution_count": 4,
     "metadata": {},
     "output_type": "execute_result"
    },
    {
     "data": {
      "text/plain": [
       "val recur : (('a -> 'b) -> 'a -> 'b) -> 'a -> 'b = <fun>\n"
      ]
     },
     "execution_count": 4,
     "metadata": {},
     "output_type": "execute_result"
    },
    {
     "data": {
      "text/plain": [
       "val apply : value -> value -> value = <fun>\n"
      ]
     },
     "execution_count": 4,
     "metadata": {},
     "output_type": "execute_result"
    },
    {
     "data": {
      "text/plain": [
       "val uop_b : (bool -> bool) -> value -> value = <fun>\n"
      ]
     },
     "execution_count": 4,
     "metadata": {},
     "output_type": "execute_result"
    },
    {
     "data": {
      "text/plain": [
       "val binop_b : (bool -> bool -> bool) -> value -> value -> value = <fun>\n"
      ]
     },
     "execution_count": 4,
     "metadata": {},
     "output_type": "execute_result"
    },
    {
     "data": {
      "text/plain": [
       "val eq : value -> value -> value = <fun>\n"
      ]
     },
     "execution_count": 4,
     "metadata": {},
     "output_type": "execute_result"
    },
    {
     "data": {
      "text/plain": [
       "val if_b : value -> bool = <fun>\n"
      ]
     },
     "execution_count": 4,
     "metadata": {},
     "output_type": "execute_result"
    },
    {
     "data": {
      "text/plain": [
       "val interp : (string * value) list -> expr -> value = <fun>\n"
      ]
     },
     "execution_count": 4,
     "metadata": {},
     "output_type": "execute_result"
    },
    {
     "data": {
      "text/plain": [
       "val power : expr =\n",
       "  RecFun (\"power\", \"x\",\n",
       "   If (Eq (Var \"x\", Float 0.), Float 1.,\n",
       "    Mult (Float 2., App (Var \"power\", Add (Var \"x\", Float (-1.))))))\n"
      ]
     },
     "execution_count": 4,
     "metadata": {},
     "output_type": "execute_result"
    },
    {
     "data": {
      "text/plain": [
       "val test : value = LitF 16.\n"
      ]
     },
     "execution_count": 4,
     "metadata": {},
     "output_type": "execute_result"
    }
   ],
   "source": [
    "(* EXPRESSIONS *)\n",
    "\n",
    "type expr = \n",
    "\t(* Float *)\n",
    "\t| Float of float\n",
    "\t| Var of string \n",
    "\t| Neg of expr\n",
    "\t| Add of expr * expr\n",
    "\t| Mult of expr * expr\n",
    "\t| Let of string * expr * expr\n",
    "\t(* Functions *)\n",
    "\t| Fun of string * expr\n",
    "\t| App of expr * expr\n",
    "\t(* Booleans *)\n",
    "\t| Bool of bool\n",
    "\t| If of expr * expr * expr\n",
    "\t| And of expr * expr\n",
    "\t| Or of expr * expr\n",
    "\t| Not of expr\n",
    "\t| Eq of expr * expr\n",
    "\t(* Recursion *)\n",
    "\t| RecFun of string * string * expr\n",
    "\n",
    "exception TypeError\n",
    "\n",
    "(* HELPER FUNCTIONS *)\n",
    "\n",
    "let uop_f op = function\n",
    "\t| LitF f -> LitF (op f)\n",
    "\t| _ -> raise TypeError\n",
    "\n",
    "let binop_f op v1 v2 = match (v1, v2) with\n",
    "\t| LitF f1 , LitF f2 -> LitF (op f1 f2)\n",
    "\t| _ -> raise TypeError\n",
    "\n",
    "let rec fix f x = \n",
    "\tf (fix f) x\n",
    "\n",
    "let apply v1 v2 = match v1 with\n",
    "\t| Clo f -> f v2\n",
    "\t| _ -> raise TypeError\n",
    "\n",
    "let uop_b op = function\n",
    "\t| LitB b -> LitB (op b)\n",
    "\t| _ -> raise TypeError\n",
    "\n",
    "let binop_b op v1 v2 = match (v1, v2) with\n",
    "\t| LitB b1, LitB b2 -> LitB (op b1 b2)\n",
    "\t| _ -> raise TypeError\n",
    "\n",
    "let eq v1 v2 = match (v1, v2) with\n",
    "\t| LitF f1, LitF f2 -> LitB (f1 = f2)\n",
    "\t| LitB b1, LitB b2 -> LitB (b1 = b2)\n",
    "\t| _ -> raise TypeError\n",
    "\n",
    "let if_b = function\n",
    "\t| LitB b -> b\n",
    "\t| _ -> raise TypeError\n",
    "\n",
    "(* INTERPRETER *)\n",
    "\n",
    "let rec interp env = function\n",
    "\t| Float f -> LitF f\n",
    "\t| Var x -> List.assoc x env\n",
    "\t| Neg e -> uop_f (fun x -> -1. *. x) (interp env e)\n",
    "\t| Add (e1, e2) -> binop_f (+.) (interp env e1) (interp env e2)\n",
    "\t| Mult (e1, e2) -> binop_f ( *. ) (interp env e1) (interp env e2)\n",
    "\t| Let (str, e1, e2) -> \n",
    "\t\tlet v = interp env e1 in\n",
    "\t\t\tinterp ((str, v) :: env) e2\n",
    "\t(* Function *)\n",
    "\t| Fun (str, e) -> Clo (fun v -> interp ((str, v) :: env) e)\n",
    "\t| App (e1, e2) -> apply (interp env e1) (interp env e2)\n",
    "\t(* Boolean *)\n",
    "\t| Bool b -> LitB b\n",
    "\t| And (e1, e2) -> binop_b (&&) (interp env e1) (interp env e2)\n",
    "\t| Or (e1, e2) -> binop_b (||) (interp env e1) (interp env e2)\n",
    "\t| Not e -> uop_b not (interp env e)\n",
    "\t| Eq (e1, e2) -> eq (interp env e1) (interp env e2)\n",
    "\t| If (e, e1, e2) -> \n",
    "\t\tif if_b (interp env e) then \n",
    "\t\t\tinterp env e1\n",
    "\t\telse \n",
    "\t\t\tinterp env e2\n",
    "\t(* Recursive function *)\n",
    "\t| RecFun (name, str, e) -> \n",
    "\t\t\tClo (fix (fun f v -> interp ((name, Clo f) :: (str, v) :: env) e))\n",
    "\n",
    "(* CODE EXAMPLE *)\n",
    "\n",
    "let fact_lan = \n",
    "\tRecFun(\"fact\", \"n\", \n",
    "\t\tIf( \n",
    "\t\t\tEq(Var \"n\", Float 0.),\n",
    "\t\t\tFloat 1.,\n",
    "\t\t\tMult(Var \"n\", App(Var \"fact\", Add(Var \"n\", Float (-1.))))\n",
    "\t\t)\n",
    "\t)\n",
    "\n",
    "let test = interp [] (App(fact_lan, Float 10.))"
   ]
  }
 ],
 "metadata": {
  "kernelspec": {
   "display_name": "OCaml default",
   "language": "OCaml",
   "name": "ocaml-jupyter-default"
  },
  "language_info": {
   "codemirror_mode": "text/x-ocaml",
   "file_extension": ".ml",
   "mimetype": "text/x-ocaml",
   "name": "OCaml",
   "nbconverter_exporter": null,
   "pygments_lexer": "OCaml",
   "version": "4.14.1"
  }
 },
 "nbformat": 4,
 "nbformat_minor": 5
}
