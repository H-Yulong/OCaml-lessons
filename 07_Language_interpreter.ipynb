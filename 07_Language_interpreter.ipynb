{
 "cells": [
  {
   "cell_type": "markdown",
   "id": "12eccf78",
   "metadata": {},
   "source": [
    "## Language interpreter"
   ]
  },
  {
   "cell_type": "markdown",
   "id": "9b6248ec",
   "metadata": {},
   "source": [
    "We'll cover the following topics in this notebook:\n",
    "- Expression interpreter with variables\n",
    "- Interpreting let-bindings and functions\n",
    "- Interpreting recursive functions"
   ]
  },
  {
   "cell_type": "markdown",
   "id": "4c649185",
   "metadata": {},
   "source": [
    "### Retake: calculator"
   ]
  },
  {
   "cell_type": "code",
   "execution_count": null,
   "id": "f6f7f95a",
   "metadata": {
    "vscode": {
     "languageId": "plaintext"
    }
   },
   "outputs": [],
   "source": [
    "type expr = \n",
    "\t| Float of float\n",
    "\t| Var of string \n",
    "\t| Neg of expr\n",
    "\t| Add of expr * expr\n",
    "\t| Mult of expr * expr\n",
    "\t(* Extend let bindings *)\n",
    "\t| Let of string * expr * expr\n",
    "\n",
    "type env = (string * float) list\n",
    "\n",
    "(* interp : env -> expr -> float *)\n",
    "let rec interp env = function\n",
    "\t| Float f -> f\n",
    "\t| Var x -> List.assoc x env\n",
    "\t| Neg e -> -1. *. interp env e\n",
    "\t| Add (e1 , e2) -> (interp env e1) +. (interp env e2)\n",
    "\t| Mult (e1, e2) -> (interp env e1) *. (interp env e2)\n",
    "\t(* Let-binding *)\n",
    "\t| Let (str, e1, e2) -> \n",
    "\t\tlet v = interp env e1 in\n",
    "\t\t\tinterp ((str, v) :: env) e2"
   ]
  },
  {
   "cell_type": "markdown",
   "id": "6a124cb2",
   "metadata": {},
   "source": [
    "### Functional programming language"
   ]
  },
  {
   "cell_type": "code",
   "execution_count": null,
   "id": "531c5db4",
   "metadata": {
    "vscode": {
     "languageId": "plaintext"
    }
   },
   "outputs": [],
   "source": [
    "\n",
    "type value = \n",
    "\t| LitB of bool\n",
    "\t| LitF of float\n",
    "\t| Clo of (value -> value)\n",
    "\n",
    "type expr = \n",
    "\t(* Float *)\n",
    "\t| Float of float\n",
    "\t| Var of string \n",
    "\t| Neg of expr\n",
    "\t| Add of expr * expr\n",
    "\t| Mult of expr * expr\n",
    "\t| Let of string * expr * expr\n",
    "\t(* Functions *)\n",
    "\t| Fun of string * expr\n",
    "\t| App of expr * expr\n",
    "\t(* Booleans *)\n",
    "\t| Bool of bool\n",
    "\t| If of expr * expr * expr\n",
    "\t| And of expr * expr\n",
    "\t| Or of expr * expr\n",
    "\t| Not of expr\n",
    "\t| Eq of expr * expr\n",
    "\t(* Recursion *)\n",
    "\t| RecFun of string * string * expr\n",
    "\n",
    "exception TypeError\n",
    "\n",
    "let uop_f op = function\n",
    "\t| LitF f -> LitF (op f)\n",
    "\t| _ -> raise TypeError\n",
    "\n",
    "let binop_f op v1 v2 = match (v1, v2) with\n",
    "\t| LitF f1 , LitF f2 -> LitF (op f1 f2)\n",
    "\t| _ -> raise TypeError\n",
    "\n",
    "let rec recur f x = \n",
    "\tf (recur f) x\n",
    "\n",
    "let apply v1 v2 = match v1 with\n",
    "\t| Clo f -> f v2\n",
    "\t| _ -> raise TypeError\n",
    "\n",
    "let uop_b op = function\n",
    "\t| LitB b -> LitB (op b)\n",
    "\t| _ -> raise TypeError\n",
    "\n",
    "let binop_b op v1 v2 = match (v1, v2) with\n",
    "\t| LitB b1, LitB b2 -> LitB (op b1 b2)\n",
    "\t| _ -> raise TypeError\n",
    "\n",
    "let eq v1 v2 = match (v1, v2) with\n",
    "\t| LitF f1, LitF f2 -> LitB (f1 = f2)\n",
    "\t| LitB b1, LitB b2 -> LitB (b1 = b2)\n",
    "\t| _ -> raise TypeError\n",
    "\n",
    "let if_b = function\n",
    "\t| LitB b -> b\n",
    "\t| _ -> raise TypeError\n",
    "\n",
    "let rec interp env = function\n",
    "\t| Float f -> LitF f\n",
    "\t| Var x -> List.assoc x env\n",
    "\t| Neg e -> uop_f (fun x -> -1. *. x) (interp env e)\n",
    "\t| Add (e1, e2) -> binop_f (+.) (interp env e1) (interp env e2)\n",
    "\t| Mult (e1, e2) -> binop_f ( *. ) (interp env e1) (interp env e2)\n",
    "\t| Let (str, e1, e2) -> \n",
    "\t\tlet v = interp env e1 in\n",
    "\t\t\tinterp ((str, v) :: env) e2\n",
    "\t(* Function *)\n",
    "\t| Fun (str, e) -> Clo (fun v -> interp ((str, v) :: env) e)\n",
    "\t| App (e1, e2) -> apply (interp env e1) (interp env e2)\n",
    "\t(* Boolean *)\n",
    "\t| Bool b -> LitB b\n",
    "\t| And (e1, e2) -> binop_b (&&) (interp env e1) (interp env e2)\n",
    "\t| Or (e1, e2) -> binop_b (||) (interp env e1) (interp env e2)\n",
    "\t| Not e -> uop_b not (interp env e)\n",
    "\t| Eq (e1, e2) -> eq (interp env e1) (interp env e2)\n",
    "\t| If (e, e1, e2) -> \n",
    "\t\tif if_b (interp env e) then \n",
    "\t\t\tinterp env e1\n",
    "\t\telse \n",
    "\t\t\tinterp env e2\n",
    "\t(* Recursive function *)\n",
    "\t| RecFun (name, str, e) -> \n",
    "\t\t\tClo (recur (fun f v -> interp ((name, Clo f) :: (str, v) :: env) e))\n",
    "\n",
    "let power = \n",
    "\tRecFun(\"power\", \"x\", \n",
    "\t\tIf( \n",
    "\t\t\tEq(Var \"x\", Float 0.),\n",
    "\t\t\tFloat 1.,\n",
    "\t\t\tMult(Float 2., App(Var \"power\", Add(Var \"x\", Float (-1.))))\n",
    "\t\t)\n",
    "\t)\n",
    "\n",
    "let test = interp [] (App(power, Float 4.))"
   ]
  }
 ],
 "metadata": {
  "language_info": {
   "name": "python"
  }
 },
 "nbformat": 4,
 "nbformat_minor": 5
}
