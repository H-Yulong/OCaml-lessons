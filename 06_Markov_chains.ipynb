{
 "cells": [
  {
   "cell_type": "markdown",
   "id": "12eccf78",
   "metadata": {},
   "source": [
    "## Markov chains"
   ]
  },
  {
   "cell_type": "markdown",
   "id": "9b6248ec",
   "metadata": {},
   "source": [
    "We'll cover the following topics in this notebook:\n",
    "- Random number generation\n",
    "- Markov chains: definition, stationary distribution \n",
    "- Modelling Markov chains\n"
   ]
  },
  {
   "cell_type": "markdown",
   "id": "4c649185",
   "metadata": {},
   "source": [
    "### Random number generation"
   ]
  },
  {
   "cell_type": "code",
   "execution_count": 1,
   "id": "f6f7f95a",
   "metadata": {
    "vscode": {
     "languageId": "plaintext"
    }
   },
   "outputs": [
    {
     "data": {
      "text/plain": [
       "val seed : int = 0\n"
      ]
     },
     "execution_count": 1,
     "metadata": {},
     "output_type": "execute_result"
    },
    {
     "data": {
      "text/plain": [
       "- : int = 2\n"
      ]
     },
     "execution_count": 1,
     "metadata": {},
     "output_type": "execute_result"
    },
    {
     "data": {
      "text/plain": [
       "val ls : int list = [0; 4; 6; 2; 3; 8; 2; 4; 7; 8]\n"
      ]
     },
     "execution_count": 1,
     "metadata": {},
     "output_type": "execute_result"
    },
    {
     "data": {
      "text/plain": [
       "val compute_prob : int -> float array = <fun>\n"
      ]
     },
     "execution_count": 1,
     "metadata": {},
     "output_type": "execute_result"
    }
   ],
   "source": [
    "(* \n",
    "\tOCaml's Random module provides a pseudo-random number generator.\n",
    "\tThe term \"pseudo\" means that the number it generates \n",
    "\tdepends on a random \"seed\" given at initialization.\n",
    "\tThe same seed always generates the same \"random\" sequence. \n",
    "*)\n",
    "\n",
    "(* init : int -> unit *)\n",
    "(* Initializes the RNG with seed. *)\n",
    "\n",
    "let seed = 0\n",
    "let () = Random.init seed\n",
    "\n",
    "(* int : int -> int *)\n",
    "(* [Random.int bound] Generates an integer i such that 0 <= i < bound. *)\n",
    "\n",
    "let _ = Random.int 10\n",
    "let ls = List.init 10 (fun _ -> Random.int 10)\n",
    "\n",
    "(* Simple simulation *)\n",
    "let compute_prob total =\n",
    "\tlet counts = Array.make 10 0. in\n",
    "\tlet samples = List.init total (fun _ -> Random.int 10) in\n",
    "\tlet rec counting = function\n",
    "\t\t| [] -> ()\n",
    "\t\t| x :: xs -> \n",
    "\t\t\tcounts.(x) <- counts.(x) +. 1.;\n",
    "\t\t\tcounting xs\n",
    "\tin \n",
    "\t\tcounting samples;\n",
    "\t\tArray.map (fun x -> x /. (float_of_int total)) counts"
   ]
  },
  {
   "cell_type": "code",
   "execution_count": 2,
   "id": "b46e3d0e",
   "metadata": {
    "vscode": {
     "languageId": "plaintext"
    }
   },
   "outputs": [
    {
     "data": {
      "text/plain": [
       "type states = A | B\n"
      ]
     },
     "execution_count": 2,
     "metadata": {},
     "output_type": "execute_result"
    },
    {
     "data": {
      "text/plain": [
       "val next_state : states -> states = <fun>\n"
      ]
     },
     "execution_count": 2,
     "metadata": {},
     "output_type": "execute_result"
    },
    {
     "data": {
      "text/plain": [
       "val trace : states -> int -> states list = <fun>\n"
      ]
     },
     "execution_count": 2,
     "metadata": {},
     "output_type": "execute_result"
    },
    {
     "data": {
      "text/plain": [
       "val dist : states -> int -> float array = <fun>\n"
      ]
     },
     "execution_count": 2,
     "metadata": {},
     "output_type": "execute_result"
    }
   ],
   "source": [
    "(*\n",
    "\tMarkov chains\n",
    "\n",
    "\tWe now build a probabilistic model: a Markov chain,\n",
    "\twhich is like a finite state machine, but the state\n",
    "\ttransition happens randomly, and the probability of\n",
    "\treaching the next state only depends on the\n",
    "\tcurrent state. \n",
    "*)\n",
    "\n",
    "type states = A | B\n",
    "\n",
    "let next_state current = \n",
    "\tlet p = Random.float 1.0 in\n",
    "\tmatch current with\n",
    "\t\t| A -> if p <= 0.5 then A else B\n",
    "\t\t| B -> if p <= 0.5 then A else B\n",
    "\n",
    "let trace init steps = \n",
    "\t\tlet current = ref init in\n",
    "\t\tlet walk () = \n",
    "\t\t\tcurrent := next_state (!current);\n",
    "\t\t\t!current\n",
    "\t\tin\n",
    "\t\t\tList.init steps (fun _ -> walk())\n",
    "\n",
    "(* \n",
    "\tWe can sample and estimate the stationary distribution \n",
    "\tof our Markov chain: the proportion of each state's \n",
    "\tappearance in an infinite sequence.\n",
    "*)\n",
    "\n",
    "let dist init steps = \n",
    "\tlet counts = [|0.; 0.|] in\n",
    "\tlet tr = trace init steps in\n",
    "\tlet rec aux = function\n",
    "\t\t| [] -> ()\n",
    "\t\t| A :: xs -> counts.(0) <- counts.(0) +. 1.; aux xs\n",
    "\t\t| B :: xs -> counts.(1) <- counts.(1) +. 1.; aux xs\n",
    "\tin\n",
    "\t\taux tr;\n",
    "\t\tArray.map (fun x -> x /. (float_of_int steps)) counts"
   ]
  },
  {
   "cell_type": "code",
   "execution_count": 3,
   "id": "92dc01a9",
   "metadata": {
    "vscode": {
     "languageId": "plaintext"
    }
   },
   "outputs": [
    {
     "data": {
      "text/plain": [
       "type states = S0 | S1 | S2 | Crit\n"
      ]
     },
     "execution_count": 3,
     "metadata": {},
     "output_type": "execute_result"
    },
    {
     "data": {
      "text/plain": [
       "val next_state : states -> states = <fun>\n"
      ]
     },
     "execution_count": 3,
     "metadata": {},
     "output_type": "execute_result"
    },
    {
     "data": {
      "text/plain": [
       "val trace : states -> int -> states list = <fun>\n"
      ]
     },
     "execution_count": 3,
     "metadata": {},
     "output_type": "execute_result"
    },
    {
     "data": {
      "text/plain": [
       "val dist : states -> int -> float array = <fun>\n"
      ]
     },
     "execution_count": 3,
     "metadata": {},
     "output_type": "execute_result"
    },
    {
     "data": {
      "text/plain": [
       "val actual : float array =\n",
       "  [|0.365714285714285714; 0.274285714285714299; 0.205714285714285711;\n",
       "    0.154285714285714276|]\n"
      ]
     },
     "execution_count": 3,
     "metadata": {},
     "output_type": "execute_result"
    }
   ],
   "source": [
    "(*\n",
    "\tPuzzle: In a game, the main character's attack has \n",
    "\t25% chance of being a critical hit. To avoid getting\n",
    "\tlong sequences without a critical, the developers\n",
    "\tused a \"fake-random\" algorithm that guarantees\n",
    "\ta critical in every four hits. What is the actual\n",
    "\tprobability of getting a critical hit?\n",
    "*)\n",
    "\n",
    "type states = S0 | S1 | S2 | Crit\n",
    "\n",
    "let next_state current = \n",
    "\tlet p = Random.int 4 in\n",
    "\tmatch current with\n",
    "\t\t| S0 -> if p = 3 then S0 else S1 \n",
    "\t\t| S1 -> if p = 3 then S0 else S2\n",
    "\t\t| S2 -> if p = 3 then S0 else Crit\n",
    "\t\t| Crit -> S0\n",
    "\n",
    "let trace init steps = \n",
    "\t\tlet current = ref init in\n",
    "\t\tlet walk () = \n",
    "\t\t\tcurrent := next_state (!current);\n",
    "\t\t\t!current\n",
    "\t\tin\n",
    "\t\t\tList.init steps (fun _ -> walk())\n",
    "\t\n",
    "let dist init steps = \n",
    "\tlet counts = [|0.; 0.; 0.; 0.|] in\n",
    "\tlet tr = trace init steps in\n",
    "    let steps = float_of_int steps in\n",
    "\tlet rec aux = function\n",
    "\t\t| [] -> ()\n",
    "\t\t| S0 :: xs -> counts.(0) <- counts.(0) +. 1.; aux xs\n",
    "\t\t| S1 :: xs -> counts.(1) <- counts.(1) +. 1.; aux xs\n",
    "\t\t| S2 :: xs -> counts.(2) <- counts.(2) +. 1.; aux xs\n",
    "\t\t| Crit :: xs -> counts.(3) <- counts.(3) +. 1.; aux xs\n",
    "\tin\n",
    "\t\taux tr;\n",
    "\t\tArray.map (fun x -> x /. steps) counts \n",
    "\n",
    "let actual = Array.map (fun x -> x /. 175.) [|64.; 48.; 36.; 27. |]"
   ]
  }
 ],
 "metadata": {
  "kernelspec": {
   "display_name": "OCaml default",
   "language": "OCaml",
   "name": "ocaml-jupyter-default"
  },
  "language_info": {
   "codemirror_mode": "text/x-ocaml",
   "file_extension": ".ml",
   "mimetype": "text/x-ocaml",
   "name": "OCaml",
   "nbconverter_exporter": null,
   "pygments_lexer": "OCaml",
   "version": "4.14.1"
  }
 },
 "nbformat": 4,
 "nbformat_minor": 5
}
