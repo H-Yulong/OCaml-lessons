{
 "cells": [
  {
   "cell_type": "markdown",
   "id": "12eccf78",
   "metadata": {},
   "source": [
    "## Markov chains"
   ]
  },
  {
   "cell_type": "markdown",
   "id": "9b6248ec",
   "metadata": {},
   "source": [
    "We'll cover the following topics in this notebook:\n",
    "- Random number generation\n",
    "- Markov chains: definition, stationary distribution \n",
    "- Modelling Markov chains\n"
   ]
  },
  {
   "cell_type": "markdown",
   "id": "4c649185",
   "metadata": {},
   "source": [
    "### Random number generation"
   ]
  },
  {
   "cell_type": "code",
   "execution_count": null,
   "id": "f6f7f95a",
   "metadata": {
    "vscode": {
     "languageId": "plaintext"
    }
   },
   "outputs": [],
   "source": [
    "(* \n",
    "\tOCaml's Random module provides a pseudo-random number generator.\n",
    "\tThe term \"pseudo\" means that the number it generates \n",
    "\tdepends on a random \"seed\" given at initialization.\n",
    "\tThe same seed always generates the same \"random\" sequence. \n",
    "*)\n",
    "\n",
    "(* init : int -> unit *)\n",
    "(* Initializes the RNG with seed. *)\n",
    "\n",
    "let seed = 0\n",
    "let () = Random.init seed\n",
    "\n",
    "(* int : int -> int *)\n",
    "(* [Random.int bound] Generates an integer i such that 0 <= i < bound. *)\n",
    "\n",
    "let _ = Random.int 10\n",
    "let ls = List.init 10 (fun _ -> Random.int 10)\n",
    "\n",
    "(* Simple simulation *)\n",
    "let compute_prob total =\n",
    "\tlet counts = Array.make 10 0. in\n",
    "\tlet samples = List.init total (fun _ -> Random.int 10) in\n",
    "\tlet rec counting = function\n",
    "\t\t| [] -> ()\n",
    "\t\t| x :: xs -> \n",
    "\t\t\tcounts.(x) <- counts.(x) +. 1.;\n",
    "\t\t\tcounting xs\n",
    "\tin \n",
    "\t\tcounting samples;\n",
    "\t\tArray.map (fun x -> x /. (float_of_int total)) counts"
   ]
  },
  {
   "cell_type": "markdown",
   "id": "6a124cb2",
   "metadata": {},
   "source": [
    "### Finite state machines"
   ]
  },
  {
   "cell_type": "code",
   "execution_count": null,
   "id": "531c5db4",
   "metadata": {
    "vscode": {
     "languageId": "plaintext"
    }
   },
   "outputs": [],
   "source": [
    "(*\n",
    "\tFinite state machines \n",
    "\n",
    "\tA finite state machine is a simple model of computation,\n",
    "\twith the following components:\n",
    "\t- A set of machine states\n",
    "\t- A start state\n",
    "\t- A set of accepting states \n",
    "\t- A set of input characters (an alphabet)\n",
    "\t- A transition function, describes the machine's action at each given input\n",
    "*)\n",
    "\n",
    "(*\n",
    "\tIn OCaml terms, we need:\n",
    "\ttype states\n",
    "\tval start : state\n",
    "\tval accept : state -> bool\n",
    "\tval alphabet : char -> bool\n",
    "\tval transit : state -> char -> state\n",
    "*)\n",
    "\n",
    "type states = A | B\n",
    "\n",
    "let start = B\n",
    "\n",
    "let accept = function\n",
    "\t| A -> false\n",
    "\t| B -> true\n",
    "\n",
    "let alphabet = function\n",
    "\t| 'a' | 'b' -> true\n",
    "\t| _ -> false\n",
    "\n",
    "let transit s c = \n",
    "\tif not (alphabet c) then raise (Invalid_argument \"Unexpected character!\")\n",
    "\telse\n",
    "\t\tmatch (s, c) with\n",
    "\t\t\t| A, 'a' -> A\n",
    "\t\t\t| A, 'b' -> B\n",
    "\t\t\t| B, 'a' -> A\n",
    "\t\t\t| B, 'b' -> B\n",
    "\t\t\t| _ -> assert false\n",
    "\n",
    "(*\n",
    "\tGiven a list of characters (a string), we can \n",
    "\tfeed it into the machine, calculating each step with\n",
    "\tthe transit function.\n",
    "\n",
    "\tIf the machine is in an accepting state when\n",
    "\tit consumed all input characters, we say that \n",
    "\tthis machine accepts the input string.\n",
    "\n",
    "\tWhat kind of string gets accepted by our machine?\n",
    "*)\n",
    "\n",
    "let match_str str = \n",
    "\tlet len = String.length str in\n",
    "\tlet ls = List.init len (fun i -> String.get str i) in\n",
    "\tlet rec matching state = function\n",
    "\t\t| [] -> accept state\n",
    "\t\t| c :: cs -> \n",
    "\t\t\tlet state' = transit state c in\n",
    "\t\t\tmatching state' cs\n",
    "\tin\n",
    "\n",
    "\t\tmatching start ls\n",
    "\n",
    "let _ = match_str \"abababba\""
   ]
  },
  {
   "cell_type": "code",
   "execution_count": null,
   "id": "0041ae9e",
   "metadata": {
    "vscode": {
     "languageId": "plaintext"
    }
   },
   "outputs": [],
   "source": [
    "type states = A0 | A1 | A2 | Acc \n",
    "\n",
    "let start = A0\n",
    "\n",
    "let accept = function\n",
    "\t| Acc -> true\n",
    "\t| _ -> false\n",
    "\n",
    "let alphabet = function\n",
    "\t| 'a' | 'b' -> true\n",
    "\t| _ -> false\n",
    "\n",
    "let transit s c = \n",
    "\tif not (alphabet c) then raise (Invalid_argument \"Unexpected character!\")\n",
    "\telse\n",
    "\t\t match (s, c) with\n",
    "\t\t\t| A0, 'a' -> A1\n",
    "\t\t\t| A1, 'a' -> A2\n",
    "\t\t\t| A2, 'a' -> Acc\n",
    "\t\t\t| Acc, 'a' -> Acc\n",
    "\t\t\t| state, 'b' -> state\n",
    "\t\t\t| _ -> assert false\n",
    "\n",
    "let match_str str = \n",
    "\tlet len = String.length str in\n",
    "\tlet ls = List.init len (fun i -> String.get str i) in\n",
    "\tlet rec matching state = function\n",
    "\t\t| [] -> accept state\n",
    "\t\t| c :: cs -> \n",
    "\t\t\tlet state' = transit state c in\n",
    "\t\t\tmatching state' cs\n",
    "\tin\n",
    "\n",
    "\t\tmatching start ls\n",
    "\n",
    "let _ = match_str \"abababba\""
   ]
  },
  {
   "cell_type": "markdown",
   "id": "16d3acba",
   "metadata": {},
   "source": [
    "### Markov chains"
   ]
  },
  {
   "cell_type": "code",
   "execution_count": null,
   "id": "b46e3d0e",
   "metadata": {
    "vscode": {
     "languageId": "plaintext"
    }
   },
   "outputs": [],
   "source": [
    "(*\n",
    "\tMarkov chains\n",
    "\n",
    "\tWe now build a probabilistic model: a Markov chain,\n",
    "\twhich is like a finite state machine, but the state\n",
    "\ttransition happens randomly, and the probability of\n",
    "\treaching the next state only depends on the\n",
    "\tcurrent state. \n",
    "*)\n",
    "\n",
    "type states = A | B\n",
    "\n",
    "let next_state current = \n",
    "\tlet p = Random.float 1.0 in\n",
    "\tmatch current with\n",
    "\t\t| A -> if p <= 0.5 then A else B\n",
    "\t\t| B -> if p <= 0.5 then A else B\n",
    "\n",
    "let trace init steps = \n",
    "\t\tlet current = ref init in\n",
    "\t\tlet walk () = \n",
    "\t\t\tcurrent := next_state (!current);\n",
    "\t\t\t!current\n",
    "\t\tin\n",
    "\t\t\tList.init steps (fun _ -> walk())\n",
    "\n",
    "(* \n",
    "\tWe can sample and estimate the stationary distribution \n",
    "\tof our Markov chain: the proportion of each state's \n",
    "\tappearance in an infinite sequence.\n",
    "*)\n",
    "\n",
    "let dist init steps = \n",
    "\tlet counts = [|0.; 0.|] in\n",
    "\tlet tr = trace init steps in\n",
    "\tlet rec aux = function\n",
    "\t\t| [] -> ()\n",
    "\t\t| A :: xs -> counts.(0) <- counts.(0) +. 1.; aux xs\n",
    "\t\t| B :: xs -> counts.(1) <- counts.(1) +. 1.; aux xs\n",
    "\tin\n",
    "\t\taux tr;\n",
    "\t\tArray.map (fun x -> x /. (float_of_int steps)) counts"
   ]
  },
  {
   "cell_type": "code",
   "execution_count": null,
   "id": "92dc01a9",
   "metadata": {
    "vscode": {
     "languageId": "plaintext"
    }
   },
   "outputs": [],
   "source": [
    "(*\n",
    "\tPuzzle: In a game, the main character's attack has \n",
    "\t25% chance of being a critical hit. To avoid getting\n",
    "\tlong sequences without a critical, the developers\n",
    "\tused a \"fake-random\" algorithm that guarantees\n",
    "\ta critical in every four hits. What is the actual\n",
    "\tprobability of getting a critical hit?\n",
    "*)\n",
    "\n",
    "type states = S0 | S1 | S2 | Crit\n",
    "\n",
    "let next_state current = \n",
    "\tlet p = Random.int 4 in\n",
    "\tmatch current with\n",
    "\t\t| S0 -> if p = 3 then S0 else S1 \n",
    "\t\t| S1 -> if p = 3 then S0 else S2\n",
    "\t\t| S2 -> if p = 3 then S0 else Crit\n",
    "\t\t| Crit -> S0\n",
    "\n",
    "let trace init steps = \n",
    "\t\tlet current = ref init in\n",
    "\t\tlet walk () = \n",
    "\t\t\tcurrent := next_state (!current);\n",
    "\t\t\t!current\n",
    "\t\tin\n",
    "\t\t\tList.init steps (fun _ -> walk())\n",
    "\t\n",
    "let dist init steps = \n",
    "\tlet counts = [|0.; 0.; 0.; 0.|] in\n",
    "\tlet tr = trace init steps in\n",
    "    let steps = float_of_int steps in\n",
    "\tlet rec aux = function\n",
    "\t\t| [] -> ()\n",
    "\t\t| S0 :: xs -> counts.(0) <- counts.(0) +. 1.; aux xs\n",
    "\t\t| S1 :: xs -> counts.(1) <- counts.(1) +. 1.; aux xs\n",
    "\t\t| S2 :: xs -> counts.(2) <- counts.(2) +. 1.; aux xs\n",
    "\t\t| Crit :: xs -> counts.(3) <- counts.(3) +. 1.; aux xs\n",
    "\tin\n",
    "\t\taux tr;\n",
    "\t\tArray.map (fun x -> x /. steps) counts \n",
    "\n",
    "let actual = Array.map (fun x -> x /. 175.) [|64.; 48.; 36.; 27. |]"
   ]
  }
 ],
 "metadata": {
  "language_info": {
   "name": "python"
  }
 },
 "nbformat": 4,
 "nbformat_minor": 5
}
