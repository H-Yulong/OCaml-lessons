{
 "cells": [
  {
   "cell_type": "markdown",
   "id": "d743269b",
   "metadata": {},
   "source": [
    "## Session 7 : Infinite sequences"
   ]
  },
  {
   "cell_type": "markdown",
   "id": "33a7487b",
   "metadata": {},
   "source": [
    "Let us start with a recap of the basics about lazy lists (or streams): their datatype definition, construction, and elimination."
   ]
  },
  {
   "cell_type": "code",
   "execution_count": null,
   "id": "c322946d",
   "metadata": {
    "vscode": {
     "languageId": "plaintext"
    }
   },
   "outputs": [],
   "source": [
    "type 'a seq = Nil | Cons of 'a * (unit -> 'a seq)\n",
    "\n",
    "exception Empty\n",
    "\n",
    "let head = \n",
    "\n",
    "let tail = \n",
    "\n",
    "(* Note that here we need to call xf to obtain the tail sequence *)"
   ]
  },
  {
   "cell_type": "markdown",
   "id": "481102f6",
   "metadata": {},
   "source": [
    "Natural numbers and the Fibonacci sequence are easy to construct."
   ]
  },
  {
   "cell_type": "code",
   "execution_count": null,
   "id": "a67a46c7",
   "metadata": {
    "vscode": {
     "languageId": "plaintext"
    }
   },
   "outputs": [],
   "source": [
    "(* Natural numbers from n *)\n",
    "let rec from k = \n",
    "\n",
    "(* Fibonacci sequence *)\n",
    "let rec fib a b = "
   ]
  },
  {
   "cell_type": "markdown",
   "id": "5b2e206a",
   "metadata": {},
   "source": [
    "We can also implement the [Collatz conjecture](https://en.wikipedia.org/wiki/Collatz_conjecture), which states that:\n",
    "> Given a positive natural number n, do the following procedure:\n",
    ">   - If n is even, divide it by 2.\n",
    ">   - If n is odd, multiply it by 3 and then add 1.\n",
    ">\n",
    "> Conjecture: any sequence starting with n will lead to 1."
   ]
  },
  {
   "cell_type": "code",
   "execution_count": null,
   "id": "01192f4e",
   "metadata": {
    "vscode": {
     "languageId": "plaintext"
    }
   },
   "outputs": [],
   "source": [
    "let rec collatz n = "
   ]
  },
  {
   "cell_type": "markdown",
   "id": "7f7d8810",
   "metadata": {},
   "source": [
    "We use `get n seq` to extract the first `n` elements from a sequence."
   ]
  },
  {
   "cell_type": "code",
   "execution_count": null,
   "id": "3cb39268",
   "metadata": {
    "vscode": {
     "languageId": "plaintext"
    }
   },
   "outputs": [],
   "source": [
    "let rec get n seq = \n"
   ]
  },
  {
   "cell_type": "markdown",
   "id": "c58d1232",
   "metadata": {},
   "source": [
    "We can modify `get` to verify Collatz conjecture for a given positive integer, up to a certain number of steps.\n",
    "> `get_until n p seq` gets elements until one of the following conditions is met:\n",
    ">  - `seq` is empty\n",
    ">  - An element satisfying `p` is found\n",
    ">  - Got a total of `n` elements"
   ]
  },
  {
   "cell_type": "code",
   "execution_count": null,
   "id": "3ee9413a",
   "metadata": {
    "vscode": {
     "languageId": "plaintext"
    }
   },
   "outputs": [],
   "source": [
    "let rec get_until n p seq = "
   ]
  },
  {
   "cell_type": "code",
   "execution_count": null,
   "id": "4087e03f",
   "metadata": {
    "vscode": {
     "languageId": "plaintext"
    }
   },
   "outputs": [],
   "source": [
    "let try_collatz n = "
   ]
  },
  {
   "cell_type": "markdown",
   "id": "b483295c",
   "metadata": {},
   "source": [
    "We now review the following useful operations on sequences:\n",
    "> `interleave : 'a seq -> 'a seq -> 'a seq`\n",
    ">\n",
    "> `filterq : ('a -> bool) -> 'a seq -> 'a seq`\n",
    ">\n",
    "> `mapq : ('a -> 'b) -> 'a seq -> 'b seq`\n",
    ">\n",
    "> `append : 'a seq -> 'a seq -> 'a seq`"
   ]
  },
  {
   "cell_type": "code",
   "execution_count": null,
   "id": "f4fafd1c",
   "metadata": {
    "vscode": {
     "languageId": "plaintext"
    }
   },
   "outputs": [],
   "source": [
    "(* Interleaving two sequences *)\n",
    "let rec interleave xq yq =\n",
    "\n",
    "(* Filter *)\n",
    "let rec filterq p =\n",
    "\n",
    "(* Map *)\n",
    "let rec mapq f = \n",
    "\n",
    "(* Append *)\n",
    "let rec appendq xq yq = "
   ]
  },
  {
   "cell_type": "markdown",
   "id": "1ce02dcf",
   "metadata": {},
   "source": [
    "Now it's time for some exercise.\n",
    "1. Code the lazy list whose elements are all ordinary lists of zeroes and ones, namely `[]; [0]; [1];\n",
    " [0; 0]; [0; 1]; [1; 0]; [1; 1]; [0; 0; 0];…`."
   ]
  },
  {
   "cell_type": "markdown",
   "id": "6a7dd6d7",
   "metadata": {},
   "source": [
    "To do this, we first define a helper function `iter_seq f q` that returns `q @ (f q) @ (f (f q)) @ ...`. Then, we just need to find the suitable `f` to plug-in."
   ]
  },
  {
   "cell_type": "code",
   "execution_count": null,
   "id": "44c91c9d",
   "metadata": {
    "vscode": {
     "languageId": "plaintext"
    }
   },
   "outputs": [],
   "source": []
  },
  {
   "cell_type": "markdown",
   "id": "027fe78c",
   "metadata": {},
   "source": [
    "2. A palindrome is a list that equals its own reverse. Code the lazy\n",
    " list whose elements are all palindromes of 0s and 1s, namely `[]; [0]; [1]; [0; 0]; [0; 0; 0];\n",
    " [0; 1; 0]; [1; 1]; [1; 0; 1]; [1; 1; 1]; [0; 0; 0; 0];, …`."
   ]
  },
  {
   "cell_type": "markdown",
   "id": "dfed8d49",
   "metadata": {},
   "source": [
    "This is a simple use of `filterq`."
   ]
  },
  {
   "cell_type": "code",
   "execution_count": null,
   "id": "6fb9a2be",
   "metadata": {
    "vscode": {
     "languageId": "plaintext"
    }
   },
   "outputs": [],
   "source": []
  },
  {
   "cell_type": "markdown",
   "id": "4797c16f",
   "metadata": {},
   "source": [
    "3. Code a function to make change using lazy lists, delivering the sequence of all possible ways of\n",
    " making change. Using sequences allows us to compute solutions one at a time when there exists an\n",
    " astronomical number. Represent lists of coins using ordinary lists."
   ]
  },
  {
   "cell_type": "code",
   "execution_count": null,
   "id": "5f878ef4",
   "metadata": {
    "vscode": {
     "languageId": "plaintext"
    }
   },
   "outputs": [],
   "source": []
  }
 ],
 "metadata": {
  "kernelspec": {
   "display_name": "OCaml 4.14.1",
   "language": "OCaml",
   "name": "ocaml-jupyter"
  },
  "language_info": {
   "codemirror_mode": "text/x-ocaml",
   "file_extension": ".ml",
   "mimetype": "text/x-ocaml",
   "name": "OCaml",
   "nbconverter_exporter": null,
   "pygments_lexer": "OCaml",
   "version": "4.14.1"
  }
 },
 "nbformat": 4,
 "nbformat_minor": 5
}
