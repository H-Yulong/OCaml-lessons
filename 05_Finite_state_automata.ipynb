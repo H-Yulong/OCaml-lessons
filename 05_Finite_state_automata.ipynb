{
 "cells": [
  {
   "cell_type": "markdown",
   "id": "6a124cb2",
   "metadata": {},
   "source": [
    "### Finite state automata"
   ]
  },
  {
   "cell_type": "markdown",
   "id": "125514e1",
   "metadata": {},
   "source": [
    "We will cover the following topics in this session:\n",
    "- Finite state automata: definition, implementation\n",
    "- Regular languages: definition, examples\n",
    "- Regular languages\n",
    "- Recongizing regular languages with automata"
   ]
  },
  {
   "cell_type": "markdown",
   "id": "913b33d6",
   "metadata": {},
   "source": [
    "#### Finite state machines"
   ]
  },
  {
   "cell_type": "markdown",
   "id": "4b9e67d5",
   "metadata": {},
   "source": [
    "A finite state machine is a simple model of computation,\n",
    "with the following components:\n",
    "- A set of machine states $S$.\n",
    "- A start state $S_0 \\in S$.\n",
    "- A set of accepting states $F \\subseteq S$.\n",
    "- A set of input characters/alphabet $\\Sigma$.\n",
    "- A transition function $\\delta : S \\times \\Sigma \\to S$.\n",
    "\n",
    "Here, $\\delta$ describes the machine's action at each given input: $\\delta(s, x) = s'$ means that\n",
    "the machine at state $s$ steps to state $s'$ if the input is $x$."
   ]
  },
  {
   "cell_type": "markdown",
   "id": "eeac5367",
   "metadata": {},
   "source": [
    "In OCaml terms, we need:\n",
    "```\n",
    "type states\n",
    "val start : state\n",
    "val accept : state -> bool\n",
    "val alphabet : char -> bool\n",
    "val transit : state -> char -> state\n",
    "```\n",
    "\n",
    "Here is a simple example of a (deterministic) finite state machine.\n",
    "- States $S = \\{A, B\\}$\n",
    "- Start state $S_0 = A$\n",
    "- Accepting states $F = \\{ A \\}$\n",
    "- Alphabet $\\Sigma = \\{a, b\\}$\n",
    "- Transition $\\delta$:\n",
    "    - $\\delta(A, a) = A$\n",
    "    - $\\delta(A, b) = B$\n",
    "    - $\\delta(B, a) = A$\n",
    "    - $\\delta(B, b) = B$"
   ]
  },
  {
   "cell_type": "code",
   "execution_count": null,
   "id": "531c5db4",
   "metadata": {
    "vscode": {
     "languageId": "plaintext"
    }
   },
   "outputs": [],
   "source": [
    "type states = A | B\n",
    "\n",
    "let start = A\n",
    "\n",
    "let accept = function\n",
    "\t| A -> false\n",
    "\t| B -> true\n",
    "\n",
    "let alphabet = function\n",
    "\t| 'a' | 'b' -> true\n",
    "\t| _ -> false\n",
    "\n",
    "let transit s c = \n",
    "\tif not (alphabet c) then raise (Invalid_argument \"Unexpected character!\")\n",
    "\telse\n",
    "\t\tmatch (s, c) with\n",
    "\t\t\t| A, 'a' -> A\n",
    "\t\t\t| A, 'b' -> B\n",
    "\t\t\t| B, 'a' -> A\n",
    "\t\t\t| B, 'b' -> B\n",
    "\t\t\t| _ -> assert false"
   ]
  },
  {
   "cell_type": "markdown",
   "id": "517cc5a7",
   "metadata": {},
   "source": [
    "Given a list of characters (a string), we can \n",
    "feed it into the machine, evaluating each step with\n",
    "the transit function.\n",
    "If the machine ends up in an accepting state when\n",
    "it has consumed all input characters, we say that \n",
    "this machine *accepts* the input string.\n",
    "\n",
    "What kind of strings are accepted by the machine above?"
   ]
  },
  {
   "cell_type": "code",
   "execution_count": null,
   "id": "81b1f33d",
   "metadata": {
    "vscode": {
     "languageId": "plaintext"
    }
   },
   "outputs": [],
   "source": [
    "let match_str str = \n",
    "    (* Turning string into list of characters *)\n",
    "\tlet len = String.length str in\n",
    "\tlet ls = List.init len (fun i -> String.get str i) in\n",
    "    (* Running the machine *)\n",
    "\tlet rec matching state = function\n",
    "\t\t| [] -> accept state\n",
    "\t\t| c :: cs -> \n",
    "\t\t\tlet state' = transit state c in\n",
    "\t\t\tmatching state' cs\n",
    "\tin\n",
    "\n",
    "\t\tmatching start ls\n",
    "\n",
    "let _ = match_str \"abababba\""
   ]
  },
  {
   "cell_type": "markdown",
   "id": "93c39d76",
   "metadata": {},
   "source": [
    "Here is a more complicated machine. Again, what kind of strings are accepted by it?"
   ]
  },
  {
   "cell_type": "code",
   "execution_count": null,
   "id": "0041ae9e",
   "metadata": {
    "vscode": {
     "languageId": "plaintext"
    }
   },
   "outputs": [],
   "source": [
    "type states = A0 | A1 | A2 | Acc \n",
    "\n",
    "let start = A0\n",
    "\n",
    "let accept = function\n",
    "\t| Acc -> true\n",
    "\t| _ -> false\n",
    "\n",
    "let alphabet = function\n",
    "\t| 'a' | 'b' -> true\n",
    "\t| _ -> false\n",
    "\n",
    "let transit s c = \n",
    "\tif not (alphabet c) then raise (Invalid_argument \"Unexpected character!\")\n",
    "\telse\n",
    "\t\t match (s, c) with\n",
    "\t\t\t| A0, 'a' -> A1\n",
    "\t\t\t| A1, 'a' -> A2\n",
    "\t\t\t| A2, 'a' -> Acc\n",
    "\t\t\t| Acc, 'a' -> Acc\n",
    "\t\t\t| state, 'b' -> state\n",
    "\t\t\t| _ -> assert false\n",
    "\n",
    "let match_str str = \n",
    "    (* Turning string into list of characters *)\n",
    "\tlet len = String.length str in\n",
    "\tlet ls = List.init len (fun i -> String.get str i) in\n",
    "    (* Running the machine *)\n",
    "\tlet rec matching state = function\n",
    "\t\t| [] -> accept state\n",
    "\t\t| c :: cs -> \n",
    "\t\t\tlet state' = transit state c in\n",
    "\t\t\tmatching state' cs\n",
    "\tin\n",
    "\n",
    "\t\tmatching start ls\n",
    "\n",
    "let _ = match_str \"abababba\""
   ]
  },
  {
   "cell_type": "markdown",
   "id": "ea4514a9",
   "metadata": {},
   "source": [
    "#### Application: ATM machine"
   ]
  },
  {
   "cell_type": "markdown",
   "id": "b4ec2587",
   "metadata": {},
   "source": [
    "We now see a simple application of using a finite automaton to describe the internal states of an ATM machine. The machine should have three states: \n",
    "- `Ready`, it is ready to use.\n",
    "- `CardInserted`, the user has inserted a bank card, but the password is not verified.\n",
    "- `LoggedIn`, the password is verified and the user can cash out.\n",
    "\n",
    "We also have the following actions available: \n",
    "- `InsertCard`, only valid if the machine is `Ready`, turn the machine into `CardInserted` state.\n",
    "- `InputPassword`, only valid in `CardInserted` state, transits to `LoggedIn` if the password is correct, no transition otherwise. \n",
    "- `CashOut`, only valid in `LoggedIn` state.\n",
    "- `LogOut`, sets the machine to `Ready` state, return the bank card if one is inserted.\n",
    "\n",
    "The above description can be easily encoded as the following finite automaton:\n",
    "the states are the machine states, and the characters in the alphabet are the actions.\n",
    "We can then run the machine with a list of given actions, and define an `execute_trace` function to \n",
    "trace the machine states that appeared during execution."
   ]
  },
  {
   "cell_type": "code",
   "execution_count": 13,
   "id": "e31c09a5-1dec-494b-af58-34b15ad6312d",
   "metadata": {
    "vscode": {
     "languageId": "ocaml"
    }
   },
   "outputs": [
    {
     "data": {
      "text/plain": [
       "type states = Ready | CardInserted | LoggedIn\n"
      ]
     },
     "execution_count": 13,
     "metadata": {},
     "output_type": "execute_result"
    },
    {
     "data": {
      "text/plain": [
       "type actions = InsertCard | InputPassword of string | CashOut | LogOut\n"
      ]
     },
     "execution_count": 13,
     "metadata": {},
     "output_type": "execute_result"
    },
    {
     "data": {
      "text/plain": [
       "val start : states = Ready\n"
      ]
     },
     "execution_count": 13,
     "metadata": {},
     "output_type": "execute_result"
    },
    {
     "data": {
      "text/plain": [
       "val password : string = \"password\"\n"
      ]
     },
     "execution_count": 13,
     "metadata": {},
     "output_type": "execute_result"
    },
    {
     "data": {
      "text/plain": [
       "val transit : states -> actions -> states = <fun>\n"
      ]
     },
     "execution_count": 13,
     "metadata": {},
     "output_type": "execute_result"
    },
    {
     "data": {
      "text/plain": [
       "val execute : states -> actions list -> states = <fun>\n"
      ]
     },
     "execution_count": 13,
     "metadata": {},
     "output_type": "execute_result"
    },
    {
     "data": {
      "text/plain": [
       "val execute_trace : states -> actions list -> states list = <fun>\n"
      ]
     },
     "execution_count": 13,
     "metadata": {},
     "output_type": "execute_result"
    },
    {
     "data": {
      "text/plain": [
       "val actions1 : actions list =\n",
       "  [InsertCard; InputPassword \"password\"; CashOut; CashOut; LogOut]\n"
      ]
     },
     "execution_count": 13,
     "metadata": {},
     "output_type": "execute_result"
    },
    {
     "data": {
      "text/plain": [
       "val actions2 : actions list =\n",
       "  [InsertCard; LogOut; InputPassword \"password\"; InsertCard;\n",
       "   InputPassword \"123\"; CashOut]\n"
      ]
     },
     "execution_count": 13,
     "metadata": {},
     "output_type": "execute_result"
    },
    {
     "data": {
      "text/plain": [
       "- : states list = [Ready; CardInserted; LoggedIn; LoggedIn; LoggedIn; Ready]\n"
      ]
     },
     "execution_count": 13,
     "metadata": {},
     "output_type": "execute_result"
    }
   ],
   "source": [
    "type states = Ready | CardInserted | LoggedIn\n",
    "type actions = InsertCard | InputPassword of string | CashOut | LogOut\n",
    "\n",
    "let start = Ready\n",
    "let password = \"password\"\n",
    "\n",
    "let transit s c = match (s, c) with\n",
    "    | Ready, InsertCard -> CardInserted\n",
    "    | CardInserted, InputPassword str -> \n",
    "        if str = password then LoggedIn\n",
    "        else CardInserted\n",
    "    | CardInserted, LogOut -> Ready\n",
    "    | LoggedIn, LogOut -> Ready\n",
    "    | LoggedIn, CashOut -> LoggedIn\n",
    "    | s, _ -> s\n",
    "\n",
    "(* execute : state -> actions list -> state *)\n",
    "let rec execute s = function\n",
    "    | [] -> s\n",
    "    | act :: actions -> execute (transit s act) actions\n",
    "\n",
    "(* execute_trace: state -> actions list -> state list *)\n",
    "let execute_trace state actions =\n",
    "    let rec aux s acc = function\n",
    "        | [] -> List.rev (s :: acc)\n",
    "        | act :: actions -> aux (transit s act) (s :: acc) actions\n",
    "    in\n",
    "        aux state [] actions"
   ]
  },
  {
   "cell_type": "code",
   "execution_count": 14,
   "id": "63b43801-a7f3-4918-8bb5-a5d18dfd5024",
   "metadata": {
    "vscode": {
     "languageId": "ocaml"
    }
   },
   "outputs": [
    {
     "data": {
      "text/plain": [
       "val actions1 : actions list =\n",
       "  [InsertCard; InputPassword \"password\"; CashOut; CashOut; LogOut]\n"
      ]
     },
     "execution_count": 14,
     "metadata": {},
     "output_type": "execute_result"
    },
    {
     "data": {
      "text/plain": [
       "val actions2 : actions list =\n",
       "  [InsertCard; LogOut; InputPassword \"password\"; InsertCard;\n",
       "   InputPassword \"123\"; CashOut]\n"
      ]
     },
     "execution_count": 14,
     "metadata": {},
     "output_type": "execute_result"
    },
    {
     "data": {
      "text/plain": [
       "- : states list = [Ready; CardInserted; LoggedIn; LoggedIn; LoggedIn; Ready]\n"
      ]
     },
     "execution_count": 14,
     "metadata": {},
     "output_type": "execute_result"
    },
    {
     "data": {
      "text/plain": [
       "- : states list =\n",
       "[Ready; CardInserted; Ready; Ready; CardInserted; CardInserted; CardInserted]\n"
      ]
     },
     "execution_count": 14,
     "metadata": {},
     "output_type": "execute_result"
    }
   ],
   "source": [
    "let actions1 = [InsertCard; InputPassword \"password\"; CashOut; CashOut; LogOut]\n",
    "let actions2 = [InsertCard; LogOut; InputPassword \"password\"; InsertCard; InputPassword \"123\"; CashOut;]\n",
    "\n",
    "let _ = execute_trace start actions1\n",
    "let _ = execute_trace start actions2"
   ]
  }
 ],
 "metadata": {
  "kernelspec": {
   "display_name": "OCaml default",
   "language": "OCaml",
   "name": "ocaml-jupyter-default"
  },
  "language_info": {
   "codemirror_mode": "text/x-ocaml",
   "file_extension": ".ml",
   "mimetype": "text/x-ocaml",
   "name": "OCaml",
   "nbconverter_exporter": null,
   "pygments_lexer": "OCaml",
   "version": "4.14.1"
  }
 },
 "nbformat": 4,
 "nbformat_minor": 5
}
