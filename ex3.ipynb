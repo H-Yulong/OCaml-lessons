{
 "cells": [
  {
   "cell_type": "code",
   "execution_count": null,
   "id": "c1a30cf6",
   "metadata": {
    "vscode": {
     "languageId": "plaintext"
    }
   },
   "outputs": [],
   "source": [
    "(* Binary trees *)\n",
    "type 'a tree = Lf | Br of 'a * 'a tree * 'a tree"
   ]
  },
  {
   "cell_type": "code",
   "execution_count": null,
   "id": "882657d4",
   "metadata": {
    "vscode": {
     "languageId": "plaintext"
    }
   },
   "outputs": [],
   "source": [
    "let rec sumtree = function\n",
    "\t| Lf -> 0\n",
    "\t| Br (n , t1, t2) -> n + sumtree t1 + sumtree t2"
   ]
  },
  {
   "cell_type": "code",
   "execution_count": null,
   "id": "eddad74c",
   "metadata": {
    "vscode": {
     "languageId": "plaintext"
    }
   },
   "outputs": [],
   "source": [
    "let rec ftree k n =\n",
    "\tif n = 0 then Lf\n",
    "\telse Br (k, ftree (2*k) (n - 1), ftree (2*k + 1) (n - 1))"
   ]
  },
  {
   "cell_type": "code",
   "execution_count": null,
   "id": "95113d98",
   "metadata": {
    "vscode": {
     "languageId": "plaintext"
    }
   },
   "outputs": [],
   "source": [
    "(* Detele function *)\n",
    "\n",
    "(* Pops out the largest key-value pair from a tree *)let rec pop_max = function\n",
    "\t| Lf -> (None, Lf)\n",
    "\t| Br (n, t1, Lf) -> (Some n, t1)\n",
    "\t| Br (n, t1, t2) -> \n",
    "\t\tlet (max, t2') = pop_max t2 in\n",
    "\t\t\t(max, Br(n, t1, t2'))\n",
    "\n",
    "let rec delete tr k = match tr with\n",
    "\t| Lf -> Lf\n",
    "\t| Br ((a , x) , t1 , t2) -> \n",
    "\t\tif k < a then Br ((a , x) , delete t1 k , t2)\n",
    "\t\telse if k > a then Br ((a , x) , t1 , delete t2 k)\n",
    "\t\telse match pop_max t1 with\n",
    "\t\t\t| None, _ -> t2   (* t1 must be Lf *)\n",
    "\t\t\t| Some max, t1' -> Br(max, t1', t2)"
   ]
  },
  {
   "cell_type": "code",
   "execution_count": null,
   "id": "a8c55e35",
   "metadata": {
    "vscode": {
     "languageId": "plaintext"
    }
   },
   "outputs": [],
   "source": [
    "(* Verify binary search tree invariant *)\n",
    "let rec tree_lt tr n = match tr with\n",
    "\t| Lf -> true\n",
    "\t| Br ((k, v), t1, t2) -> k < n && tree_lt t1 n && tree_lt t2 n\n",
    "\n",
    "let rec tree_gt tr n = match tr with\n",
    "\t| Lf -> true\n",
    "\t| Br ((k, v), t1, t2) -> k > n && tree_gt t1 n && tree_gt t2 n\n",
    "\n",
    "let rec valid_search_tree = function\n",
    "\t| Lf -> true\n",
    "\t| Br ((k, v), t1, t2) -> \n",
    "\t\ttree_lt t1 k && tree_gt t2 k \n",
    "\t\t&& valid_search_tree t1 && valid_search_tree t2\t\t"
   ]
  },
  {
   "cell_type": "code",
   "execution_count": null,
   "id": "8ffb5000",
   "metadata": {
    "vscode": {
     "languageId": "plaintext"
    }
   },
   "outputs": [],
   "source": [
    "(* An optimized way for this: keeping ranges *)\n",
    "let in_bound k lb ub = match (lb, ub) with\n",
    "\t\t| None, None -> true\n",
    "\t\t| None, Some n -> k < n\n",
    "\t\t| Some m, None -> k > m\n",
    "\t\t| Some m, Some n -> k > m && k < n\n",
    "\n",
    "let valid_search_tree_fast tr =\n",
    "\tlet rec valid lb ub = function \n",
    "\t\t| Lf -> true\n",
    "\t\t| Br ((k, v), t1, t2) -> \n",
    "\t\t\tin_bound k lb ub &&\n",
    "\t\t\tvalid lb (Some k) t1 &&\n",
    "\t\t\tvalid (Some k) ub t2\n",
    "\tin\n",
    "\t\tvalid None None tr"
   ]
  },
  {
   "cell_type": "code",
   "execution_count": null,
   "id": "c0f39415",
   "metadata": {
    "vscode": {
     "languageId": "plaintext"
    }
   },
   "outputs": [],
   "source": [
    "(* Detele first item from array: shift, reshape, then decrement key. *)\n",
    "\n",
    "(* Shift: move the left-most branch up a place *)\n",
    "let rec shift = function\n",
    "\t| Lf -> Lf\n",
    "\t| Br (_ , Lf , t2) -> t2\n",
    "\t| Br (_ , Br((a , x) , t1 , t2) , Lf) -> Br((a , x) , t1 , t2)\n",
    "\t| Br (_ , Br((a , x) , t1 , t2) , t3) ->\n",
    "\t\tBr ((a , x) , shift (Br((a , x) , t1 , t2)) , t3)\n",
    "\n",
    "(* Reshape: swap left and right branches *)\n",
    "let rec reshape = function\n",
    "\t| Lf -> Lf\n",
    "\t| Br ((k, v), t1, t2) -> Br((k, v), t2, reshape t1)\n",
    "\n",
    "(* Dec_key: decrement key by 1 *)\n",
    "let rec dec_key = function\n",
    "\t| Lf -> Lf\n",
    "\t| Br ((k, v), t1, t2) -> Br((k - 1, v), dec_key t1, dec_key t2)\n",
    "\n",
    "let remove_first arr = dec_key (reshape (shift arr)) \n",
    "\n",
    "(* Verification, optimized version: left as exercise. *)"
   ]
  }
 ],
 "metadata": {
  "language_info": {
   "name": "python"
  }
 },
 "nbformat": 4,
 "nbformat_minor": 5
}
