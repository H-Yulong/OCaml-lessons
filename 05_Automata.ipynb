{
 "cells": [
  {
   "cell_type": "markdown",
   "id": "6a124cb2",
   "metadata": {},
   "source": [
    "### Finite state automata"
   ]
  },
  {
   "cell_type": "markdown",
   "id": "125514e1",
   "metadata": {},
   "source": [
    "We will cover the following topics in this session:\n",
    "- Finite state automata: definition, implementation\n",
    "- Regular languages: definition, examples\n",
    "- Regular expressions and `printf`\n",
    "- Recongizing regular languages with DFA"
   ]
  },
  {
   "cell_type": "code",
   "execution_count": null,
   "id": "531c5db4",
   "metadata": {
    "vscode": {
     "languageId": "plaintext"
    }
   },
   "outputs": [],
   "source": [
    "(*\n",
    "\tFinite state machines \n",
    "\n",
    "\tA finite state machine is a simple model of computation,\n",
    "\twith the following components:\n",
    "\t- A set of machine states\n",
    "\t- A start state\n",
    "\t- A set of accepting states \n",
    "\t- A set of input characters (an alphabet)\n",
    "\t- A transition function, describes the machine's action at each given input\n",
    "*)\n",
    "\n",
    "(*\n",
    "\tIn OCaml terms, we need:\n",
    "\ttype states\n",
    "\tval start : state\n",
    "\tval accept : state -> bool\n",
    "\tval alphabet : char -> bool\n",
    "\tval transit : state -> char -> state\n",
    "*)\n",
    "\n",
    "type states = A | B\n",
    "\n",
    "let start = B\n",
    "\n",
    "let accept = function\n",
    "\t| A -> false\n",
    "\t| B -> true\n",
    "\n",
    "let alphabet = function\n",
    "\t| 'a' | 'b' -> true\n",
    "\t| _ -> false\n",
    "\n",
    "let transit s c = \n",
    "\tif not (alphabet c) then raise (Invalid_argument \"Unexpected character!\")\n",
    "\telse\n",
    "\t\tmatch (s, c) with\n",
    "\t\t\t| A, 'a' -> A\n",
    "\t\t\t| A, 'b' -> B\n",
    "\t\t\t| B, 'a' -> A\n",
    "\t\t\t| B, 'b' -> B\n",
    "\t\t\t| _ -> assert false\n",
    "\n",
    "(*\n",
    "\tGiven a list of characters (a string), we can \n",
    "\tfeed it into the machine, calculating each step with\n",
    "\tthe transit function.\n",
    "\n",
    "\tIf the machine is in an accepting state when\n",
    "\tit consumed all input characters, we say that \n",
    "\tthis machine accepts the input string.\n",
    "\n",
    "\tWhat kind of string gets accepted by our machine?\n",
    "*)\n",
    "\n",
    "let match_str str = \n",
    "\tlet len = String.length str in\n",
    "\tlet ls = List.init len (fun i -> String.get str i) in\n",
    "\tlet rec matching state = function\n",
    "\t\t| [] -> accept state\n",
    "\t\t| c :: cs -> \n",
    "\t\t\tlet state' = transit state c in\n",
    "\t\t\tmatching state' cs\n",
    "\tin\n",
    "\n",
    "\t\tmatching start ls\n",
    "\n",
    "let _ = match_str \"abababba\""
   ]
  },
  {
   "cell_type": "code",
   "execution_count": null,
   "id": "0041ae9e",
   "metadata": {
    "vscode": {
     "languageId": "plaintext"
    }
   },
   "outputs": [],
   "source": [
    "type states = A0 | A1 | A2 | Acc \n",
    "\n",
    "let start = A0\n",
    "\n",
    "let accept = function\n",
    "\t| Acc -> true\n",
    "\t| _ -> false\n",
    "\n",
    "let alphabet = function\n",
    "\t| 'a' | 'b' -> true\n",
    "\t| _ -> false\n",
    "\n",
    "let transit s c = \n",
    "\tif not (alphabet c) then raise (Invalid_argument \"Unexpected character!\")\n",
    "\telse\n",
    "\t\t match (s, c) with\n",
    "\t\t\t| A0, 'a' -> A1\n",
    "\t\t\t| A1, 'a' -> A2\n",
    "\t\t\t| A2, 'a' -> Acc\n",
    "\t\t\t| Acc, 'a' -> Acc\n",
    "\t\t\t| state, 'b' -> state\n",
    "\t\t\t| _ -> assert false\n",
    "\n",
    "let match_str str = \n",
    "\tlet len = String.length str in\n",
    "\tlet ls = List.init len (fun i -> String.get str i) in\n",
    "\tlet rec matching state = function\n",
    "\t\t| [] -> accept state\n",
    "\t\t| c :: cs -> \n",
    "\t\t\tlet state' = transit state c in\n",
    "\t\t\tmatching state' cs\n",
    "\tin\n",
    "\n",
    "\t\tmatching start ls\n",
    "\n",
    "let _ = match_str \"abababba\""
   ]
  }
 ],
 "metadata": {
  "language_info": {
   "name": "python"
  }
 },
 "nbformat": 4,
 "nbformat_minor": 5
}
