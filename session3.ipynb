{
 "cells": [
  {
   "cell_type": "markdown",
   "id": "64dd158a-833d-4dcf-a9b6-906c5775520b",
   "metadata": {},
   "source": [
    "## Session 3: Polymorphism, and more data types"
   ]
  },
  {
   "cell_type": "markdown",
   "id": "ea46d560",
   "metadata": {},
   "source": [
    "### Types and polymorphism"
   ]
  },
  {
   "cell_type": "markdown",
   "id": "fea0cd94",
   "metadata": {},
   "source": [
    "OCaml is a *statically typed* programming language, i.e. everything has a type and the program will not compile unless its typing is correct. For example, `3 + 0.1` is allowed in Python, because Python will automatically convert `3` (an integer) to `3.0` (a float), and perform floating-point addition. In OCaml, you get a type error:"
   ]
  },
  {
   "cell_type": "code",
   "execution_count": null,
   "id": "1f84ca94",
   "metadata": {
    "vscode": {
     "languageId": "plaintext"
    }
   },
   "outputs": [],
   "source": [
    "3 + 0.1"
   ]
  },
  {
   "cell_type": "markdown",
   "id": "606d24d1",
   "metadata": {},
   "source": [
    "The OCaml compiler knows the types of expressions by an algorithm called *type inference*. In `3 + 0.1`, it knows syntactically that `3` is a `int`, `+` is a function of type `int -> int -> int`, and `0.3` is a `float`. Since `float` is not `int`, it fails to match the type specification of `+`, and an error is produced."
   ]
  },
  {
   "cell_type": "markdown",
   "id": "18bc2af3",
   "metadata": {},
   "source": [
    "Functions like `+` and `-` act on specific types only, but there are some functions that are applicable to all types:"
   ]
  },
  {
   "cell_type": "code",
   "execution_count": null,
   "id": "51cabca6",
   "metadata": {
    "vscode": {
     "languageId": "plaintext"
    }
   },
   "outputs": [],
   "source": [
    "let duplicate x = (x, x)"
   ]
  },
  {
   "cell_type": "markdown",
   "id": "d92d130f",
   "metadata": {},
   "source": [
    "OCaml gives this function type `'a -> 'a * 'a`. Here, `'a` is a *type variable*, meaning that the input can be of any type, and the return value would be a pair of data of the input type. This is called *polymorphism*, which is often desirable when we want to reduce code duplication. OCaml compiler infers the most general type to a definition, but we can also specify the types ourselves."
   ]
  },
  {
   "cell_type": "code",
   "execution_count": null,
   "id": "41e34871",
   "metadata": {
    "vscode": {
     "languageId": "plaintext"
    }
   },
   "outputs": [],
   "source": [
    "let duplicate (x : int) : (int * int) = (x, x)"
   ]
  },
  {
   "cell_type": "markdown",
   "id": "a4235162",
   "metadata": {},
   "source": [
    "As an exercise, infer the types of the following functions. What operations do they perform?"
   ]
  },
  {
   "cell_type": "code",
   "execution_count": null,
   "id": "4caba791",
   "metadata": {
    "vscode": {
     "languageId": "plaintext"
    }
   },
   "outputs": [],
   "source": [
    "let id x = x"
   ]
  },
  {
   "cell_type": "code",
   "execution_count": null,
   "id": "f305e32a",
   "metadata": {
    "vscode": {
     "languageId": "plaintext"
    }
   },
   "outputs": [],
   "source": [
    "let drop x y = x"
   ]
  },
  {
   "cell_type": "code",
   "execution_count": null,
   "id": "b5f0dd33",
   "metadata": {
    "vscode": {
     "languageId": "plaintext"
    }
   },
   "outputs": [],
   "source": [
    "let swap f = (fun x y -> f y x)"
   ]
  },
  {
   "cell_type": "code",
   "execution_count": null,
   "id": "4175b2a7",
   "metadata": {
    "vscode": {
     "languageId": "plaintext"
    }
   },
   "outputs": [],
   "source": [
    "let compose g f = (fun x -> g (f x))"
   ]
  },
  {
   "cell_type": "code",
   "execution_count": null,
   "id": "4538ee7a",
   "metadata": {
    "vscode": {
     "languageId": "plaintext"
    }
   },
   "outputs": [],
   "source": [
    "let twice f = (fun x -> f (f x))"
   ]
  },
  {
   "cell_type": "code",
   "execution_count": null,
   "id": "d38d0689",
   "metadata": {
    "vscode": {
     "languageId": "plaintext"
    }
   },
   "outputs": [],
   "source": [
    "let rec iter f n x =\n",
    "  if n <= 0 then x\n",
    "  else f (iter f (n - 1) a)"
   ]
  },
  {
   "cell_type": "markdown",
   "id": "c577b7b1",
   "metadata": {},
   "source": [
    "### Binary numbers"
   ]
  },
  {
   "cell_type": "markdown",
   "id": "ceb6137a",
   "metadata": {},
   "source": [
    "We can represent binary numbers as a sequence of zeros (`O`) and ones (`I`), with the left-most symbol being the **least** significant bit, and a special symbol `End` marking the end (or, should I say, start) of a sequence. For example, the binary number 1010 (which is 10 in decimal) is represented as `O (I (O (I End)))`."
   ]
  },
  {
   "cell_type": "code",
   "execution_count": null,
   "id": "6e54f27b",
   "metadata": {
    "vscode": {
     "languageId": "plaintext"
    }
   },
   "outputs": [],
   "source": [
    "type bin = O of bin | I of bin | End"
   ]
  },
  {
   "cell_type": "markdown",
   "id": "24b282be",
   "metadata": {},
   "source": [
    "We can now create a library of binary-number related functions, starting from the following two:\n",
    "- `to_int : bin -> int` that converts a binary to an integer.\n",
    "-  `from_int : int -> bin` that creates a binary from an integer."
   ]
  },
  {
   "cell_type": "code",
   "execution_count": null,
   "id": "cdfa14ed",
   "metadata": {
    "vscode": {
     "languageId": "plaintext"
    }
   },
   "outputs": [],
   "source": [
    "let rec to_int b =\n",
    "  let rec to_int' res exp = function\n",
    "    | End -> res\n",
    "    | I b -> to_int' (res + exp) (exp * 2)\n",
    "    | O b -> to_int' res (exp * 2)\n",
    "  in\n",
    "    to_int' 0 1"
   ]
  },
  {
   "cell_type": "code",
   "execution_count": null,
   "id": "02133d41",
   "metadata": {
    "vscode": {
     "languageId": "plaintext"
    }
   },
   "outputs": [],
   "source": [
    "let from_int i = \n",
    "  if i = 0 then \n",
    "    End\n",
    "  else if (i mod 2 = 0) then\n",
    "    O (from_int (i / 2))\n",
    "  else\n",
    "    I (from_int (i / 2))"
   ]
  },
  {
   "cell_type": "markdown",
   "id": "c3427dd1",
   "metadata": {},
   "source": [
    "Note that `from_int` is not tail-recursive. It does not matter in practice, because its space complexity is $O(log(i))$, and since OCaml's largest integer is $2^{63} - 1$, it won't overflow our stack with just 63 nested calls."
   ]
  },
  {
   "cell_type": "markdown",
   "id": "cf4d8b13",
   "metadata": {},
   "source": [
    "We put the least significant bit at the front because it is easier to implement arithmetic operations, such as increment and addition:\n",
    "- `inc : bin -> bin` adds the binary number by one.\n",
    "- `add : bin -> bin` adds up two binary numbers."
   ]
  },
  {
   "cell_type": "code",
   "execution_count": null,
   "id": "de62f738",
   "metadata": {
    "vscode": {
     "languageId": "plaintext"
    }
   },
   "outputs": [],
   "source": [
    "let inc = function\n",
    "  | End -> I End\n",
    "  | I b -> O (inc b)\n",
    "  | O b -> I b"
   ]
  },
  {
   "cell_type": "markdown",
   "metadata": {},
   "source": [
    "There are two situations with addition, whether the current bit has a carrying bit or not. We can define a helper function `add' : bool -> bin -> bin -> bin` that takes an extra parameter to indicate the carrying bit, but, a mutual-recursive definition is sometimes easier to write and to understand."
   ]
  },
  {
   "cell_type": "code",
   "execution_count": null,
   "id": "1ed2d85e",
   "metadata": {
    "vscode": {
     "languageId": "plaintext"
    }
   },
   "outputs": [],
   "source": [
    "let rec add b1 b2 = \n",
    "  match (b1, b2) with\n",
    "  | End, b | b, End -> b\n",
    "  | O b1, O b2 -> O (add b1 b2)\n",
    "  | I b1, O b2 | O b1, I b2 -> I (add b1 b2)\n",
    "  | I b1, I b2 -> O (add_carry b1 b2)\n",
    "and\n",
    "add_carry b1 b2 = \n",
    "  match (b1, b2) with\n",
    "  | End, b | b, End -> inc b\n",
    "  | O b1, O b2 -> I (add b1 b2)\n",
    "  | I b1, O b2 | O b1, I b2 -> O (add_carry b1 b2)\n",
    "  | I b1, I b2 -> I (add_carry b1 b2)  "
   ]
  },
  {
   "cell_type": "markdown",
   "id": "d770ba1d",
   "metadata": {},
   "source": [
    "It would be fun to print these binary numbers as strings.\n",
    "- `bin_to_string : bin -> string` turns a binary number to a string."
   ]
  },
  {
   "cell_type": "code",
   "execution_count": null,
   "id": "db2fcc2e",
   "metadata": {
    "vscode": {
     "languageId": "plaintext"
    }
   },
   "outputs": [],
   "source": [
    "let bin_to_string b = \n",
    "  let rec bts s = function  \n",
    "  | End -> s\n",
    "  | O b -> bts (\"0\" ^ s) b\n",
    "  | I b -> bts (\"1\" ^ s) b"
   ]
  },
  {
   "cell_type": "markdown",
   "id": "117bb04a",
   "metadata": {},
   "source": [
    "### Generating trees"
   ]
  },
  {
   "cell_type": "markdown",
   "id": "4031afb8",
   "metadata": {},
   "source": [
    "We learned how to represent trees and how to map, fold over a tree. Now we look at ways to generate int-valued trees with certain patterns.\n",
    "\n",
    "- `ftree : int -> int -> int tree` generates a balanced tree with `k` on the top and `n` levels. For example, `ftree 1 3` gives a tree like `1; 2 3; 4 5 6 7`.\n",
    "- `farr : int -> int tree` generates a functional array of size $2^n - 1$, where $n$ is the function argument. For example, `farr 3` gives a tree like `1; 2 4; 3 6 5 7`."
   ]
  },
  {
   "cell_type": "markdown",
   "id": "c4c9efdf",
   "metadata": {},
   "source": [
    "Key to generating these trees is to find the invariant between a node and its two children. For trees generated by `ftree`, the values of a node, its left child, and its right child satisfies $(n, l, r) = (k, 2k, 2k + 1)$. So, we give a recursive definition like the following:"
   ]
  },
  {
   "cell_type": "code",
   "execution_count": null,
   "id": "360caf69",
   "metadata": {
    "vscode": {
     "languageId": "plaintext"
    }
   },
   "outputs": [],
   "source": [
    "let rec ftree k n =\n",
    "\tif n = 0 then Lf\n",
    "\telse Br (k, ftree (2 * k) (n - 1), ftree (2 * k + 1) (n - 1))"
   ]
  },
  {
   "cell_type": "markdown",
   "id": "bed1d3f2",
   "metadata": {},
   "source": [
    "Similarly, for trees generated by `farr`, a node and its two children satisfies $(n, l, r) = (k, k + s, k + 2s)$, where $s = 2^l$, $l$ is the node's level."
   ]
  },
  {
   "cell_type": "code",
   "execution_count": null,
   "id": "75937f53",
   "metadata": {
    "vscode": {
     "languageId": "plaintext"
    }
   },
   "outputs": [],
   "source": [
    "let ftree n = \n",
    "  let rec ftree' n k s =\n",
    "    if n = 0 then Lf\n",
    "    else Br (k, farr' (n - 1) (k + s) (s * 2), farr' (n - 1) (k + s * 2) (s * 2))\n",
    "  in\n",
    "    ftree' 1 1"
   ]
  }
 ],
 "metadata": {
  "kernelspec": {
   "display_name": "OCaml 4.14.1",
   "language": "OCaml",
   "name": "ocaml-jupyter"
  },
  "language_info": {
   "codemirror_mode": "text/x-ocaml",
   "file_extension": ".ml",
   "mimetype": "text/x-ocaml",
   "name": "OCaml",
   "nbconverter_exporter": null,
   "pygments_lexer": "OCaml",
   "version": "4.14.1"
  }
 },
 "nbformat": 4,
 "nbformat_minor": 5
}
