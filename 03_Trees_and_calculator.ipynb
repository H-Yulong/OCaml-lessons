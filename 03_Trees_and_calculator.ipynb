{
 "cells": [
  {
   "cell_type": "markdown",
   "id": "8acc1108",
   "metadata": {},
   "source": [
    "## Trees"
   ]
  },
  {
   "cell_type": "markdown",
   "id": "be6dd859",
   "metadata": {},
   "source": [
    "We'll cover the following topics in this notebook:\n",
    "- Tree operations: `map`, scanning, `fold`\n",
    "- Generating trees\n",
    "- Option type and its usage\n",
    "- Using datatypes to express a syntax tree\n",
    "- Implement an interpreter via pattern matching"
   ]
  },
  {
   "cell_type": "code",
   "execution_count": null,
   "id": "5492297c",
   "metadata": {
    "vscode": {
     "languageId": "plaintext"
    }
   },
   "outputs": [],
   "source": [
    "type 'a tree = Lf | Br of 'a * 'a tree * 'a tree"
   ]
  },
  {
   "cell_type": "markdown",
   "id": "3933728d",
   "metadata": {},
   "source": [
    "All data types have their corresponding versions of `map` and `fold`. Mapping a function `f` over a tree is simply distributing this function over all children nodes of the tree."
   ]
  },
  {
   "cell_type": "code",
   "execution_count": null,
   "id": "77925a66",
   "metadata": {
    "vscode": {
     "languageId": "plaintext"
    }
   },
   "outputs": [],
   "source": [
    "let rec map_tree f = function \n",
    "  | Lf -> Lf\n",
    "  | Br (a, t1, t2) -> Br (f a, map_tree f t1, map_tree f t2)"
   ]
  },
  {
   "cell_type": "markdown",
   "id": "516203b6",
   "metadata": {},
   "source": [
    "We can also define tree-scanning functions `mem`, `forall`, and `exist`, just like we did for lists."
   ]
  },
  {
   "cell_type": "code",
   "execution_count": null,
   "id": "b0318913",
   "metadata": {
    "vscode": {
     "languageId": "plaintext"
    }
   },
   "outputs": [],
   "source": [
    "let rec mem x = function\n",
    "  | Lf -> false\n",
    "  | Br (a, t1, t2) -> a = x || mem x t1 || mem x t2\n",
    "\n",
    "let rec forall f = function\n",
    "  | Lf -> true\n",
    "  | Br (a, t1, t2) -> f a && forall f t1 && forall f t2\n",
    "\n",
    "let rec exist f = function\n",
    "  | Lf -> false\n",
    "  | Br (a, t1, t2) -> f a || exist f t1 || exist f t2"
   ]
  },
  {
   "cell_type": "markdown",
   "id": "d9a2aa71",
   "metadata": {},
   "source": [
    "To better understand `fold`, we look at the special cases, `count` and `sum`."
   ]
  },
  {
   "cell_type": "code",
   "execution_count": null,
   "id": "07bd0620",
   "metadata": {
    "vscode": {
     "languageId": "plaintext"
    }
   },
   "outputs": [],
   "source": [
    "let rec count_tree = function \n",
    "  | Lf -> 0\n",
    "  | Br (a, t1, t2) -> 1 + (count_tree t1) + (count_tree t2)"
   ]
  },
  {
   "cell_type": "code",
   "execution_count": null,
   "id": "50a502b6",
   "metadata": {
    "vscode": {
     "languageId": "plaintext"
    }
   },
   "outputs": [],
   "source": [
    "let rec sum_tree = function \n",
    "  | Lf -> 0\n",
    "  | Br (a, t1, t2) -> a + (sum_tree t1) + (sum_tree t2)"
   ]
  },
  {
   "cell_type": "markdown",
   "id": "aa7fdb4d",
   "metadata": {},
   "source": [
    "Now, we can generalize the pattern here: at the base case, we return some initial value; at recursive case, we use a function `f : 'a -> 'b -> 'b -> 'b` to combine the values of the current node's element and the outcomes from the recursive calls on the two subtrees."
   ]
  },
  {
   "cell_type": "code",
   "execution_count": null,
   "id": "f4061c60",
   "metadata": {
    "vscode": {
     "languageId": "plaintext"
    }
   },
   "outputs": [],
   "source": [
    "let rec fold_tree init f = function  \n",
    "  | Lf -> init\n",
    "  | Br (a, t1, t2) -> f a (fold_tree init f t1) (fold_tree init f t2)"
   ]
  },
  {
   "cell_type": "markdown",
   "id": "6378eb5e",
   "metadata": {},
   "source": [
    "Using `fold_tree` to write the `depth` function:"
   ]
  },
  {
   "cell_type": "code",
   "execution_count": null,
   "id": "74c37cb6",
   "metadata": {
    "vscode": {
     "languageId": "plaintext"
    }
   },
   "outputs": [],
   "source": [
    "let rec depth = function  \n",
    "  | Lf -> 0\n",
    "  | Br (a, t1, t2) -> 1 + max (depth t1) (depth t2)"
   ]
  },
  {
   "cell_type": "code",
   "execution_count": null,
   "id": "4eeef2d2",
   "metadata": {
    "vscode": {
     "languageId": "plaintext"
    }
   },
   "outputs": [],
   "source": [
    "let depth tr = fold_tree 0 (fun a r1 r2 -> 1 + max r1 r2)"
   ]
  },
  {
   "cell_type": "markdown",
   "id": "9e242e08",
   "metadata": {},
   "source": [
    "### Generating trees"
   ]
  },
  {
   "cell_type": "markdown",
   "id": "5eb43455",
   "metadata": {},
   "source": [
    "We learned how to represent trees and how to map and fold over a tree. Now we look at ways to generate int-valued trees with certain patterns.\n",
    "\n",
    "- `ftree : int -> int -> int tree` generates a balanced tree with `k` on the top and `n` levels. For example, `ftree 1 3` gives a tree like `1 [2 [4 5]] [3 [6 7]]`.\n",
    "- `farr : int -> int tree` generates a functional array of size $2^n - 1$, where $n$ is the function argument. For example, `farr 3` gives a tree like `1 [2 [3 6]] [4 [5 7]]`"
   ]
  },
  {
   "cell_type": "markdown",
   "id": "9603edf9",
   "metadata": {},
   "source": [
    "Key to generating these trees is to find the invariant between a node and its two children. For trees generated by `ftree`, the values of a node, its left child, and its right child satisfies $(n, l, r) = (k, 2k, 2k + 1)$. So, we give a recursive definition like the following:"
   ]
  },
  {
   "cell_type": "code",
   "execution_count": null,
   "id": "ac180ad0",
   "metadata": {
    "vscode": {
     "languageId": "plaintext"
    }
   },
   "outputs": [],
   "source": [
    "let rec ftree k n =\n",
    "\tif n = 0 then Lf\n",
    "\telse Br (k, ftree (2 * k) (n - 1), ftree (2 * k + 1) (n - 1))"
   ]
  },
  {
   "cell_type": "markdown",
   "id": "1c571647",
   "metadata": {},
   "source": [
    "Similarly, for trees generated by `farr`, a node and its two children satisfies $(n, l, r) = (k, k + s, k + 2s)$, where $s = 2^l$, $l$ is the node's level."
   ]
  },
  {
   "cell_type": "code",
   "execution_count": null,
   "id": "251ab020",
   "metadata": {
    "vscode": {
     "languageId": "plaintext"
    }
   },
   "outputs": [],
   "source": [
    "let farr n = \n",
    "  let rec farr' n k s =\n",
    "    if n = 0 then Lf\n",
    "    else Br (k, farr' (n - 1) (k + s) (s * 2), farr' (n - 1) (k + s * 2) (s * 2))\n",
    "  in\n",
    "    farr' n 1 1"
   ]
  },
  {
   "cell_type": "markdown",
   "id": "62bace4c",
   "metadata": {},
   "source": [
    "### Option types"
   ]
  },
  {
   "cell_type": "markdown",
   "id": "bd47f672",
   "metadata": {},
   "source": [
    "We can define an option type to represent values that could be an error."
   ]
  },
  {
   "cell_type": "code",
   "execution_count": null,
   "id": "9a4ed8ec",
   "metadata": {
    "vscode": {
     "languageId": "plaintext"
    }
   },
   "outputs": [],
   "source": [
    "type 'a option = None | Some of 'a"
   ]
  },
  {
   "cell_type": "markdown",
   "id": "3d84d4c8",
   "metadata": {},
   "source": [
    "The option type is perfect for operations that might result in error, but we don't want to throw exceptions. For example, we can define `find` for list with exceptions as the follows."
   ]
  },
  {
   "cell_type": "code",
   "execution_count": null,
   "id": "a1cf2ffc",
   "metadata": {
    "vscode": {
     "languageId": "plaintext"
    }
   },
   "outputs": [],
   "source": [
    "let rec find f = function\n",
    "  | [] -> raise Not_found\n",
    "  | x :: xs -> if f x then x else find f xs"
   ]
  },
  {
   "cell_type": "markdown",
   "id": "59b2fed4",
   "metadata": {},
   "source": [
    "This definition has type `('a -> bool) -> 'a list -> 'a`. At the case of empty list, we can't find an element of type `'a`, so we have to throw an exception. Alternatively, we can make its type be `('a -> bool) -> 'a list -> 'a option`, and return `None` at the base case."
   ]
  },
  {
   "cell_type": "code",
   "execution_count": null,
   "id": "d402df5d",
   "metadata": {
    "vscode": {
     "languageId": "plaintext"
    }
   },
   "outputs": [],
   "source": [
    "let rec find_opt f = function \n",
    "  | [] -> None\n",
    "  | x :: xs -> if f x then Some x else find f xs"
   ]
  },
  {
   "cell_type": "markdown",
   "id": "5d503572",
   "metadata": {},
   "source": [
    "It's very common to define a bind operation for option type. Given a function of type `'a -> 'b option` and some `'a option`, if the option value is `Some x`, then apply the function to `x`, otherwise, we propogate the `None` forward. This is usually written as an infix symbol (>>), so that we can bind many operations together like a chain: `Some x >> f >> g >> ...`."
   ]
  },
  {
   "cell_type": "code",
   "execution_count": null,
   "id": "3c1da7e4",
   "metadata": {
    "vscode": {
     "languageId": "plaintext"
    }
   },
   "outputs": [],
   "source": [
    "let (>>) x f = match x with\n",
    "  | None -> None \n",
    "  | Some x -> f x"
   ]
  },
  {
   "cell_type": "markdown",
   "id": "7fa52ddd",
   "metadata": {},
   "source": [
    "### Calculator"
   ]
  },
  {
   "cell_type": "markdown",
   "id": "68d8e90b",
   "metadata": {},
   "source": [
    "An arithmetic expression, like `2 + 3 * 5`, can be parsed as `ADD 2 (MULT 3 5)`, which has a tree-like structure. The leaf nodes contain an integer, and the branch nodes are annotated with different operators like `ADD` and `MULT`. We call these structures abstract syntax trees, and we can describe them easily with a datatype similar to trees."
   ]
  },
  {
   "cell_type": "code",
   "execution_count": null,
   "id": "b2303141",
   "metadata": {
    "vscode": {
     "languageId": "plaintext"
    }
   },
   "outputs": [],
   "source": [
    "data expr = \n",
    "  | INT of int\n",
    "  | ADD of int * int\n",
    "  | SUB of int * int\n",
    "  | MULT of int * int\n",
    "  | DIV of int * int"
   ]
  },
  {
   "cell_type": "markdown",
   "id": "3a432c16",
   "metadata": {},
   "source": [
    "Then, we can write an recursive function to calculate an `expr`, which we call `interp`. This function should take an `expr` as input and returns `int option` as output, since it might go wrong if we divide by zero. That makes our coding slightly more complicated, since we need to think about how to add/subtract/multiply a `None` and a `Some`."
   ]
  },
  {
   "cell_type": "code",
   "execution_count": null,
   "id": "8329ebc3",
   "metadata": {
    "vscode": {
     "languageId": "plaintext"
    }
   },
   "outputs": [],
   "source": [
    "let bop f x y = match (x , y) with\n",
    "  | None , _ | _ , None -> None \n",
    "  | Some x , Some y -> Some (f x y)\n",
    "\n",
    "let div x y = match (x , y) with\n",
    "  | None , _ | _ , None | _ , Some 0 -> None \n",
    "  | Some x , Some y -> x / y\n",
    "\n",
    "let rec interp = function\n",
    "  | INT n -> Some n\n",
    "  | ADD (e1 , e2) -> bop (+) (interp e1) (interp e2)\n",
    "  | SUB (e1 , e2) -> bop (-) (interp e1) (interp e2)\n",
    "  | MULT (e1 , e2) -> bop (*) (interp e1) (interp e2)\n",
    "  | DIV (e1 , e2) -> div (interp e1) (interp e2)"
   ]
  },
  {
   "cell_type": "markdown",
   "id": "2615c662",
   "metadata": {},
   "source": [
    "We can now try to compute some expressions!"
   ]
  },
  {
   "cell_type": "code",
   "execution_count": null,
   "id": "8976aac6",
   "metadata": {
    "vscode": {
     "languageId": "plaintext"
    }
   },
   "outputs": [],
   "source": [
    "ADD(INT 2, MULT(INT 3, INT 5))"
   ]
  },
  {
   "cell_type": "code",
   "execution_count": null,
   "id": "edd9c97d",
   "metadata": {
    "vscode": {
     "languageId": "plaintext"
    }
   },
   "outputs": [],
   "source": [
    "DIV(ADD(INT 1, INT 4), SUB(INT 3, INT 3))"
   ]
  },
  {
   "cell_type": "code",
   "execution_count": null,
   "id": "16bb2f49",
   "metadata": {
    "vscode": {
     "languageId": "plaintext"
    }
   },
   "outputs": [],
   "source": [
    "ADD(INT 1, DIV(INT 4, INT 0))"
   ]
  }
 ],
 "metadata": {
  "language_info": {
   "name": "python"
  }
 },
 "nbformat": 4,
 "nbformat_minor": 5
}
