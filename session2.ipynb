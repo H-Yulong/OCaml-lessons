{
 "cells": [
  {
   "cell_type": "markdown",
   "id": "64dd158a-833d-4dcf-a9b6-906c5775520b",
   "metadata": {},
   "source": [
    "## Session 2: Manipulating data structures"
   ]
  },
  {
   "cell_type": "markdown",
   "id": "7f87c4ad",
   "metadata": {},
   "source": [
    "Today, we begin with a few more complicated operations from [Lists](https://ocaml.org/manual/5.2/api/List.html) that we did not cover last time."
   ]
  },
  {
   "cell_type": "markdown",
   "id": "cb641b27-25e2-470a-8fa8-f0d027edcbc8",
   "metadata": {},
   "source": [
    "> `filter : ('a -> bool) -> 'a list -> 'a list`\n",
    ">\n",
    "> &emsp; `filter f l` returns all the elements of the list `l` that satisfy the predicate `f`. The order of the elements in the input list is preserved."
   ]
  },
  {
   "cell_type": "code",
   "execution_count": 1,
   "id": "01f20457-3507-4117-aa7a-89f0b3cbecd9",
   "metadata": {
    "vscode": {
     "languageId": "ocaml"
    }
   },
   "outputs": [
    {
     "data": {
      "text/plain": [
       "val length : 'a list -> int = <fun>\n"
      ]
     },
     "execution_count": 1,
     "metadata": {},
     "output_type": "execute_result"
    }
   ],
   "source": [
    "let rec filter f = function\n",
    "    | [] -> [] \n",
    "    | x :: xs -> \n",
    "        if (f x) then\n",
    "            x :: (filter f xs)\n",
    "        else\n",
    "            filter f xs"
   ]
  },
  {
   "cell_type": "markdown",
   "id": "ce5e0004",
   "metadata": {},
   "source": [
    "Like `map` and `mapi`, we have `filter` and `filteri` for the slightly more complicated situations.\n",
    "\n",
    "> `filteri : (int -> 'a -> bool) -> 'a list -> 'a list`\n",
    ">\n",
    "> &emsp; Same as `List.filter`, but the predicate is applied to the index of the element as first argument (counting from 0), and the element itself as second argument."
   ]
  },
  {
   "cell_type": "code",
   "execution_count": null,
   "id": "63bfe9ea",
   "metadata": {
    "vscode": {
     "languageId": "plaintext"
    }
   },
   "outputs": [],
   "source": [
    "let rec filteri' f i = function\n",
    "    | [] -> [] \n",
    "    | x :: xs -> \n",
    "        if (f x i) then\n",
    "            x :: (filter f xs (i + 1))\n",
    "        else\n",
    "            filter f xs (i + 1)"
   ]
  },
  {
   "cell_type": "code",
   "execution_count": null,
   "id": "553d72f9",
   "metadata": {
    "vscode": {
     "languageId": "plaintext"
    }
   },
   "outputs": [],
   "source": [
    "let filteri xs = filteri' f 0 xs"
   ]
  },
  {
   "cell_type": "markdown",
   "id": "f8c212cb",
   "metadata": {},
   "source": [
    "For example, if we want to remove all elements in the list that at positions `3, 6, 9, ...` (in OCaml, the modulo operator is `%`):"
   ]
  },
  {
   "cell_type": "code",
   "execution_count": null,
   "id": "60098a7d",
   "metadata": {
    "vscode": {
     "languageId": "plaintext"
    }
   },
   "outputs": [],
   "source": [
    "let filter_3m xs = filteri (fun i x -> i % 3 = 0) xs"
   ]
  },
  {
   "cell_type": "code",
   "execution_count": null,
   "id": "84c78344",
   "metadata": {
    "vscode": {
     "languageId": "plaintext"
    }
   },
   "outputs": [],
   "source": [
    "filter_3m [0; 1; 2; 3; 4; 5; 6; 7; 8; 9; 10; 11; 12]"
   ]
  },
  {
   "cell_type": "markdown",
   "id": "05c03696",
   "metadata": {},
   "source": [
    "Now, let us solve a few exercise questions, directly and using the library functions we learned today and yesterday.\n",
    "\n",
    "1. (a) Write a function `product` so that `product [a; b; c; d]`\n",
    "   computes the product `a * b * c * d`.\n",
    "\n",
    "   (b) Write a tail-recursive version of `product`.\n",
    "   \n",
    "   (c) What does `product [-1;-2;0;1;2;3]` return?  Is your\n",
    "   implementation as efficient as possible?\n"
   ]
  },
  {
   "cell_type": "code",
   "execution_count": null,
   "id": "4022678e",
   "metadata": {
    "vscode": {
     "languageId": "plaintext"
    }
   },
   "outputs": [],
   "source": [
    "Part (a) is simply an instance of the fold function, but let's complete it in the straightforward way, in order to do part (b)."
   ]
  },
  {
   "cell_type": "code",
   "execution_count": null,
   "id": "c4d6a0d4",
   "metadata": {
    "vscode": {
     "languageId": "plaintext"
    }
   },
   "outputs": [],
   "source": [
    "let product xs = List.fold (*) 1 xs"
   ]
  },
  {
   "cell_type": "code",
   "execution_count": null,
   "id": "91a76bb2",
   "metadata": {
    "vscode": {
     "languageId": "plaintext"
    }
   },
   "outputs": [],
   "source": [
    "let product = function\n",
    "  | [] -> 1\n",
    "  | x :: xs -> x * (product xs)"
   ]
  },
  {
   "cell_type": "markdown",
   "id": "d913e946",
   "metadata": {},
   "source": [
    "Part (b) is done via an accumulator."
   ]
  },
  {
   "cell_type": "code",
   "execution_count": null,
   "id": "4d6ddc8c",
   "metadata": {
    "vscode": {
     "languageId": "plaintext"
    }
   },
   "outputs": [],
   "source": [
    "let product' acc = function\n",
    "  | [] -> acc\n",
    "  | x :: xs -> product' (x * acc) xs"
   ]
  },
  {
   "cell_type": "code",
   "execution_count": null,
   "id": "65d20762",
   "metadata": {
    "vscode": {
     "languageId": "plaintext"
    }
   },
   "outputs": [],
   "source": [
    "let product xs = product' 1 xs"
   ]
  },
  {
   "cell_type": "markdown",
   "id": "687715e3",
   "metadata": {},
   "source": [
    "For part (c), we know that everything times zero is zero, so the function should immediately return zero when it sees a zero in the list, to have better time efficiency. Note that we could use OCaml's pattern matching to do the comparison for us."
   ]
  },
  {
   "cell_type": "code",
   "execution_count": null,
   "id": "36461d26",
   "metadata": {
    "vscode": {
     "languageId": "plaintext"
    }
   },
   "outputs": [],
   "source": [
    "let product' acc = function\n",
    "  | [] -> acc\n",
    "  | 0 :: _ -> 0\n",
    "  | x :: xs -> product' (x * acc) xs"
   ]
  },
  {
   "cell_type": "code",
   "execution_count": null,
   "id": "51138e06",
   "metadata": {
    "vscode": {
     "languageId": "plaintext"
    }
   },
   "outputs": [],
   "source": [
    "let product xs = product' 1 xs"
   ]
  },
  {
   "cell_type": "markdown",
   "id": "fc867227",
   "metadata": {},
   "source": [
    "2. Write a function `count` so that `count x xs` returns the number of\n",
    "   times `x` occurs in `xs`.\n",
    "\n",
    "We start with the simplest way of implementing it."
   ]
  },
  {
   "cell_type": "code",
   "execution_count": null,
   "id": "765ba02b",
   "metadata": {
    "vscode": {
     "languageId": "plaintext"
    }
   },
   "outputs": [],
   "source": [
    "let rec count x = function\n",
    "  | [] -> 0\n",
    "  | y :: ys -> \n",
    "      if y = x then\n",
    "        1 + (count x xs)\n",
    "      else\n",
    "        count x xs"
   ]
  },
  {
   "cell_type": "markdown",
   "id": "2f79a1eb",
   "metadata": {},
   "source": [
    "It is not hard to see that this function could be easily turned into a tail-recursive one, using the accumulator to store the count."
   ]
  },
  {
   "cell_type": "code",
   "execution_count": null,
   "id": "6893b564",
   "metadata": {
    "vscode": {
     "languageId": "plaintext"
    }
   },
   "outputs": [],
   "source": [
    "let rec count' x acc = function\n",
    "  | [] -> acc\n",
    "  | y :: ys -> \n",
    "      if y = x then count' x (acc + 1) ys\n",
    "      else count' x acc ys"
   ]
  },
  {
   "cell_type": "code",
   "execution_count": null,
   "id": "f4edc4c0",
   "metadata": {
    "vscode": {
     "languageId": "plaintext"
    }
   },
   "outputs": [],
   "source": [
    "let count x xs = count' x 0 xs"
   ]
  },
  {
   "cell_type": "markdown",
   "id": "83246f1d",
   "metadata": {},
   "source": [
    "\n",
    "3. Write a function `repeat` so that `repeat n x` returns a list with\n",
    "   `n` copies of `x`.  For example, `repeat 4 10` should return the\n",
    "   list `[10; 10; 10; 10]`."
   ]
  },
  {
   "cell_type": "markdown",
   "id": "e38dadcb",
   "metadata": {},
   "source": [
    "We get `repeat` by calling `List.init` with a constant function that always returns `x`."
   ]
  },
  {
   "cell_type": "code",
   "execution_count": null,
   "id": "6f1a238d",
   "metadata": {
    "vscode": {
     "languageId": "plaintext"
    }
   },
   "outputs": [],
   "source": [
    "let repeat n x = List.init n (fun _ -> x)"
   ]
  },
  {
   "cell_type": "markdown",
   "id": "dcee62c0",
   "metadata": {},
   "source": [
    "\n",
    "4. Write a function `shorter` so that `shorter xs ys` returns the\n",
    "   shorter of the two lists `xs` and `ys`.  Can you avoid examining\n",
    "   every cons cell in each list?"
   ]
  },
  {
   "cell_type": "markdown",
   "id": "0120e56b",
   "metadata": {},
   "source": [
    "To do this, we first define a function that compares the lengths of `xs` and `ys`. Note that this is provided in the standard library:\n",
    "> `compare_lengths : 'a list -> 'b list -> int`\n",
    "> \n",
    "> Compare the lengths of two lists. `compare_lengths l1 l2` is equivalent to `compare (length l1) (length l2)`, except that the computation stops after reaching the end of the shortest list."
   ]
  },
  {
   "cell_type": "code",
   "execution_count": null,
   "id": "334679e3",
   "metadata": {
    "vscode": {
     "languageId": "plaintext"
    }
   },
   "outputs": [],
   "source": [
    "let rec compare_lengths xs ys = \n",
    "  match (xs, ys) with\n",
    "    | [] , [] -> 0\n",
    "    | [] , _ :: _ -> -1\n",
    "    | _ :: _ , [] -> 1\n",
    "    | _ :: xs, _ :: ys -> compare_lengths xs ys"
   ]
  },
  {
   "cell_type": "code",
   "execution_count": null,
   "id": "7d779b60",
   "metadata": {
    "vscode": {
     "languageId": "plaintext"
    }
   },
   "outputs": [],
   "source": [
    "let compare xs ys = \n",
    "  if compare_lengths >= 0 then xs\n",
    "  else ys"
   ]
  },
  {
   "cell_type": "markdown",
   "id": "2ec27c94",
   "metadata": {},
   "source": [
    "5. Write a function `is_sorted` to detect if a list is already in sorted order."
   ]
  },
  {
   "cell_type": "markdown",
   "id": "fe5c6153",
   "metadata": {},
   "source": [
    "This is another example of fancy pattern matching: we could match for a singleton list, or a list with at least two elements."
   ]
  },
  {
   "cell_type": "code",
   "execution_count": null,
   "id": "2632d7f2",
   "metadata": {
    "vscode": {
     "languageId": "plaintext"
    }
   },
   "outputs": [],
   "source": [
    "let is_sorted = function\n",
    "  | [] -> true\n",
    "  | [_] -> true\n",
    "  | x1 :: x2 :: xs -> (x1 <= x2) && (sorted (x2 :: xs))"
   ]
  }
 ],
 "metadata": {
  "kernelspec": {
   "display_name": "OCaml 4.14.1",
   "language": "OCaml",
   "name": "ocaml-jupyter"
  },
  "language_info": {
   "codemirror_mode": "text/x-ocaml",
   "file_extension": ".ml",
   "mimetype": "text/x-ocaml",
   "name": "OCaml",
   "nbconverter_exporter": null,
   "pygments_lexer": "OCaml",
   "version": "4.14.1"
  }
 },
 "nbformat": 4,
 "nbformat_minor": 5
}
