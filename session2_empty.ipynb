{
 "cells": [
  {
   "cell_type": "markdown",
   "id": "64dd158a-833d-4dcf-a9b6-906c5775520b",
   "metadata": {},
   "source": [
    "## Session 2: Manipulating data structures"
   ]
  },
  {
   "cell_type": "markdown",
   "id": "7f87c4ad",
   "metadata": {},
   "source": [
    "Today, we begin with a few more complicated operations from [Lists](https://ocaml.org/manual/5.2/api/List.html) that we did not cover last time."
   ]
  },
  {
   "cell_type": "markdown",
   "id": "cb641b27-25e2-470a-8fa8-f0d027edcbc8",
   "metadata": {},
   "source": [
    "> `filter : ('a -> bool) -> 'a list -> 'a list`\n",
    ">\n",
    "> &emsp; `filter f l` returns all the elements of the list `l` that satisfy the predicate `f`. The order of the elements in the input list is preserved."
   ]
  },
  {
   "cell_type": "code",
   "execution_count": 1,
   "id": "01f20457-3507-4117-aa7a-89f0b3cbecd9",
   "metadata": {
    "vscode": {
     "languageId": "ocaml"
    }
   },
   "outputs": [
    {
     "data": {
      "text/plain": [
       "val length : 'a list -> int = <fun>\n"
      ]
     },
     "execution_count": 1,
     "metadata": {},
     "output_type": "execute_result"
    }
   ],
   "source": []
  },
  {
   "cell_type": "markdown",
   "id": "ce5e0004",
   "metadata": {},
   "source": [
    "Like `map` and `mapi`, we have `filter` and `filteri` for the slightly more complicated situations.\n",
    "\n",
    "> `filteri : (int -> 'a -> bool) -> 'a list -> 'a list`\n",
    ">\n",
    "> &emsp; Same as `List.filter`, but the predicate is applied to the index of the element as first argument (counting from 0), and the element itself as second argument."
   ]
  },
  {
   "cell_type": "code",
   "execution_count": null,
   "id": "63bfe9ea",
   "metadata": {
    "vscode": {
     "languageId": "plaintext"
    }
   },
   "outputs": [],
   "source": []
  },
  {
   "cell_type": "code",
   "execution_count": null,
   "id": "553d72f9",
   "metadata": {
    "vscode": {
     "languageId": "plaintext"
    }
   },
   "outputs": [],
   "source": []
  },
  {
   "cell_type": "markdown",
   "id": "f8c212cb",
   "metadata": {},
   "source": [
    "For example, if we want to remove all elements in the list that at positions `3, 6, 9, ...`:"
   ]
  },
  {
   "cell_type": "code",
   "execution_count": null,
   "id": "60098a7d",
   "metadata": {
    "vscode": {
     "languageId": "plaintext"
    }
   },
   "outputs": [],
   "source": []
  },
  {
   "cell_type": "code",
   "execution_count": null,
   "id": "84c78344",
   "metadata": {
    "vscode": {
     "languageId": "plaintext"
    }
   },
   "outputs": [],
   "source": [
    "filter_3m [0; 1; 2; 3; 4; 5; 6; 7; 8; 9; 10; 11; 12]"
   ]
  },
  {
   "cell_type": "markdown",
   "id": "05c03696",
   "metadata": {},
   "source": [
    "Now, let us solve a few exercise questions, directly and using the library functions we learned today and yesterday.\n",
    "\n",
    "1. (a) Write a function `product` so that `product [a; b; c; d]`\n",
    "   computes the product `a * b * c * d`.\n",
    "\n",
    "   (b) Write a tail-recursive version of `product`.\n",
    "   \n",
    "   (c) What does `product [-1;-2;0;1;2;3]` return?  Is your\n",
    "   implementation as efficient as possible?\n"
   ]
  },
  {
   "cell_type": "markdown",
   "id": "001f7c8c",
   "metadata": {},
   "source": [
    "Part (a) is simply an instance of the fold function, but let's complete it in the straightforward way, in order to do part (b)."
   ]
  },
  {
   "cell_type": "code",
   "execution_count": null,
   "id": "c4d6a0d4",
   "metadata": {
    "vscode": {
     "languageId": "plaintext"
    }
   },
   "outputs": [],
   "source": []
  },
  {
   "cell_type": "code",
   "execution_count": null,
   "id": "91a76bb2",
   "metadata": {
    "vscode": {
     "languageId": "plaintext"
    }
   },
   "outputs": [],
   "source": []
  },
  {
   "cell_type": "markdown",
   "id": "d913e946",
   "metadata": {},
   "source": [
    "Part (b) is done via an accumulator."
   ]
  },
  {
   "cell_type": "code",
   "execution_count": null,
   "id": "4d6ddc8c",
   "metadata": {
    "vscode": {
     "languageId": "plaintext"
    }
   },
   "outputs": [],
   "source": []
  },
  {
   "cell_type": "code",
   "execution_count": null,
   "id": "65d20762",
   "metadata": {
    "vscode": {
     "languageId": "plaintext"
    }
   },
   "outputs": [],
   "source": []
  },
  {
   "cell_type": "markdown",
   "id": "687715e3",
   "metadata": {},
   "source": [
    "For part (c), we know that everything times zero is zero, so the function should immediately return zero when it sees a zero in the list, to have better time efficiency. Note that we could use OCaml's pattern matching to do the comparison for us."
   ]
  },
  {
   "cell_type": "code",
   "execution_count": null,
   "id": "36461d26",
   "metadata": {
    "vscode": {
     "languageId": "plaintext"
    }
   },
   "outputs": [],
   "source": []
  },
  {
   "cell_type": "code",
   "execution_count": null,
   "id": "51138e06",
   "metadata": {
    "vscode": {
     "languageId": "plaintext"
    }
   },
   "outputs": [],
   "source": []
  },
  {
   "cell_type": "markdown",
   "id": "fc867227",
   "metadata": {},
   "source": [
    "2. Write a function `count` so that `count x xs` returns the number of\n",
    "   times `x` occurs in `xs`.\n",
    "\n",
    "We start with the simplest way of implementing it."
   ]
  },
  {
   "cell_type": "code",
   "execution_count": null,
   "id": "765ba02b",
   "metadata": {
    "vscode": {
     "languageId": "plaintext"
    }
   },
   "outputs": [],
   "source": []
  },
  {
   "cell_type": "markdown",
   "id": "2f79a1eb",
   "metadata": {},
   "source": [
    "It is not hard to see that this function could be easily turned into a tail-recursive one, using the accumulator to store the count."
   ]
  },
  {
   "cell_type": "code",
   "execution_count": null,
   "id": "6893b564",
   "metadata": {
    "vscode": {
     "languageId": "plaintext"
    }
   },
   "outputs": [],
   "source": []
  },
  {
   "cell_type": "code",
   "execution_count": null,
   "id": "f4edc4c0",
   "metadata": {
    "vscode": {
     "languageId": "plaintext"
    }
   },
   "outputs": [],
   "source": []
  },
  {
   "cell_type": "markdown",
   "id": "83246f1d",
   "metadata": {},
   "source": [
    "\n",
    "3. Write a function `repeat` so that `repeat n x` returns a list with\n",
    "   `n` copies of `x`.  For example, `repeat 4 10` should return the\n",
    "   list `[10; 10; 10; 10]`."
   ]
  },
  {
   "cell_type": "markdown",
   "id": "e38dadcb",
   "metadata": {},
   "source": [
    "We get `repeat` by calling `List.init` with a constant function that always returns `x`."
   ]
  },
  {
   "cell_type": "code",
   "execution_count": null,
   "id": "6f1a238d",
   "metadata": {
    "vscode": {
     "languageId": "plaintext"
    }
   },
   "outputs": [],
   "source": []
  },
  {
   "cell_type": "markdown",
   "id": "dcee62c0",
   "metadata": {},
   "source": [
    "\n",
    "4. Write a function `shorter` so that `shorter xs ys` returns the\n",
    "   shorter of the two lists `xs` and `ys`.  Can you avoid examining\n",
    "   every cons cell in each list?"
   ]
  },
  {
   "cell_type": "markdown",
   "id": "0120e56b",
   "metadata": {},
   "source": [
    "To do this, we first define a function that compares the lengths of `xs` and `ys`. Note that this is provided in the standard library:\n",
    "> `compare_lengths : 'a list -> 'b list -> int`\n",
    "> \n",
    "> Compare the lengths of two lists. `compare_lengths l1 l2` is equivalent to `compare (length l1) (length l2)`, except that the computation stops after reaching the end of the shortest list."
   ]
  },
  {
   "cell_type": "code",
   "execution_count": null,
   "id": "334679e3",
   "metadata": {
    "vscode": {
     "languageId": "plaintext"
    }
   },
   "outputs": [],
   "source": []
  },
  {
   "cell_type": "code",
   "execution_count": null,
   "id": "7d779b60",
   "metadata": {
    "vscode": {
     "languageId": "plaintext"
    }
   },
   "outputs": [],
   "source": []
  },
  {
   "cell_type": "markdown",
   "id": "2ec27c94",
   "metadata": {},
   "source": [
    "5. Write a function `is_sorted` to detect if a list is already in sorted order."
   ]
  },
  {
   "cell_type": "markdown",
   "id": "fe5c6153",
   "metadata": {},
   "source": [
    "This is another example of fancy pattern matching: we could match for a singleton list, or a list with at least two elements."
   ]
  },
  {
   "cell_type": "code",
   "execution_count": null,
   "id": "2632d7f2",
   "metadata": {
    "vscode": {
     "languageId": "plaintext"
    }
   },
   "outputs": [],
   "source": []
  },
  {
   "cell_type": "markdown",
   "id": "3f1e8313",
   "metadata": {},
   "source": [
    "Recall that we can represent `sum` with `List.fold_left`:"
   ]
  },
  {
   "cell_type": "code",
   "execution_count": null,
   "id": "18ecc87a",
   "metadata": {
    "vscode": {
     "languageId": "plaintext"
    }
   },
   "outputs": [],
   "source": []
  },
  {
   "cell_type": "markdown",
   "id": "8f41ebdb",
   "metadata": {},
   "source": [
    "We can represent a wide range of functions with `fold_left`, for example, the `length` function, as long as we know how to define a suitable `f`:"
   ]
  },
  {
   "cell_type": "code",
   "execution_count": null,
   "id": "c871bea7",
   "metadata": {
    "vscode": {
     "languageId": "plaintext"
    }
   },
   "outputs": [],
   "source": []
  },
  {
   "cell_type": "markdown",
   "id": "bce2d744",
   "metadata": {},
   "source": [
    "All data types have their corresponding versions of `map` and `fold`. Mapping a function `f` over a tree is simply distributing this function over all children nodes of the tree."
   ]
  },
  {
   "cell_type": "code",
   "execution_count": null,
   "id": "5f304755",
   "metadata": {
    "vscode": {
     "languageId": "plaintext"
    }
   },
   "outputs": [],
   "source": [
    "type 'a tree = Lf | Br of 'a * 'a tree * 'a tree"
   ]
  },
  {
   "cell_type": "code",
   "execution_count": null,
   "id": "7b07bce7",
   "metadata": {
    "vscode": {
     "languageId": "plaintext"
    }
   },
   "outputs": [],
   "source": []
  },
  {
   "cell_type": "markdown",
   "id": "b311554e",
   "metadata": {},
   "source": [
    "To better understand `fold`, we look at the special cases, `count` and `sum`."
   ]
  },
  {
   "cell_type": "code",
   "execution_count": null,
   "id": "ff9512e1",
   "metadata": {
    "vscode": {
     "languageId": "plaintext"
    }
   },
   "outputs": [],
   "source": []
  },
  {
   "cell_type": "code",
   "execution_count": null,
   "id": "72c9d2f1",
   "metadata": {
    "vscode": {
     "languageId": "plaintext"
    }
   },
   "outputs": [],
   "source": []
  },
  {
   "cell_type": "markdown",
   "id": "858e7ce9",
   "metadata": {},
   "source": [
    "Now, we can generalize the pattern here: at the base case, we return some initial value; at recursive case, we use a function `f : 'a -> 'b -> 'b -> 'b` to combine the values of the current node's element and the outcomes from the recursive calls on the two subtrees."
   ]
  },
  {
   "cell_type": "code",
   "execution_count": null,
   "id": "e44acd20",
   "metadata": {
    "vscode": {
     "languageId": "plaintext"
    }
   },
   "outputs": [],
   "source": []
  },
  {
   "cell_type": "markdown",
   "id": "4ccdca95",
   "metadata": {},
   "source": [
    "Using `fold_tree` to write the `depth` function:"
   ]
  },
  {
   "cell_type": "code",
   "execution_count": null,
   "id": "7d3bd68e",
   "metadata": {
    "vscode": {
     "languageId": "plaintext"
    }
   },
   "outputs": [],
   "source": []
  },
  {
   "cell_type": "code",
   "execution_count": null,
   "id": "9683b3a4",
   "metadata": {
    "vscode": {
     "languageId": "plaintext"
    }
   },
   "outputs": [],
   "source": []
  }
 ],
 "metadata": {
  "kernelspec": {
   "display_name": "OCaml 4.14.1",
   "language": "OCaml",
   "name": "ocaml-jupyter"
  },
  "language_info": {
   "codemirror_mode": "text/x-ocaml",
   "file_extension": ".ml",
   "mimetype": "text/x-ocaml",
   "name": "OCaml",
   "nbconverter_exporter": null,
   "pygments_lexer": "OCaml",
   "version": "4.14.1"
  }
 },
 "nbformat": 4,
 "nbformat_minor": 5
}
