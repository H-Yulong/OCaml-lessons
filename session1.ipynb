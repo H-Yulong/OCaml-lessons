{
 "cells": [
  {
   "cell_type": "markdown",
   "id": "64dd158a-833d-4dcf-a9b6-906c5775520b",
   "metadata": {},
   "source": [
    "## Session 1: The List standard library"
   ]
  },
  {
   "cell_type": "markdown",
   "id": "7f87c4ad",
   "metadata": {},
   "source": [
    "Modern programming languages often provide a standard library of commonly used data structures, functions and elementary operations, so that programmers do not need to re-implement these features themselves. One should consider using standard library functions because they are available across all implementations and (usually) well-suited for optimizations."
   ]
  },
  {
   "cell_type": "markdown",
   "id": "c2011af0",
   "metadata": {},
   "source": [
    "Today, we look at the standard library for [Lists](https://ocaml.org/manual/5.2/api/List.html).\n",
    "The library functions are given in the following format, showing its name, type, and a short description."
   ]
  },
  {
   "cell_type": "markdown",
   "id": "cb641b27-25e2-470a-8fa8-f0d027edcbc8",
   "metadata": {},
   "source": [
    "> `val length : 'a list -> int`\n",
    ">\n",
    "> &emsp; Return the length (number of elements) of the given list."
   ]
  },
  {
   "cell_type": "markdown",
   "id": "0e71a550",
   "metadata": {},
   "source": [
    "To warm up, let's try to write the (non tail-recursive) `length` function."
   ]
  },
  {
   "cell_type": "code",
   "execution_count": 1,
   "id": "01f20457-3507-4117-aa7a-89f0b3cbecd9",
   "metadata": {
    "vscode": {
     "languageId": "ocaml"
    }
   },
   "outputs": [
    {
     "data": {
      "text/plain": [
       "val length : 'a list -> int = <fun>\n"
      ]
     },
     "execution_count": 1,
     "metadata": {},
     "output_type": "execute_result"
    }
   ],
   "source": [
    "let rec length = function\n",
    "    | [] -> 0\n",
    "    | x :: xs -> 1 + length xs"
   ]
  },
  {
   "cell_type": "markdown",
   "id": "ce5e0004",
   "metadata": {},
   "source": [
    "Now, the tail-recursive version of `length`. Note that we do not need to know the value of the head, so we could just place an underscore \"wildcard\" there."
   ]
  },
  {
   "cell_type": "code",
   "execution_count": null,
   "id": "63bfe9ea",
   "metadata": {
    "vscode": {
     "languageId": "plaintext"
    }
   },
   "outputs": [],
   "source": [
    "let rec length' i = function\n",
    "  | [] -> i\n",
    "  | _ :: xs -> length' (i + 1) xs"
   ]
  },
  {
   "cell_type": "code",
   "execution_count": null,
   "id": "553d72f9",
   "metadata": {
    "vscode": {
     "languageId": "plaintext"
    }
   },
   "outputs": [],
   "source": [
    "let length xs = length' 0 xs"
   ]
  },
  {
   "cell_type": "markdown",
   "id": "e4bd56ed",
   "metadata": {},
   "source": [
    "How do we know if a library function is tail-recursive or not? Check the descriptions:\n",
    "\n",
    "> Some functions are flagged as not tail-recursive. A tail-recursive function uses constant stack space, while a non-tail-recursive function uses stack space proportional to the length of its list argument, which can be a problem with very long lists. When the function takes several list arguments, an approximate formula giving stack usage (in some unspecified constant unit) is shown in parentheses.\n",
    "> \n",
    "> The above considerations can usually be ignored if your lists are not longer than about 10000 elements.\n",
    "\n",
    "There is no flag on the `length` function, it means that `List.length` is tail recursive. Most functions in the library are tail recursive, for example, `rev`."
   ]
  },
  {
   "cell_type": "markdown",
   "id": "e41a3473",
   "metadata": {},
   "source": [
    "> `rev : 'a list -> 'a list`\n",
    ">\n",
    "> &emsp; List reversal."
   ]
  },
  {
   "cell_type": "code",
   "execution_count": null,
   "id": "f47d9acd",
   "metadata": {
    "vscode": {
     "languageId": "plaintext"
    }
   },
   "outputs": [],
   "source": [
    "let rec rev' acc = function\n",
    "  | [] -> acc\n",
    "  | x :: xs -> rev' (x :: acc) xs"
   ]
  },
  {
   "cell_type": "code",
   "execution_count": null,
   "id": "3da82bc0",
   "metadata": {
    "vscode": {
     "languageId": "plaintext"
    }
   },
   "outputs": [],
   "source": [
    "let rev xs = rev' [] xs"
   ]
  },
  {
   "cell_type": "markdown",
   "id": "da588dd8",
   "metadata": {},
   "source": [
    "The classic example of a non tail-recursive function is `append`.\n",
    "\n",
    "> `append : 'a list -> 'a list -> 'a list`\n",
    "> \n",
    "> Concatenate two lists. Same function as the infix operator @. Not tail-recursive (length of the first argument). The @ operator is not tail-recursive either.\n",
    "\n",
    "In OCaml, we can define infix operators like this:"
   ]
  },
  {
   "cell_type": "code",
   "execution_count": null,
   "id": "1f850364",
   "metadata": {
    "vscode": {
     "languageId": "plaintext"
    }
   },
   "outputs": [],
   "source": [
    "let rec (@) xs ys = \n",
    "  match (xs, ys) with\n",
    "  | [], ys -> ys\n",
    "  | x :: xs, ys -> x :: (xs @ ys)"
   ]
  },
  {
   "cell_type": "markdown",
   "id": "c67fd1cf",
   "metadata": {},
   "source": [
    "We have implemented some functions, and now is a good time to test them. We can use `init` to generate some test lists.\n",
    "\n",
    "> `init : int -> (int -> 'a) -> 'a list`\n",
    ">\n",
    "> `init len f` is `[f 0; f 1; ...; f (len-1)]`, evaluated left to right."
   ]
  },
  {
   "cell_type": "code",
   "execution_count": null,
   "id": "fac09a00",
   "metadata": {
    "vscode": {
     "languageId": "plaintext"
    }
   },
   "outputs": [],
   "source": [
    "let rec init' n f i =\n",
    "  if i < n then \n",
    "    (f i) :: (init' n f (i + 1))\n",
    "  else \n",
    "    []"
   ]
  },
  {
   "cell_type": "code",
   "execution_count": null,
   "id": "1cc187af",
   "metadata": {
    "vscode": {
     "languageId": "plaintext"
    }
   },
   "outputs": [],
   "source": [
    "let init n f = init' n f 0"
   ]
  },
  {
   "cell_type": "markdown",
   "id": "fadc462b",
   "metadata": {},
   "source": [
    "Or, the tail-recursive version, using reverse."
   ]
  },
  {
   "cell_type": "code",
   "execution_count": null,
   "id": "05e56a77",
   "metadata": {
    "vscode": {
     "languageId": "plaintext"
    }
   },
   "outputs": [],
   "source": [
    "let rec init' n f i acc =\n",
    "  if i < n then \n",
    "    init' n f (i + 1) (f i :: acc)\n",
    "  else\n",
    "    rev acc"
   ]
  },
  {
   "cell_type": "markdown",
   "id": "b0d6c702-96a9-486d-81aa-46e65f3fe220",
   "metadata": {},
   "source": [
    "`compare_lengths : 'a list -> 'b list -> int`"
   ]
  },
  {
   "cell_type": "code",
   "execution_count": 2,
   "id": "a3bb584c-4ebb-4e2a-91aa-259392a13a69",
   "metadata": {
    "vscode": {
     "languageId": "ocaml"
    }
   },
   "outputs": [
    {
     "data": {
      "text/plain": [
       "val compare_lengths : 'a list -> 'b list -> int = <fun>\n"
      ]
     },
     "execution_count": 2,
     "metadata": {},
     "output_type": "execute_result"
    }
   ],
   "source": [
    "let rec compare_lengths xs ys = match (xs, ys) with\n",
    "    | [], [] -> 0\n",
    "    | [], _ :: _ -> -1\n",
    "    | _ :: _ , [] -> 1\n",
    "    | _ :: xs, _ :: ys -> compare_lengths xs ys"
   ]
  },
  {
   "cell_type": "code",
   "execution_count": 3,
   "id": "9dc034ce-f1ae-4b35-9a34-c97f45784964",
   "metadata": {
    "vscode": {
     "languageId": "ocaml"
    }
   },
   "outputs": [
    {
     "data": {
      "text/plain": [
       "- : int = 1\n"
      ]
     },
     "execution_count": 3,
     "metadata": {},
     "output_type": "execute_result"
    }
   ],
   "source": [
    "let xs = [1;2;3;4;5] in\n",
    "let ys = ['a'; 'b'; 'c'] in\n",
    "compare_lengths xs ys"
   ]
  },
  {
   "cell_type": "code",
   "execution_count": null,
   "id": "ff37246c-d1c4-450c-8e97-13b9443ae2e6",
   "metadata": {
    "vscode": {
     "languageId": "ocaml"
    }
   },
   "outputs": [],
   "source": []
  }
 ],
 "metadata": {
  "kernelspec": {
   "display_name": "OCaml 4.14.1",
   "language": "OCaml",
   "name": "ocaml-jupyter"
  },
  "language_info": {
   "codemirror_mode": "text/x-ocaml",
   "file_extension": ".ml",
   "mimetype": "text/x-ocaml",
   "name": "OCaml",
   "nbconverter_exporter": null,
   "pygments_lexer": "OCaml",
   "version": "4.14.1"
  }
 },
 "nbformat": 4,
 "nbformat_minor": 5
}
